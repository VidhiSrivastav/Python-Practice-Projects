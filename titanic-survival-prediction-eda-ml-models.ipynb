{
 "cells": [
  {
   "cell_type": "code",
   "execution_count": 1,
   "id": "e54dc197",
   "metadata": {
    "_cell_guid": "b1076dfc-b9ad-4769-8c92-a6c4dae69d19",
    "_uuid": "8f2839f25d086af736a60e9eeb907d3b93b6e0e5",
    "execution": {
     "iopub.execute_input": "2023-03-13T05:41:17.695746Z",
     "iopub.status.busy": "2023-03-13T05:41:17.695323Z",
     "iopub.status.idle": "2023-03-13T05:41:17.709303Z",
     "shell.execute_reply": "2023-03-13T05:41:17.708147Z"
    },
    "papermill": {
     "duration": 0.032182,
     "end_time": "2023-03-13T05:41:17.712532",
     "exception": false,
     "start_time": "2023-03-13T05:41:17.680350",
     "status": "completed"
    },
    "tags": []
   },
   "outputs": [
    {
     "name": "stdout",
     "output_type": "stream",
     "text": [
      "/kaggle/input/titanic/train.csv\n",
      "/kaggle/input/titanic/test.csv\n",
      "/kaggle/input/titanic/gender_submission.csv\n"
     ]
    }
   ],
   "source": [
    "# This Python 3 environment comes with many helpful analytics libraries installed\n",
    "# It is defined by the kaggle/python Docker image: https://github.com/kaggle/docker-python\n",
    "# For example, here's several helpful packages to load\n",
    "\n",
    "import numpy as np # linear algebra\n",
    "import pandas as pd # data processing, CSV file I/O (e.g. pd.read_csv)\n",
    "\n",
    "# Input data files are available in the read-only \"../input/\" directory\n",
    "# For example, running this (by clicking run or pressing Shift+Enter) will list all files under the input directory\n",
    "\n",
    "import os\n",
    "for dirname, _, filenames in os.walk('/kaggle/input'):\n",
    "    for filename in filenames:\n",
    "        print(os.path.join(dirname, filename))\n",
    "\n",
    "# You can write up to 20GB to the current directory (/kaggle/working/) that gets preserved as output when you create a version using \"Save & Run All\" \n",
    "# You can also write temporary files to /kaggle/temp/, but they won't be saved outside of the current session"
   ]
  },
  {
   "cell_type": "code",
   "execution_count": 2,
   "id": "5c1591a2",
   "metadata": {
    "execution": {
     "iopub.execute_input": "2023-03-13T05:41:17.740570Z",
     "iopub.status.busy": "2023-03-13T05:41:17.740155Z",
     "iopub.status.idle": "2023-03-13T05:41:18.948151Z",
     "shell.execute_reply": "2023-03-13T05:41:18.947018Z"
    },
    "papermill": {
     "duration": 1.2238,
     "end_time": "2023-03-13T05:41:18.951103",
     "exception": false,
     "start_time": "2023-03-13T05:41:17.727303",
     "status": "completed"
    },
    "tags": []
   },
   "outputs": [],
   "source": [
    "#importing Necessary libraries\n",
    "import pandas as pd\n",
    "import numpy as np\n",
    "import matplotlib.pyplot as plt\n",
    "%matplotlib inline\n",
    "import seaborn as sns\n",
    "import matplotlib.style as style\n",
    "style.use(\"ggplot\")\n",
    "import missingno as ms\n",
    "import warnings\n",
    "warnings.filterwarnings(\"ignore\")"
   ]
  },
  {
   "cell_type": "code",
   "execution_count": 3,
   "id": "5aacbe2e",
   "metadata": {
    "execution": {
     "iopub.execute_input": "2023-03-13T05:41:18.975066Z",
     "iopub.status.busy": "2023-03-13T05:41:18.974685Z",
     "iopub.status.idle": "2023-03-13T05:41:19.006615Z",
     "shell.execute_reply": "2023-03-13T05:41:19.005326Z"
    },
    "papermill": {
     "duration": 0.047411,
     "end_time": "2023-03-13T05:41:19.009529",
     "exception": false,
     "start_time": "2023-03-13T05:41:18.962118",
     "status": "completed"
    },
    "tags": []
   },
   "outputs": [],
   "source": [
    "#inserting train and test data datasets\n",
    "train_df = pd.read_csv(\"/kaggle/input/titanic/train.csv\")\n",
    "test_df = pd.read_csv(\"/kaggle/input/titanic/test.csv\")\n",
    "\n"
   ]
  },
  {
   "cell_type": "code",
   "execution_count": 4,
   "id": "938ea18c",
   "metadata": {
    "execution": {
     "iopub.execute_input": "2023-03-13T05:41:19.035976Z",
     "iopub.status.busy": "2023-03-13T05:41:19.035547Z",
     "iopub.status.idle": "2023-03-13T05:41:19.066298Z",
     "shell.execute_reply": "2023-03-13T05:41:19.065089Z"
    },
    "papermill": {
     "duration": 0.046909,
     "end_time": "2023-03-13T05:41:19.069054",
     "exception": false,
     "start_time": "2023-03-13T05:41:19.022145",
     "status": "completed"
    },
    "tags": []
   },
   "outputs": [
    {
     "data": {
      "text/html": [
       "<div>\n",
       "<style scoped>\n",
       "    .dataframe tbody tr th:only-of-type {\n",
       "        vertical-align: middle;\n",
       "    }\n",
       "\n",
       "    .dataframe tbody tr th {\n",
       "        vertical-align: top;\n",
       "    }\n",
       "\n",
       "    .dataframe thead th {\n",
       "        text-align: right;\n",
       "    }\n",
       "</style>\n",
       "<table border=\"1\" class=\"dataframe\">\n",
       "  <thead>\n",
       "    <tr style=\"text-align: right;\">\n",
       "      <th></th>\n",
       "      <th>PassengerId</th>\n",
       "      <th>Survived</th>\n",
       "      <th>Pclass</th>\n",
       "      <th>Name</th>\n",
       "      <th>Sex</th>\n",
       "      <th>Age</th>\n",
       "      <th>SibSp</th>\n",
       "      <th>Parch</th>\n",
       "      <th>Ticket</th>\n",
       "      <th>Fare</th>\n",
       "      <th>Cabin</th>\n",
       "      <th>Embarked</th>\n",
       "    </tr>\n",
       "  </thead>\n",
       "  <tbody>\n",
       "    <tr>\n",
       "      <th>0</th>\n",
       "      <td>1</td>\n",
       "      <td>0</td>\n",
       "      <td>3</td>\n",
       "      <td>Braund, Mr. Owen Harris</td>\n",
       "      <td>male</td>\n",
       "      <td>22.0</td>\n",
       "      <td>1</td>\n",
       "      <td>0</td>\n",
       "      <td>A/5 21171</td>\n",
       "      <td>7.2500</td>\n",
       "      <td>NaN</td>\n",
       "      <td>S</td>\n",
       "    </tr>\n",
       "    <tr>\n",
       "      <th>1</th>\n",
       "      <td>2</td>\n",
       "      <td>1</td>\n",
       "      <td>1</td>\n",
       "      <td>Cumings, Mrs. John Bradley (Florence Briggs Th...</td>\n",
       "      <td>female</td>\n",
       "      <td>38.0</td>\n",
       "      <td>1</td>\n",
       "      <td>0</td>\n",
       "      <td>PC 17599</td>\n",
       "      <td>71.2833</td>\n",
       "      <td>C85</td>\n",
       "      <td>C</td>\n",
       "    </tr>\n",
       "    <tr>\n",
       "      <th>2</th>\n",
       "      <td>3</td>\n",
       "      <td>1</td>\n",
       "      <td>3</td>\n",
       "      <td>Heikkinen, Miss. Laina</td>\n",
       "      <td>female</td>\n",
       "      <td>26.0</td>\n",
       "      <td>0</td>\n",
       "      <td>0</td>\n",
       "      <td>STON/O2. 3101282</td>\n",
       "      <td>7.9250</td>\n",
       "      <td>NaN</td>\n",
       "      <td>S</td>\n",
       "    </tr>\n",
       "    <tr>\n",
       "      <th>3</th>\n",
       "      <td>4</td>\n",
       "      <td>1</td>\n",
       "      <td>1</td>\n",
       "      <td>Futrelle, Mrs. Jacques Heath (Lily May Peel)</td>\n",
       "      <td>female</td>\n",
       "      <td>35.0</td>\n",
       "      <td>1</td>\n",
       "      <td>0</td>\n",
       "      <td>113803</td>\n",
       "      <td>53.1000</td>\n",
       "      <td>C123</td>\n",
       "      <td>S</td>\n",
       "    </tr>\n",
       "    <tr>\n",
       "      <th>4</th>\n",
       "      <td>5</td>\n",
       "      <td>0</td>\n",
       "      <td>3</td>\n",
       "      <td>Allen, Mr. William Henry</td>\n",
       "      <td>male</td>\n",
       "      <td>35.0</td>\n",
       "      <td>0</td>\n",
       "      <td>0</td>\n",
       "      <td>373450</td>\n",
       "      <td>8.0500</td>\n",
       "      <td>NaN</td>\n",
       "      <td>S</td>\n",
       "    </tr>\n",
       "  </tbody>\n",
       "</table>\n",
       "</div>"
      ],
      "text/plain": [
       "   PassengerId  Survived  Pclass  \\\n",
       "0            1         0       3   \n",
       "1            2         1       1   \n",
       "2            3         1       3   \n",
       "3            4         1       1   \n",
       "4            5         0       3   \n",
       "\n",
       "                                                Name     Sex   Age  SibSp  \\\n",
       "0                            Braund, Mr. Owen Harris    male  22.0      1   \n",
       "1  Cumings, Mrs. John Bradley (Florence Briggs Th...  female  38.0      1   \n",
       "2                             Heikkinen, Miss. Laina  female  26.0      0   \n",
       "3       Futrelle, Mrs. Jacques Heath (Lily May Peel)  female  35.0      1   \n",
       "4                           Allen, Mr. William Henry    male  35.0      0   \n",
       "\n",
       "   Parch            Ticket     Fare Cabin Embarked  \n",
       "0      0         A/5 21171   7.2500   NaN        S  \n",
       "1      0          PC 17599  71.2833   C85        C  \n",
       "2      0  STON/O2. 3101282   7.9250   NaN        S  \n",
       "3      0            113803  53.1000  C123        S  \n",
       "4      0            373450   8.0500   NaN        S  "
      ]
     },
     "execution_count": 4,
     "metadata": {},
     "output_type": "execute_result"
    }
   ],
   "source": [
    "train_df.head()"
   ]
  },
  {
   "cell_type": "code",
   "execution_count": 5,
   "id": "60b9218b",
   "metadata": {
    "execution": {
     "iopub.execute_input": "2023-03-13T05:41:19.093162Z",
     "iopub.status.busy": "2023-03-13T05:41:19.092782Z",
     "iopub.status.idle": "2023-03-13T05:41:19.108713Z",
     "shell.execute_reply": "2023-03-13T05:41:19.107669Z"
    },
    "papermill": {
     "duration": 0.030613,
     "end_time": "2023-03-13T05:41:19.111210",
     "exception": false,
     "start_time": "2023-03-13T05:41:19.080597",
     "status": "completed"
    },
    "tags": []
   },
   "outputs": [
    {
     "data": {
      "text/html": [
       "<div>\n",
       "<style scoped>\n",
       "    .dataframe tbody tr th:only-of-type {\n",
       "        vertical-align: middle;\n",
       "    }\n",
       "\n",
       "    .dataframe tbody tr th {\n",
       "        vertical-align: top;\n",
       "    }\n",
       "\n",
       "    .dataframe thead th {\n",
       "        text-align: right;\n",
       "    }\n",
       "</style>\n",
       "<table border=\"1\" class=\"dataframe\">\n",
       "  <thead>\n",
       "    <tr style=\"text-align: right;\">\n",
       "      <th></th>\n",
       "      <th>PassengerId</th>\n",
       "      <th>Pclass</th>\n",
       "      <th>Name</th>\n",
       "      <th>Sex</th>\n",
       "      <th>Age</th>\n",
       "      <th>SibSp</th>\n",
       "      <th>Parch</th>\n",
       "      <th>Ticket</th>\n",
       "      <th>Fare</th>\n",
       "      <th>Cabin</th>\n",
       "      <th>Embarked</th>\n",
       "    </tr>\n",
       "  </thead>\n",
       "  <tbody>\n",
       "    <tr>\n",
       "      <th>0</th>\n",
       "      <td>892</td>\n",
       "      <td>3</td>\n",
       "      <td>Kelly, Mr. James</td>\n",
       "      <td>male</td>\n",
       "      <td>34.5</td>\n",
       "      <td>0</td>\n",
       "      <td>0</td>\n",
       "      <td>330911</td>\n",
       "      <td>7.8292</td>\n",
       "      <td>NaN</td>\n",
       "      <td>Q</td>\n",
       "    </tr>\n",
       "    <tr>\n",
       "      <th>1</th>\n",
       "      <td>893</td>\n",
       "      <td>3</td>\n",
       "      <td>Wilkes, Mrs. James (Ellen Needs)</td>\n",
       "      <td>female</td>\n",
       "      <td>47.0</td>\n",
       "      <td>1</td>\n",
       "      <td>0</td>\n",
       "      <td>363272</td>\n",
       "      <td>7.0000</td>\n",
       "      <td>NaN</td>\n",
       "      <td>S</td>\n",
       "    </tr>\n",
       "    <tr>\n",
       "      <th>2</th>\n",
       "      <td>894</td>\n",
       "      <td>2</td>\n",
       "      <td>Myles, Mr. Thomas Francis</td>\n",
       "      <td>male</td>\n",
       "      <td>62.0</td>\n",
       "      <td>0</td>\n",
       "      <td>0</td>\n",
       "      <td>240276</td>\n",
       "      <td>9.6875</td>\n",
       "      <td>NaN</td>\n",
       "      <td>Q</td>\n",
       "    </tr>\n",
       "    <tr>\n",
       "      <th>3</th>\n",
       "      <td>895</td>\n",
       "      <td>3</td>\n",
       "      <td>Wirz, Mr. Albert</td>\n",
       "      <td>male</td>\n",
       "      <td>27.0</td>\n",
       "      <td>0</td>\n",
       "      <td>0</td>\n",
       "      <td>315154</td>\n",
       "      <td>8.6625</td>\n",
       "      <td>NaN</td>\n",
       "      <td>S</td>\n",
       "    </tr>\n",
       "    <tr>\n",
       "      <th>4</th>\n",
       "      <td>896</td>\n",
       "      <td>3</td>\n",
       "      <td>Hirvonen, Mrs. Alexander (Helga E Lindqvist)</td>\n",
       "      <td>female</td>\n",
       "      <td>22.0</td>\n",
       "      <td>1</td>\n",
       "      <td>1</td>\n",
       "      <td>3101298</td>\n",
       "      <td>12.2875</td>\n",
       "      <td>NaN</td>\n",
       "      <td>S</td>\n",
       "    </tr>\n",
       "  </tbody>\n",
       "</table>\n",
       "</div>"
      ],
      "text/plain": [
       "   PassengerId  Pclass                                          Name     Sex  \\\n",
       "0          892       3                              Kelly, Mr. James    male   \n",
       "1          893       3              Wilkes, Mrs. James (Ellen Needs)  female   \n",
       "2          894       2                     Myles, Mr. Thomas Francis    male   \n",
       "3          895       3                              Wirz, Mr. Albert    male   \n",
       "4          896       3  Hirvonen, Mrs. Alexander (Helga E Lindqvist)  female   \n",
       "\n",
       "    Age  SibSp  Parch   Ticket     Fare Cabin Embarked  \n",
       "0  34.5      0      0   330911   7.8292   NaN        Q  \n",
       "1  47.0      1      0   363272   7.0000   NaN        S  \n",
       "2  62.0      0      0   240276   9.6875   NaN        Q  \n",
       "3  27.0      0      0   315154   8.6625   NaN        S  \n",
       "4  22.0      1      1  3101298  12.2875   NaN        S  "
      ]
     },
     "execution_count": 5,
     "metadata": {},
     "output_type": "execute_result"
    }
   ],
   "source": [
    "test_df.head()"
   ]
  },
  {
   "cell_type": "code",
   "execution_count": 6,
   "id": "d03a7fd1",
   "metadata": {
    "execution": {
     "iopub.execute_input": "2023-03-13T05:41:19.136927Z",
     "iopub.status.busy": "2023-03-13T05:41:19.135741Z",
     "iopub.status.idle": "2023-03-13T05:41:19.160941Z",
     "shell.execute_reply": "2023-03-13T05:41:19.159769Z"
    },
    "papermill": {
     "duration": 0.040934,
     "end_time": "2023-03-13T05:41:19.163761",
     "exception": false,
     "start_time": "2023-03-13T05:41:19.122827",
     "status": "completed"
    },
    "tags": []
   },
   "outputs": [
    {
     "name": "stdout",
     "output_type": "stream",
     "text": [
      "<class 'pandas.core.frame.DataFrame'>\n",
      "RangeIndex: 891 entries, 0 to 890\n",
      "Data columns (total 12 columns):\n",
      " #   Column       Non-Null Count  Dtype  \n",
      "---  ------       --------------  -----  \n",
      " 0   PassengerId  891 non-null    int64  \n",
      " 1   Survived     891 non-null    int64  \n",
      " 2   Pclass       891 non-null    int64  \n",
      " 3   Name         891 non-null    object \n",
      " 4   Sex          891 non-null    object \n",
      " 5   Age          714 non-null    float64\n",
      " 6   SibSp        891 non-null    int64  \n",
      " 7   Parch        891 non-null    int64  \n",
      " 8   Ticket       891 non-null    object \n",
      " 9   Fare         891 non-null    float64\n",
      " 10  Cabin        204 non-null    object \n",
      " 11  Embarked     889 non-null    object \n",
      "dtypes: float64(2), int64(5), object(5)\n",
      "memory usage: 83.7+ KB\n"
     ]
    }
   ],
   "source": [
    "#information about the dataset\n",
    "train_df.info()"
   ]
  },
  {
   "cell_type": "code",
   "execution_count": 7,
   "id": "b5538fb1",
   "metadata": {
    "execution": {
     "iopub.execute_input": "2023-03-13T05:41:19.189407Z",
     "iopub.status.busy": "2023-03-13T05:41:19.188960Z",
     "iopub.status.idle": "2023-03-13T05:41:19.193223Z",
     "shell.execute_reply": "2023-03-13T05:41:19.192347Z"
    },
    "papermill": {
     "duration": 0.019885,
     "end_time": "2023-03-13T05:41:19.195278",
     "exception": false,
     "start_time": "2023-03-13T05:41:19.175393",
     "status": "completed"
    },
    "tags": []
   },
   "outputs": [],
   "source": [
    "#observation: 891 rows and 12 columns\n",
    " #   Age column has 714 nan or missing values\n",
    "  #  Cabin column has 204 nan or missing values"
   ]
  },
  {
   "cell_type": "code",
   "execution_count": 8,
   "id": "a97801d4",
   "metadata": {
    "execution": {
     "iopub.execute_input": "2023-03-13T05:41:19.219936Z",
     "iopub.status.busy": "2023-03-13T05:41:19.219560Z",
     "iopub.status.idle": "2023-03-13T05:41:19.255829Z",
     "shell.execute_reply": "2023-03-13T05:41:19.254559Z"
    },
    "papermill": {
     "duration": 0.051463,
     "end_time": "2023-03-13T05:41:19.258354",
     "exception": false,
     "start_time": "2023-03-13T05:41:19.206891",
     "status": "completed"
    },
    "tags": []
   },
   "outputs": [
    {
     "data": {
      "text/html": [
       "<div>\n",
       "<style scoped>\n",
       "    .dataframe tbody tr th:only-of-type {\n",
       "        vertical-align: middle;\n",
       "    }\n",
       "\n",
       "    .dataframe tbody tr th {\n",
       "        vertical-align: top;\n",
       "    }\n",
       "\n",
       "    .dataframe thead th {\n",
       "        text-align: right;\n",
       "    }\n",
       "</style>\n",
       "<table border=\"1\" class=\"dataframe\">\n",
       "  <thead>\n",
       "    <tr style=\"text-align: right;\">\n",
       "      <th></th>\n",
       "      <th>PassengerId</th>\n",
       "      <th>Survived</th>\n",
       "      <th>Pclass</th>\n",
       "      <th>Age</th>\n",
       "      <th>SibSp</th>\n",
       "      <th>Parch</th>\n",
       "      <th>Fare</th>\n",
       "    </tr>\n",
       "  </thead>\n",
       "  <tbody>\n",
       "    <tr>\n",
       "      <th>count</th>\n",
       "      <td>891.000000</td>\n",
       "      <td>891.000000</td>\n",
       "      <td>891.000000</td>\n",
       "      <td>714.000000</td>\n",
       "      <td>891.000000</td>\n",
       "      <td>891.000000</td>\n",
       "      <td>891.000000</td>\n",
       "    </tr>\n",
       "    <tr>\n",
       "      <th>mean</th>\n",
       "      <td>446.000000</td>\n",
       "      <td>0.383838</td>\n",
       "      <td>2.308642</td>\n",
       "      <td>29.699118</td>\n",
       "      <td>0.523008</td>\n",
       "      <td>0.381594</td>\n",
       "      <td>32.204208</td>\n",
       "    </tr>\n",
       "    <tr>\n",
       "      <th>std</th>\n",
       "      <td>257.353842</td>\n",
       "      <td>0.486592</td>\n",
       "      <td>0.836071</td>\n",
       "      <td>14.526497</td>\n",
       "      <td>1.102743</td>\n",
       "      <td>0.806057</td>\n",
       "      <td>49.693429</td>\n",
       "    </tr>\n",
       "    <tr>\n",
       "      <th>min</th>\n",
       "      <td>1.000000</td>\n",
       "      <td>0.000000</td>\n",
       "      <td>1.000000</td>\n",
       "      <td>0.420000</td>\n",
       "      <td>0.000000</td>\n",
       "      <td>0.000000</td>\n",
       "      <td>0.000000</td>\n",
       "    </tr>\n",
       "    <tr>\n",
       "      <th>25%</th>\n",
       "      <td>223.500000</td>\n",
       "      <td>0.000000</td>\n",
       "      <td>2.000000</td>\n",
       "      <td>20.125000</td>\n",
       "      <td>0.000000</td>\n",
       "      <td>0.000000</td>\n",
       "      <td>7.910400</td>\n",
       "    </tr>\n",
       "    <tr>\n",
       "      <th>50%</th>\n",
       "      <td>446.000000</td>\n",
       "      <td>0.000000</td>\n",
       "      <td>3.000000</td>\n",
       "      <td>28.000000</td>\n",
       "      <td>0.000000</td>\n",
       "      <td>0.000000</td>\n",
       "      <td>14.454200</td>\n",
       "    </tr>\n",
       "    <tr>\n",
       "      <th>75%</th>\n",
       "      <td>668.500000</td>\n",
       "      <td>1.000000</td>\n",
       "      <td>3.000000</td>\n",
       "      <td>38.000000</td>\n",
       "      <td>1.000000</td>\n",
       "      <td>0.000000</td>\n",
       "      <td>31.000000</td>\n",
       "    </tr>\n",
       "    <tr>\n",
       "      <th>max</th>\n",
       "      <td>891.000000</td>\n",
       "      <td>1.000000</td>\n",
       "      <td>3.000000</td>\n",
       "      <td>80.000000</td>\n",
       "      <td>8.000000</td>\n",
       "      <td>6.000000</td>\n",
       "      <td>512.329200</td>\n",
       "    </tr>\n",
       "  </tbody>\n",
       "</table>\n",
       "</div>"
      ],
      "text/plain": [
       "       PassengerId    Survived      Pclass         Age       SibSp  \\\n",
       "count   891.000000  891.000000  891.000000  714.000000  891.000000   \n",
       "mean    446.000000    0.383838    2.308642   29.699118    0.523008   \n",
       "std     257.353842    0.486592    0.836071   14.526497    1.102743   \n",
       "min       1.000000    0.000000    1.000000    0.420000    0.000000   \n",
       "25%     223.500000    0.000000    2.000000   20.125000    0.000000   \n",
       "50%     446.000000    0.000000    3.000000   28.000000    0.000000   \n",
       "75%     668.500000    1.000000    3.000000   38.000000    1.000000   \n",
       "max     891.000000    1.000000    3.000000   80.000000    8.000000   \n",
       "\n",
       "            Parch        Fare  \n",
       "count  891.000000  891.000000  \n",
       "mean     0.381594   32.204208  \n",
       "std      0.806057   49.693429  \n",
       "min      0.000000    0.000000  \n",
       "25%      0.000000    7.910400  \n",
       "50%      0.000000   14.454200  \n",
       "75%      0.000000   31.000000  \n",
       "max      6.000000  512.329200  "
      ]
     },
     "execution_count": 8,
     "metadata": {},
     "output_type": "execute_result"
    }
   ],
   "source": [
    "#description of dataset in 5 point summary (min, 25%, 50%, 75%, max)\n",
    "train_df.describe()"
   ]
  },
  {
   "cell_type": "code",
   "execution_count": 9,
   "id": "c5f30c2d",
   "metadata": {
    "execution": {
     "iopub.execute_input": "2023-03-13T05:41:19.284428Z",
     "iopub.status.busy": "2023-03-13T05:41:19.284007Z",
     "iopub.status.idle": "2023-03-13T05:41:19.300339Z",
     "shell.execute_reply": "2023-03-13T05:41:19.299170Z"
    },
    "papermill": {
     "duration": 0.032222,
     "end_time": "2023-03-13T05:41:19.302733",
     "exception": false,
     "start_time": "2023-03-13T05:41:19.270511",
     "status": "completed"
    },
    "tags": []
   },
   "outputs": [
    {
     "data": {
      "text/plain": [
       "0"
      ]
     },
     "execution_count": 9,
     "metadata": {},
     "output_type": "execute_result"
    }
   ],
   "source": [
    "#checking of duplications of data values\n",
    "train_df.duplicated().sum()"
   ]
  },
  {
   "cell_type": "code",
   "execution_count": 10,
   "id": "3dbd9970",
   "metadata": {
    "execution": {
     "iopub.execute_input": "2023-03-13T05:41:19.329542Z",
     "iopub.status.busy": "2023-03-13T05:41:19.329079Z",
     "iopub.status.idle": "2023-03-13T05:41:19.340632Z",
     "shell.execute_reply": "2023-03-13T05:41:19.339389Z"
    },
    "papermill": {
     "duration": 0.02765,
     "end_time": "2023-03-13T05:41:19.342867",
     "exception": false,
     "start_time": "2023-03-13T05:41:19.315217",
     "status": "completed"
    },
    "tags": []
   },
   "outputs": [
    {
     "data": {
      "text/plain": [
       "Cabin          687\n",
       "Age            177\n",
       "Embarked         2\n",
       "PassengerId      0\n",
       "Survived         0\n",
       "dtype: int64"
      ]
     },
     "execution_count": 10,
     "metadata": {},
     "output_type": "execute_result"
    }
   ],
   "source": [
    "#checking for missing values\n",
    "m_val = train_df.isnull().sum().sort_values(ascending = False)\n",
    "m_val.head()"
   ]
  },
  {
   "cell_type": "code",
   "execution_count": 11,
   "id": "2359b541",
   "metadata": {
    "execution": {
     "iopub.execute_input": "2023-03-13T05:41:19.370328Z",
     "iopub.status.busy": "2023-03-13T05:41:19.369159Z",
     "iopub.status.idle": "2023-03-13T05:41:19.386389Z",
     "shell.execute_reply": "2023-03-13T05:41:19.385068Z"
    },
    "papermill": {
     "duration": 0.033802,
     "end_time": "2023-03-13T05:41:19.388743",
     "exception": false,
     "start_time": "2023-03-13T05:41:19.354941",
     "status": "completed"
    },
    "tags": []
   },
   "outputs": [
    {
     "data": {
      "text/html": [
       "<div>\n",
       "<style scoped>\n",
       "    .dataframe tbody tr th:only-of-type {\n",
       "        vertical-align: middle;\n",
       "    }\n",
       "\n",
       "    .dataframe tbody tr th {\n",
       "        vertical-align: top;\n",
       "    }\n",
       "\n",
       "    .dataframe thead th {\n",
       "        text-align: right;\n",
       "    }\n",
       "</style>\n",
       "<table border=\"1\" class=\"dataframe\">\n",
       "  <thead>\n",
       "    <tr style=\"text-align: right;\">\n",
       "      <th></th>\n",
       "      <th>missing values</th>\n",
       "      <th>Percentage</th>\n",
       "    </tr>\n",
       "  </thead>\n",
       "  <tbody>\n",
       "    <tr>\n",
       "      <th>Cabin</th>\n",
       "      <td>687</td>\n",
       "      <td>77.104377</td>\n",
       "    </tr>\n",
       "    <tr>\n",
       "      <th>Age</th>\n",
       "      <td>177</td>\n",
       "      <td>19.865320</td>\n",
       "    </tr>\n",
       "    <tr>\n",
       "      <th>Embarked</th>\n",
       "      <td>2</td>\n",
       "      <td>0.224467</td>\n",
       "    </tr>\n",
       "    <tr>\n",
       "      <th>PassengerId</th>\n",
       "      <td>0</td>\n",
       "      <td>0.000000</td>\n",
       "    </tr>\n",
       "    <tr>\n",
       "      <th>Survived</th>\n",
       "      <td>0</td>\n",
       "      <td>0.000000</td>\n",
       "    </tr>\n",
       "  </tbody>\n",
       "</table>\n",
       "</div>"
      ],
      "text/plain": [
       "             missing values  Percentage\n",
       "Cabin                   687   77.104377\n",
       "Age                     177   19.865320\n",
       "Embarked                  2    0.224467\n",
       "PassengerId               0    0.000000\n",
       "Survived                  0    0.000000"
      ]
     },
     "execution_count": 11,
     "metadata": {},
     "output_type": "execute_result"
    }
   ],
   "source": [
    "#perentage of missing valuyesfor each feature\n",
    "mval_per = train_df.isnull().sum()/train_df.isnull().count()*100\n",
    "\n",
    "null_df = pd.DataFrame({\"missing values\": m_val,\"Percentage\": mval_per.sort_values(ascending = False)})\n",
    "\n",
    "null_df.head()"
   ]
  },
  {
   "cell_type": "code",
   "execution_count": 12,
   "id": "b5f60571",
   "metadata": {
    "execution": {
     "iopub.execute_input": "2023-03-13T05:41:19.415890Z",
     "iopub.status.busy": "2023-03-13T05:41:19.415174Z",
     "iopub.status.idle": "2023-03-13T05:41:20.584251Z",
     "shell.execute_reply": "2023-03-13T05:41:20.582915Z"
    },
    "papermill": {
     "duration": 1.186518,
     "end_time": "2023-03-13T05:41:20.587656",
     "exception": false,
     "start_time": "2023-03-13T05:41:19.401138",
     "status": "completed"
    },
    "tags": []
   },
   "outputs": [
    {
     "data": {
      "text/plain": [
       "Text(0.5, 1.0, 'Bar plot showing missing data values')"
      ]
     },
     "execution_count": 12,
     "metadata": {},
     "output_type": "execute_result"
    },
    {
     "data": {
      "image/png": "[encoded data removed]",
      "text/plain": [
       "<Figure size 1400x700 with 3 Axes>"
      ]
     },
     "metadata": {},
     "output_type": "display_data"
    }
   ],
   "source": [
    "ms.bar(train_df,figsize = (14,7))\n",
    "plt.title(\"Bar plot showing missing data values\", size = 18)"
   ]
  },
  {
   "cell_type": "code",
   "execution_count": 13,
   "id": "1a5f7177",
   "metadata": {
    "execution": {
     "iopub.execute_input": "2023-03-13T05:41:20.617221Z",
     "iopub.status.busy": "2023-03-13T05:41:20.616818Z",
     "iopub.status.idle": "2023-03-13T05:41:20.623900Z",
     "shell.execute_reply": "2023-03-13T05:41:20.622810Z"
    },
    "papermill": {
     "duration": 0.024819,
     "end_time": "2023-03-13T05:41:20.626370",
     "exception": false,
     "start_time": "2023-03-13T05:41:20.601551",
     "status": "completed"
    },
    "tags": []
   },
   "outputs": [],
   "source": [
    "#replacing missing values with mean values\n",
    "#comparing by plotting curves for initialvalues with replaced mean values\n",
    "train_df[\"Age_mean\"] = train_df[\"Age\"].fillna(train_df[\"Age\"].mean())"
   ]
  },
  {
   "cell_type": "code",
   "execution_count": 14,
   "id": "5720e7d5",
   "metadata": {
    "execution": {
     "iopub.execute_input": "2023-03-13T05:41:20.656195Z",
     "iopub.status.busy": "2023-03-13T05:41:20.654831Z",
     "iopub.status.idle": "2023-03-13T05:41:20.941406Z",
     "shell.execute_reply": "2023-03-13T05:41:20.940224Z"
    },
    "papermill": {
     "duration": 0.304041,
     "end_time": "2023-03-13T05:41:20.943989",
     "exception": false,
     "start_time": "2023-03-13T05:41:20.639948",
     "status": "completed"
    },
    "tags": []
   },
   "outputs": [
    {
     "data": {
      "text/plain": [
       "<matplotlib.legend.Legend at 0x7f684b9554d0>"
      ]
     },
     "execution_count": 14,
     "metadata": {},
     "output_type": "execute_result"
    },
    {
     "data": {
      "image/png": "[encoded data removed]",
      "text/plain": [
       "<Figure size 640x480 with 1 Axes>"
      ]
     },
     "metadata": {},
     "output_type": "display_data"
    }
   ],
   "source": [
    "#Difference in curves between replaced and original values\n",
    "sns.kdeplot(train_df[\"Age_mean\"],color = \"blue\",label = \"Mean\")\n",
    "sns.kdeplot(train_df[\"Age\"],color= \"green\",label = \"Original\")\n",
    "plt.legend()"
   ]
  },
  {
   "cell_type": "code",
   "execution_count": 15,
   "id": "89ce3b1c",
   "metadata": {
    "execution": {
     "iopub.execute_input": "2023-03-13T05:41:20.975795Z",
     "iopub.status.busy": "2023-03-13T05:41:20.975349Z",
     "iopub.status.idle": "2023-03-13T05:41:20.980239Z",
     "shell.execute_reply": "2023-03-13T05:41:20.979076Z"
    },
    "papermill": {
     "duration": 0.024066,
     "end_time": "2023-03-13T05:41:20.982715",
     "exception": false,
     "start_time": "2023-03-13T05:41:20.958649",
     "status": "completed"
    },
    "tags": []
   },
   "outputs": [],
   "source": [
    "#observation: filling up missing values does change the curve"
   ]
  },
  {
   "cell_type": "code",
   "execution_count": 16,
   "id": "a8ccd8f6",
   "metadata": {
    "execution": {
     "iopub.execute_input": "2023-03-13T05:41:21.013515Z",
     "iopub.status.busy": "2023-03-13T05:41:21.013069Z",
     "iopub.status.idle": "2023-03-13T05:41:21.025200Z",
     "shell.execute_reply": "2023-03-13T05:41:21.023879Z"
    },
    "papermill": {
     "duration": 0.030332,
     "end_time": "2023-03-13T05:41:21.027583",
     "exception": false,
     "start_time": "2023-03-13T05:41:20.997251",
     "status": "completed"
    },
    "tags": []
   },
   "outputs": [
    {
     "data": {
      "text/plain": [
       "0"
      ]
     },
     "execution_count": 16,
     "metadata": {},
     "output_type": "execute_result"
    }
   ],
   "source": [
    "#replacing them with mean values\n",
    "train_df[\"Age\"] = train_df[\"Age\"].fillna(train_df[\"Age\"].mean())\n",
    "test_df[\"Age\"] = test_df[\"Age\"].fillna(test_df[\"Age\"].mean())\n",
    "\n",
    "\n",
    "\n",
    "train_df[\"Age\"].isnull().sum()\n",
    "test_df[\"Age\"].isnull().sum()"
   ]
  },
  {
   "cell_type": "code",
   "execution_count": 17,
   "id": "a3afb61d",
   "metadata": {
    "execution": {
     "iopub.execute_input": "2023-03-13T05:41:21.058288Z",
     "iopub.status.busy": "2023-03-13T05:41:21.057822Z",
     "iopub.status.idle": "2023-03-13T05:41:21.077671Z",
     "shell.execute_reply": "2023-03-13T05:41:21.076408Z"
    },
    "papermill": {
     "duration": 0.038092,
     "end_time": "2023-03-13T05:41:21.080141",
     "exception": false,
     "start_time": "2023-03-13T05:41:21.042049",
     "status": "completed"
    },
    "tags": []
   },
   "outputs": [
    {
     "data": {
      "text/html": [
       "<div>\n",
       "<style scoped>\n",
       "    .dataframe tbody tr th:only-of-type {\n",
       "        vertical-align: middle;\n",
       "    }\n",
       "\n",
       "    .dataframe tbody tr th {\n",
       "        vertical-align: top;\n",
       "    }\n",
       "\n",
       "    .dataframe thead th {\n",
       "        text-align: right;\n",
       "    }\n",
       "</style>\n",
       "<table border=\"1\" class=\"dataframe\">\n",
       "  <thead>\n",
       "    <tr style=\"text-align: right;\">\n",
       "      <th></th>\n",
       "      <th>Survived</th>\n",
       "      <th>Pclass</th>\n",
       "      <th>Sex</th>\n",
       "      <th>Age</th>\n",
       "      <th>SibSp</th>\n",
       "      <th>Parch</th>\n",
       "      <th>Embarked</th>\n",
       "      <th>Age_mean</th>\n",
       "    </tr>\n",
       "  </thead>\n",
       "  <tbody>\n",
       "    <tr>\n",
       "      <th>0</th>\n",
       "      <td>0</td>\n",
       "      <td>3</td>\n",
       "      <td>male</td>\n",
       "      <td>22.0</td>\n",
       "      <td>1</td>\n",
       "      <td>0</td>\n",
       "      <td>S</td>\n",
       "      <td>22.0</td>\n",
       "    </tr>\n",
       "    <tr>\n",
       "      <th>1</th>\n",
       "      <td>1</td>\n",
       "      <td>1</td>\n",
       "      <td>female</td>\n",
       "      <td>38.0</td>\n",
       "      <td>1</td>\n",
       "      <td>0</td>\n",
       "      <td>C</td>\n",
       "      <td>38.0</td>\n",
       "    </tr>\n",
       "    <tr>\n",
       "      <th>2</th>\n",
       "      <td>1</td>\n",
       "      <td>3</td>\n",
       "      <td>female</td>\n",
       "      <td>26.0</td>\n",
       "      <td>0</td>\n",
       "      <td>0</td>\n",
       "      <td>S</td>\n",
       "      <td>26.0</td>\n",
       "    </tr>\n",
       "    <tr>\n",
       "      <th>3</th>\n",
       "      <td>1</td>\n",
       "      <td>1</td>\n",
       "      <td>female</td>\n",
       "      <td>35.0</td>\n",
       "      <td>1</td>\n",
       "      <td>0</td>\n",
       "      <td>S</td>\n",
       "      <td>35.0</td>\n",
       "    </tr>\n",
       "    <tr>\n",
       "      <th>4</th>\n",
       "      <td>0</td>\n",
       "      <td>3</td>\n",
       "      <td>male</td>\n",
       "      <td>35.0</td>\n",
       "      <td>0</td>\n",
       "      <td>0</td>\n",
       "      <td>S</td>\n",
       "      <td>35.0</td>\n",
       "    </tr>\n",
       "  </tbody>\n",
       "</table>\n",
       "</div>"
      ],
      "text/plain": [
       "   Survived  Pclass     Sex   Age  SibSp  Parch Embarked  Age_mean\n",
       "0         0       3    male  22.0      1      0        S      22.0\n",
       "1         1       1  female  38.0      1      0        C      38.0\n",
       "2         1       3  female  26.0      0      0        S      26.0\n",
       "3         1       1  female  35.0      1      0        S      35.0\n",
       "4         0       3    male  35.0      0      0        S      35.0"
      ]
     },
     "execution_count": 17,
     "metadata": {},
     "output_type": "execute_result"
    }
   ],
   "source": [
    "#Dropping unnecessary columns\n",
    "train_df.drop([\"Cabin\",\"Name\",\"Ticket\", \"Fare\", \"PassengerId\"],axis = 1, inplace = True)\n",
    "test_df.drop([\"Cabin\",\"Name\",\"Ticket\", \"Fare\", \"PassengerId\"],axis = 1, inplace = True)\n",
    "train_df.head()"
   ]
  },
  {
   "cell_type": "code",
   "execution_count": 18,
   "id": "a3d2d280",
   "metadata": {
    "execution": {
     "iopub.execute_input": "2023-03-13T05:41:21.111212Z",
     "iopub.status.busy": "2023-03-13T05:41:21.110692Z",
     "iopub.status.idle": "2023-03-13T05:41:21.126486Z",
     "shell.execute_reply": "2023-03-13T05:41:21.125282Z"
    },
    "papermill": {
     "duration": 0.034011,
     "end_time": "2023-03-13T05:41:21.128836",
     "exception": false,
     "start_time": "2023-03-13T05:41:21.094825",
     "status": "completed"
    },
    "tags": []
   },
   "outputs": [
    {
     "data": {
      "text/html": [
       "<div>\n",
       "<style scoped>\n",
       "    .dataframe tbody tr th:only-of-type {\n",
       "        vertical-align: middle;\n",
       "    }\n",
       "\n",
       "    .dataframe tbody tr th {\n",
       "        vertical-align: top;\n",
       "    }\n",
       "\n",
       "    .dataframe thead th {\n",
       "        text-align: right;\n",
       "    }\n",
       "</style>\n",
       "<table border=\"1\" class=\"dataframe\">\n",
       "  <thead>\n",
       "    <tr style=\"text-align: right;\">\n",
       "      <th></th>\n",
       "      <th>value counts</th>\n",
       "      <th>Percentage(%)</th>\n",
       "    </tr>\n",
       "    <tr>\n",
       "      <th></th>\n",
       "      <th></th>\n",
       "      <th></th>\n",
       "    </tr>\n",
       "  </thead>\n",
       "  <tbody>\n",
       "    <tr>\n",
       "      <th>Not Survived</th>\n",
       "      <td>549</td>\n",
       "      <td>61.616162</td>\n",
       "    </tr>\n",
       "    <tr>\n",
       "      <th>Survived</th>\n",
       "      <td>342</td>\n",
       "      <td>38.383838</td>\n",
       "    </tr>\n",
       "  </tbody>\n",
       "</table>\n",
       "</div>"
      ],
      "text/plain": [
       "              value counts  Percentage(%)\n",
       "                                         \n",
       "Not Survived           549      61.616162\n",
       "Survived               342      38.383838"
      ]
     },
     "execution_count": 18,
     "metadata": {},
     "output_type": "execute_result"
    }
   ],
   "source": [
    "#Analysis \n",
    "pd.DataFrame({\" \":[\"Not Survived\",\"Survived\"],\n",
    "              \"value counts\": train_df[\"Survived\"].value_counts(),\n",
    "              \"Percentage(%)\":[(train_df[\"Survived\"]==0).sum()*100/len(train_df), \n",
    "                               (train_df[\"Survived\"]==1).sum()*100/len(train_df)]}).set_index(\" \").head()"
   ]
  },
  {
   "cell_type": "code",
   "execution_count": 19,
   "id": "d9e9bf48",
   "metadata": {
    "execution": {
     "iopub.execute_input": "2023-03-13T05:41:21.159705Z",
     "iopub.status.busy": "2023-03-13T05:41:21.159284Z",
     "iopub.status.idle": "2023-03-13T05:41:21.166234Z",
     "shell.execute_reply": "2023-03-13T05:41:21.165172Z"
    },
    "papermill": {
     "duration": 0.025035,
     "end_time": "2023-03-13T05:41:21.168622",
     "exception": false,
     "start_time": "2023-03-13T05:41:21.143587",
     "status": "completed"
    },
    "tags": []
   },
   "outputs": [],
   "source": [
    "import matplotlib.pyplot as plt\n",
    "\n",
    "def bar_graph(field):\n",
    "    feature = train_df[field]\n",
    "    feature_val = feature.value_counts()\n",
    "\n",
    "    plt.figure(figsize=(9,5))\n",
    "    plt.bar(feature_val.index, feature_val, color=\"green\")\n",
    "    plt.title(field)\n",
    "    plt.xticks(feature_val.index, feature_val.index.values)\n",
    "    plt.ylabel(\"count\")\n",
    "    plt.show()\n",
    "    print(\"{}\\n{}\".format(field, feature_val))"
   ]
  },
  {
   "cell_type": "code",
   "execution_count": 20,
   "id": "3692bf6c",
   "metadata": {
    "execution": {
     "iopub.execute_input": "2023-03-13T05:41:21.200660Z",
     "iopub.status.busy": "2023-03-13T05:41:21.200222Z",
     "iopub.status.idle": "2023-03-13T05:41:22.213364Z",
     "shell.execute_reply": "2023-03-13T05:41:22.211525Z"
    },
    "papermill": {
     "duration": 1.032657,
     "end_time": "2023-03-13T05:41:22.216311",
     "exception": false,
     "start_time": "2023-03-13T05:41:21.183654",
     "status": "completed"
    },
    "tags": []
   },
   "outputs": [
    {
     "data": {
      "image/png": "[encoded data removed]",
      "text/plain": [
       "<Figure size 900x500 with 1 Axes>"
      ]
     },
     "metadata": {},
     "output_type": "display_data"
    },
    {
     "name": "stdout",
     "output_type": "stream",
     "text": [
      "Pclass\n",
      "3    491\n",
      "1    216\n",
      "2    184\n",
      "Name: Pclass, dtype: int64\n"
     ]
    },
    {
     "data": {
      "image/png": "[encoded data removed]",
      "text/plain": [
       "<Figure size 900x500 with 1 Axes>"
      ]
     },
     "metadata": {},
     "output_type": "display_data"
    },
    {
     "name": "stdout",
     "output_type": "stream",
     "text": [
      "Sex\n",
      "male      577\n",
      "female    314\n",
      "Name: Sex, dtype: int64\n"
     ]
    },
    {
     "data": {
      "image/png": "[encoded data removed]",
      "text/plain": [
       "<Figure size 900x500 with 1 Axes>"
      ]
     },
     "metadata": {},
     "output_type": "display_data"
    },
    {
     "name": "stdout",
     "output_type": "stream",
     "text": [
      "Embarked\n",
      "S    644\n",
      "C    168\n",
      "Q     77\n",
      "Name: Embarked, dtype: int64\n"
     ]
    },
    {
     "data": {
      "image/png": "[encoded data removed]",
      "text/plain": [
       "<Figure size 900x500 with 1 Axes>"
      ]
     },
     "metadata": {},
     "output_type": "display_data"
    },
    {
     "name": "stdout",
     "output_type": "stream",
     "text": [
      "Parch\n",
      "0    678\n",
      "1    118\n",
      "2     80\n",
      "5      5\n",
      "3      5\n",
      "4      4\n",
      "6      1\n",
      "Name: Parch, dtype: int64\n"
     ]
    },
    {
     "data": {
      "image/png": "[encoded data removed]",
      "text/plain": [
       "<Figure size 900x500 with 1 Axes>"
      ]
     },
     "metadata": {},
     "output_type": "display_data"
    },
    {
     "name": "stdout",
     "output_type": "stream",
     "text": [
      "SibSp\n",
      "0    608\n",
      "1    209\n",
      "2     28\n",
      "4     18\n",
      "3     16\n",
      "8      7\n",
      "5      5\n",
      "Name: SibSp, dtype: int64\n"
     ]
    }
   ],
   "source": [
    "cols = [\"Pclass\",\"Sex\" ,\"Embarked\",\"Parch\",\"SibSp\"]\n",
    "for i in cols:\n",
    "    bar_graph(i)"
   ]
  },
  {
   "cell_type": "code",
   "execution_count": 21,
   "id": "a8436697",
   "metadata": {
    "execution": {
     "iopub.execute_input": "2023-03-13T05:41:22.252243Z",
     "iopub.status.busy": "2023-03-13T05:41:22.251828Z",
     "iopub.status.idle": "2023-03-13T05:41:22.256624Z",
     "shell.execute_reply": "2023-03-13T05:41:22.255313Z"
    },
    "papermill": {
     "duration": 0.025906,
     "end_time": "2023-03-13T05:41:22.259323",
     "exception": false,
     "start_time": "2023-03-13T05:41:22.233417",
     "status": "completed"
    },
    "tags": []
   },
   "outputs": [],
   "source": [
    "#observation: from the bar plots we see that in Pclass from third class more people died \n",
    "#as compared to other class also find other columns showing more people died"
   ]
  },
  {
   "cell_type": "code",
   "execution_count": 22,
   "id": "8ad3a81e",
   "metadata": {
    "execution": {
     "iopub.execute_input": "2023-03-13T05:41:22.295835Z",
     "iopub.status.busy": "2023-03-13T05:41:22.295326Z",
     "iopub.status.idle": "2023-03-13T05:41:22.344278Z",
     "shell.execute_reply": "2023-03-13T05:41:22.343035Z"
    },
    "papermill": {
     "duration": 0.070087,
     "end_time": "2023-03-13T05:41:22.346804",
     "exception": false,
     "start_time": "2023-03-13T05:41:22.276717",
     "status": "completed"
    },
    "tags": []
   },
   "outputs": [
    {
     "data": {
      "text/html": [
       "<div>\n",
       "<style scoped>\n",
       "    .dataframe tbody tr th:only-of-type {\n",
       "        vertical-align: middle;\n",
       "    }\n",
       "\n",
       "    .dataframe tbody tr th {\n",
       "        vertical-align: top;\n",
       "    }\n",
       "\n",
       "    .dataframe thead th {\n",
       "        text-align: right;\n",
       "    }\n",
       "</style>\n",
       "<table border=\"1\" class=\"dataframe\">\n",
       "  <thead>\n",
       "    <tr style=\"text-align: right;\">\n",
       "      <th>Pclass</th>\n",
       "      <th>1</th>\n",
       "      <th>2</th>\n",
       "      <th>3</th>\n",
       "      <th>Total</th>\n",
       "    </tr>\n",
       "    <tr>\n",
       "      <th>Survived</th>\n",
       "      <th></th>\n",
       "      <th></th>\n",
       "      <th></th>\n",
       "      <th></th>\n",
       "    </tr>\n",
       "  </thead>\n",
       "  <tbody>\n",
       "    <tr>\n",
       "      <th>0</th>\n",
       "      <td>80</td>\n",
       "      <td>97</td>\n",
       "      <td>372</td>\n",
       "      <td>549</td>\n",
       "    </tr>\n",
       "    <tr>\n",
       "      <th>1</th>\n",
       "      <td>136</td>\n",
       "      <td>87</td>\n",
       "      <td>119</td>\n",
       "      <td>342</td>\n",
       "    </tr>\n",
       "    <tr>\n",
       "      <th>Total</th>\n",
       "      <td>216</td>\n",
       "      <td>184</td>\n",
       "      <td>491</td>\n",
       "      <td>891</td>\n",
       "    </tr>\n",
       "  </tbody>\n",
       "</table>\n",
       "</div>"
      ],
      "text/plain": [
       "Pclass      1    2    3  Total\n",
       "Survived                      \n",
       "0          80   97  372    549\n",
       "1         136   87  119    342\n",
       "Total     216  184  491    891"
      ]
     },
     "execution_count": 22,
     "metadata": {},
     "output_type": "execute_result"
    }
   ],
   "source": [
    "#CROSS TABLE\n",
    "pd.crosstab(train_df[\"Survived\"],train_df[\"Pclass\"],margins=True,margins_name=\"Total\")"
   ]
  },
  {
   "cell_type": "code",
   "execution_count": 23,
   "id": "43d1b982",
   "metadata": {
    "execution": {
     "iopub.execute_input": "2023-03-13T05:41:22.383539Z",
     "iopub.status.busy": "2023-03-13T05:41:22.382319Z",
     "iopub.status.idle": "2023-03-13T05:41:22.387644Z",
     "shell.execute_reply": "2023-03-13T05:41:22.386772Z"
    },
    "papermill": {
     "duration": 0.026098,
     "end_time": "2023-03-13T05:41:22.389993",
     "exception": false,
     "start_time": "2023-03-13T05:41:22.363895",
     "status": "completed"
    },
    "tags": []
   },
   "outputs": [],
   "source": [
    "#observatiuon : we can see passengers from third class died more as compared to other classes"
   ]
  },
  {
   "cell_type": "code",
   "execution_count": 24,
   "id": "929fefeb",
   "metadata": {
    "execution": {
     "iopub.execute_input": "2023-03-13T05:41:22.425685Z",
     "iopub.status.busy": "2023-03-13T05:41:22.425267Z",
     "iopub.status.idle": "2023-03-13T05:41:22.465864Z",
     "shell.execute_reply": "2023-03-13T05:41:22.464687Z"
    },
    "papermill": {
     "duration": 0.061881,
     "end_time": "2023-03-13T05:41:22.468694",
     "exception": false,
     "start_time": "2023-03-13T05:41:22.406813",
     "status": "completed"
    },
    "tags": []
   },
   "outputs": [
    {
     "data": {
      "text/html": [
       "<div>\n",
       "<style scoped>\n",
       "    .dataframe tbody tr th:only-of-type {\n",
       "        vertical-align: middle;\n",
       "    }\n",
       "\n",
       "    .dataframe tbody tr th {\n",
       "        vertical-align: top;\n",
       "    }\n",
       "\n",
       "    .dataframe thead th {\n",
       "        text-align: right;\n",
       "    }\n",
       "</style>\n",
       "<table border=\"1\" class=\"dataframe\">\n",
       "  <thead>\n",
       "    <tr style=\"text-align: right;\">\n",
       "      <th>Sex</th>\n",
       "      <th>female</th>\n",
       "      <th>male</th>\n",
       "      <th>Total</th>\n",
       "    </tr>\n",
       "    <tr>\n",
       "      <th>Survived</th>\n",
       "      <th></th>\n",
       "      <th></th>\n",
       "      <th></th>\n",
       "    </tr>\n",
       "  </thead>\n",
       "  <tbody>\n",
       "    <tr>\n",
       "      <th>0</th>\n",
       "      <td>81</td>\n",
       "      <td>468</td>\n",
       "      <td>549</td>\n",
       "    </tr>\n",
       "    <tr>\n",
       "      <th>1</th>\n",
       "      <td>233</td>\n",
       "      <td>109</td>\n",
       "      <td>342</td>\n",
       "    </tr>\n",
       "    <tr>\n",
       "      <th>Total</th>\n",
       "      <td>314</td>\n",
       "      <td>577</td>\n",
       "      <td>891</td>\n",
       "    </tr>\n",
       "  </tbody>\n",
       "</table>\n",
       "</div>"
      ],
      "text/plain": [
       "Sex       female  male  Total\n",
       "Survived                     \n",
       "0             81   468    549\n",
       "1            233   109    342\n",
       "Total        314   577    891"
      ]
     },
     "execution_count": 24,
     "metadata": {},
     "output_type": "execute_result"
    }
   ],
   "source": [
    "pd.crosstab(train_df[\"Survived\"],train_df[\"Sex\"],margins=True,margins_name=\"Total\")"
   ]
  },
  {
   "cell_type": "code",
   "execution_count": 25,
   "id": "7cc9d424",
   "metadata": {
    "execution": {
     "iopub.execute_input": "2023-03-13T05:41:22.505876Z",
     "iopub.status.busy": "2023-03-13T05:41:22.505427Z",
     "iopub.status.idle": "2023-03-13T05:41:22.509904Z",
     "shell.execute_reply": "2023-03-13T05:41:22.508742Z"
    },
    "papermill": {
     "duration": 0.026409,
     "end_time": "2023-03-13T05:41:22.512570",
     "exception": false,
     "start_time": "2023-03-13T05:41:22.486161",
     "status": "completed"
    },
    "tags": []
   },
   "outputs": [],
   "source": [
    "#observation :we can see female survived more than male."
   ]
  },
  {
   "cell_type": "code",
   "execution_count": 26,
   "id": "d9229c8a",
   "metadata": {
    "execution": {
     "iopub.execute_input": "2023-03-13T05:41:22.548843Z",
     "iopub.status.busy": "2023-03-13T05:41:22.548410Z",
     "iopub.status.idle": "2023-03-13T05:41:22.593233Z",
     "shell.execute_reply": "2023-03-13T05:41:22.591969Z"
    },
    "papermill": {
     "duration": 0.066152,
     "end_time": "2023-03-13T05:41:22.595859",
     "exception": false,
     "start_time": "2023-03-13T05:41:22.529707",
     "status": "completed"
    },
    "tags": []
   },
   "outputs": [
    {
     "data": {
      "text/html": [
       "<div>\n",
       "<style scoped>\n",
       "    .dataframe tbody tr th:only-of-type {\n",
       "        vertical-align: middle;\n",
       "    }\n",
       "\n",
       "    .dataframe tbody tr th {\n",
       "        vertical-align: top;\n",
       "    }\n",
       "\n",
       "    .dataframe thead th {\n",
       "        text-align: right;\n",
       "    }\n",
       "</style>\n",
       "<table border=\"1\" class=\"dataframe\">\n",
       "  <thead>\n",
       "    <tr style=\"text-align: right;\">\n",
       "      <th>SibSp</th>\n",
       "      <th>0</th>\n",
       "      <th>1</th>\n",
       "      <th>2</th>\n",
       "      <th>3</th>\n",
       "      <th>4</th>\n",
       "      <th>5</th>\n",
       "      <th>8</th>\n",
       "      <th>Total</th>\n",
       "    </tr>\n",
       "    <tr>\n",
       "      <th>Survived</th>\n",
       "      <th></th>\n",
       "      <th></th>\n",
       "      <th></th>\n",
       "      <th></th>\n",
       "      <th></th>\n",
       "      <th></th>\n",
       "      <th></th>\n",
       "      <th></th>\n",
       "    </tr>\n",
       "  </thead>\n",
       "  <tbody>\n",
       "    <tr>\n",
       "      <th>0</th>\n",
       "      <td>398</td>\n",
       "      <td>97</td>\n",
       "      <td>15</td>\n",
       "      <td>12</td>\n",
       "      <td>15</td>\n",
       "      <td>5</td>\n",
       "      <td>7</td>\n",
       "      <td>549</td>\n",
       "    </tr>\n",
       "    <tr>\n",
       "      <th>1</th>\n",
       "      <td>210</td>\n",
       "      <td>112</td>\n",
       "      <td>13</td>\n",
       "      <td>4</td>\n",
       "      <td>3</td>\n",
       "      <td>0</td>\n",
       "      <td>0</td>\n",
       "      <td>342</td>\n",
       "    </tr>\n",
       "    <tr>\n",
       "      <th>Total</th>\n",
       "      <td>608</td>\n",
       "      <td>209</td>\n",
       "      <td>28</td>\n",
       "      <td>16</td>\n",
       "      <td>18</td>\n",
       "      <td>5</td>\n",
       "      <td>7</td>\n",
       "      <td>891</td>\n",
       "    </tr>\n",
       "  </tbody>\n",
       "</table>\n",
       "</div>"
      ],
      "text/plain": [
       "SibSp       0    1   2   3   4  5  8  Total\n",
       "Survived                                   \n",
       "0         398   97  15  12  15  5  7    549\n",
       "1         210  112  13   4   3  0  0    342\n",
       "Total     608  209  28  16  18  5  7    891"
      ]
     },
     "execution_count": 26,
     "metadata": {},
     "output_type": "execute_result"
    }
   ],
   "source": [
    "pd.crosstab(train_df[\"Survived\"],train_df[\"SibSp\"],margins=True,margins_name=\"Total\")"
   ]
  },
  {
   "cell_type": "code",
   "execution_count": 27,
   "id": "7d14b450",
   "metadata": {
    "execution": {
     "iopub.execute_input": "2023-03-13T05:41:22.632762Z",
     "iopub.status.busy": "2023-03-13T05:41:22.632076Z",
     "iopub.status.idle": "2023-03-13T05:41:22.637098Z",
     "shell.execute_reply": "2023-03-13T05:41:22.635898Z"
    },
    "papermill": {
     "duration": 0.026368,
     "end_time": "2023-03-13T05:41:22.639702",
     "exception": false,
     "start_time": "2023-03-13T05:41:22.613334",
     "status": "completed"
    },
    "tags": []
   },
   "outputs": [],
   "source": [
    "#observation people with no sibling and spouse died more than others."
   ]
  },
  {
   "cell_type": "code",
   "execution_count": 28,
   "id": "a7a9762b",
   "metadata": {
    "execution": {
     "iopub.execute_input": "2023-03-13T05:41:22.676879Z",
     "iopub.status.busy": "2023-03-13T05:41:22.676486Z",
     "iopub.status.idle": "2023-03-13T05:41:22.681347Z",
     "shell.execute_reply": "2023-03-13T05:41:22.680267Z"
    },
    "papermill": {
     "duration": 0.026137,
     "end_time": "2023-03-13T05:41:22.683741",
     "exception": false,
     "start_time": "2023-03-13T05:41:22.657604",
     "status": "completed"
    },
    "tags": []
   },
   "outputs": [],
   "source": [
    "#pivot Table"
   ]
  },
  {
   "cell_type": "code",
   "execution_count": 29,
   "id": "47d4203d",
   "metadata": {
    "execution": {
     "iopub.execute_input": "2023-03-13T05:41:22.721521Z",
     "iopub.status.busy": "2023-03-13T05:41:22.721037Z",
     "iopub.status.idle": "2023-03-13T05:41:22.746763Z",
     "shell.execute_reply": "2023-03-13T05:41:22.745665Z"
    },
    "papermill": {
     "duration": 0.047784,
     "end_time": "2023-03-13T05:41:22.749423",
     "exception": false,
     "start_time": "2023-03-13T05:41:22.701639",
     "status": "completed"
    },
    "tags": []
   },
   "outputs": [
    {
     "data": {
      "text/html": [
       "<div>\n",
       "<style scoped>\n",
       "    .dataframe tbody tr th:only-of-type {\n",
       "        vertical-align: middle;\n",
       "    }\n",
       "\n",
       "    .dataframe tbody tr th {\n",
       "        vertical-align: top;\n",
       "    }\n",
       "\n",
       "    .dataframe thead th {\n",
       "        text-align: right;\n",
       "    }\n",
       "</style>\n",
       "<table border=\"1\" class=\"dataframe\">\n",
       "  <thead>\n",
       "    <tr style=\"text-align: right;\">\n",
       "      <th></th>\n",
       "      <th></th>\n",
       "      <th>Sex</th>\n",
       "      <th>female</th>\n",
       "      <th>male</th>\n",
       "    </tr>\n",
       "    <tr>\n",
       "      <th>Embarked</th>\n",
       "      <th>Pclass</th>\n",
       "      <th>SibSp</th>\n",
       "      <th></th>\n",
       "      <th></th>\n",
       "    </tr>\n",
       "  </thead>\n",
       "  <tbody>\n",
       "    <tr>\n",
       "      <th rowspan=\"8\" valign=\"top\">C</th>\n",
       "      <th rowspan=\"3\" valign=\"top\">1</th>\n",
       "      <th>0</th>\n",
       "      <td>0.956522</td>\n",
       "      <td>0.343750</td>\n",
       "    </tr>\n",
       "    <tr>\n",
       "      <th>1</th>\n",
       "      <td>1.000000</td>\n",
       "      <td>0.600000</td>\n",
       "    </tr>\n",
       "    <tr>\n",
       "      <th>2</th>\n",
       "      <td>1.000000</td>\n",
       "      <td>NaN</td>\n",
       "    </tr>\n",
       "    <tr>\n",
       "      <th rowspan=\"2\" valign=\"top\">2</th>\n",
       "      <th>0</th>\n",
       "      <td>1.000000</td>\n",
       "      <td>0.400000</td>\n",
       "    </tr>\n",
       "    <tr>\n",
       "      <th>1</th>\n",
       "      <td>1.000000</td>\n",
       "      <td>0.000000</td>\n",
       "    </tr>\n",
       "    <tr>\n",
       "      <th rowspan=\"3\" valign=\"top\">3</th>\n",
       "      <th>0</th>\n",
       "      <td>0.692308</td>\n",
       "      <td>0.176471</td>\n",
       "    </tr>\n",
       "    <tr>\n",
       "      <th>1</th>\n",
       "      <td>0.428571</td>\n",
       "      <td>0.500000</td>\n",
       "    </tr>\n",
       "    <tr>\n",
       "      <th>2</th>\n",
       "      <td>1.000000</td>\n",
       "      <td>0.000000</td>\n",
       "    </tr>\n",
       "    <tr>\n",
       "      <th rowspan=\"7\" valign=\"top\">Q</th>\n",
       "      <th rowspan=\"2\" valign=\"top\">1</th>\n",
       "      <th>1</th>\n",
       "      <td>1.000000</td>\n",
       "      <td>NaN</td>\n",
       "    </tr>\n",
       "    <tr>\n",
       "      <th>2</th>\n",
       "      <td>NaN</td>\n",
       "      <td>0.000000</td>\n",
       "    </tr>\n",
       "    <tr>\n",
       "      <th>2</th>\n",
       "      <th>0</th>\n",
       "      <td>1.000000</td>\n",
       "      <td>0.000000</td>\n",
       "    </tr>\n",
       "    <tr>\n",
       "      <th rowspan=\"4\" valign=\"top\">3</th>\n",
       "      <th>0</th>\n",
       "      <td>0.703704</td>\n",
       "      <td>0.068966</td>\n",
       "    </tr>\n",
       "    <tr>\n",
       "      <th>1</th>\n",
       "      <td>0.800000</td>\n",
       "      <td>0.000000</td>\n",
       "    </tr>\n",
       "    <tr>\n",
       "      <th>2</th>\n",
       "      <td>1.000000</td>\n",
       "      <td>1.000000</td>\n",
       "    </tr>\n",
       "    <tr>\n",
       "      <th>4</th>\n",
       "      <td>NaN</td>\n",
       "      <td>0.000000</td>\n",
       "    </tr>\n",
       "    <tr>\n",
       "      <th rowspan=\"15\" valign=\"top\">S</th>\n",
       "      <th rowspan=\"4\" valign=\"top\">1</th>\n",
       "      <th>0</th>\n",
       "      <td>1.000000</td>\n",
       "      <td>0.321429</td>\n",
       "    </tr>\n",
       "    <tr>\n",
       "      <th>1</th>\n",
       "      <td>0.904762</td>\n",
       "      <td>0.428571</td>\n",
       "    </tr>\n",
       "    <tr>\n",
       "      <th>2</th>\n",
       "      <td>1.000000</td>\n",
       "      <td>1.000000</td>\n",
       "    </tr>\n",
       "    <tr>\n",
       "      <th>3</th>\n",
       "      <td>1.000000</td>\n",
       "      <td>0.000000</td>\n",
       "    </tr>\n",
       "    <tr>\n",
       "      <th rowspan=\"4\" valign=\"top\">2</th>\n",
       "      <th>0</th>\n",
       "      <td>0.925000</td>\n",
       "      <td>0.100000</td>\n",
       "    </tr>\n",
       "    <tr>\n",
       "      <th>1</th>\n",
       "      <td>0.869565</td>\n",
       "      <td>0.318182</td>\n",
       "    </tr>\n",
       "    <tr>\n",
       "      <th>2</th>\n",
       "      <td>1.000000</td>\n",
       "      <td>0.200000</td>\n",
       "    </tr>\n",
       "    <tr>\n",
       "      <th>3</th>\n",
       "      <td>1.000000</td>\n",
       "      <td>NaN</td>\n",
       "    </tr>\n",
       "    <tr>\n",
       "      <th rowspan=\"7\" valign=\"top\">3</th>\n",
       "      <th>0</th>\n",
       "      <td>0.487805</td>\n",
       "      <td>0.130435</td>\n",
       "    </tr>\n",
       "    <tr>\n",
       "      <th>1</th>\n",
       "      <td>0.384615</td>\n",
       "      <td>0.187500</td>\n",
       "    </tr>\n",
       "    <tr>\n",
       "      <th>2</th>\n",
       "      <td>0.000000</td>\n",
       "      <td>0.000000</td>\n",
       "    </tr>\n",
       "    <tr>\n",
       "      <th>3</th>\n",
       "      <td>0.125000</td>\n",
       "      <td>0.000000</td>\n",
       "    </tr>\n",
       "    <tr>\n",
       "      <th>4</th>\n",
       "      <td>0.333333</td>\n",
       "      <td>0.125000</td>\n",
       "    </tr>\n",
       "    <tr>\n",
       "      <th>5</th>\n",
       "      <td>0.000000</td>\n",
       "      <td>0.000000</td>\n",
       "    </tr>\n",
       "    <tr>\n",
       "      <th>8</th>\n",
       "      <td>0.000000</td>\n",
       "      <td>0.000000</td>\n",
       "    </tr>\n",
       "  </tbody>\n",
       "</table>\n",
       "</div>"
      ],
      "text/plain": [
       "Sex                      female      male\n",
       "Embarked Pclass SibSp                    \n",
       "C        1      0      0.956522  0.343750\n",
       "                1      1.000000  0.600000\n",
       "                2      1.000000       NaN\n",
       "         2      0      1.000000  0.400000\n",
       "                1      1.000000  0.000000\n",
       "         3      0      0.692308  0.176471\n",
       "                1      0.428571  0.500000\n",
       "                2      1.000000  0.000000\n",
       "Q        1      1      1.000000       NaN\n",
       "                2           NaN  0.000000\n",
       "         2      0      1.000000  0.000000\n",
       "         3      0      0.703704  0.068966\n",
       "                1      0.800000  0.000000\n",
       "                2      1.000000  1.000000\n",
       "                4           NaN  0.000000\n",
       "S        1      0      1.000000  0.321429\n",
       "                1      0.904762  0.428571\n",
       "                2      1.000000  1.000000\n",
       "                3      1.000000  0.000000\n",
       "         2      0      0.925000  0.100000\n",
       "                1      0.869565  0.318182\n",
       "                2      1.000000  0.200000\n",
       "                3      1.000000       NaN\n",
       "         3      0      0.487805  0.130435\n",
       "                1      0.384615  0.187500\n",
       "                2      0.000000  0.000000\n",
       "                3      0.125000  0.000000\n",
       "                4      0.333333  0.125000\n",
       "                5      0.000000  0.000000\n",
       "                8      0.000000  0.000000"
      ]
     },
     "execution_count": 29,
     "metadata": {},
     "output_type": "execute_result"
    }
   ],
   "source": [
    "pivot = train_df.pivot_table(\"Survived\",index = [\"Embarked\",\"Pclass\",\"SibSp\"], columns = \"Sex\")\n",
    "pivot"
   ]
  },
  {
   "cell_type": "code",
   "execution_count": 30,
   "id": "eccdcf6d",
   "metadata": {
    "execution": {
     "iopub.execute_input": "2023-03-13T05:41:22.787172Z",
     "iopub.status.busy": "2023-03-13T05:41:22.786771Z",
     "iopub.status.idle": "2023-03-13T05:41:22.791579Z",
     "shell.execute_reply": "2023-03-13T05:41:22.790481Z"
    },
    "papermill": {
     "duration": 0.026542,
     "end_time": "2023-03-13T05:41:22.794161",
     "exception": false,
     "start_time": "2023-03-13T05:41:22.767619",
     "status": "completed"
    },
    "tags": []
   },
   "outputs": [],
   "source": [
    "#observation : We can see detailed vview of value counts"
   ]
  },
  {
   "cell_type": "code",
   "execution_count": 31,
   "id": "43c5f186",
   "metadata": {
    "execution": {
     "iopub.execute_input": "2023-03-13T05:41:22.831775Z",
     "iopub.status.busy": "2023-03-13T05:41:22.831378Z",
     "iopub.status.idle": "2023-03-13T05:41:23.108243Z",
     "shell.execute_reply": "2023-03-13T05:41:23.107056Z"
    },
    "papermill": {
     "duration": 0.298447,
     "end_time": "2023-03-13T05:41:23.110845",
     "exception": false,
     "start_time": "2023-03-13T05:41:22.812398",
     "status": "completed"
    },
    "tags": []
   },
   "outputs": [
    {
     "data": {
      "image/png": "[encoded data removed]",
      "text/plain": [
       "<Figure size 640x480 with 2 Axes>"
      ]
     },
     "metadata": {},
     "output_type": "display_data"
    }
   ],
   "source": [
    "#visualization of target variable over multiple variables using heat map\n",
    "\n",
    "plt.pcolor(pivot, cmap=\"RdBu\")\n",
    "plt.colorbar()\n",
    "plt.show()"
   ]
  },
  {
   "cell_type": "code",
   "execution_count": 32,
   "id": "8184c967",
   "metadata": {
    "execution": {
     "iopub.execute_input": "2023-03-13T05:41:23.149622Z",
     "iopub.status.busy": "2023-03-13T05:41:23.148404Z",
     "iopub.status.idle": "2023-03-13T05:41:23.153615Z",
     "shell.execute_reply": "2023-03-13T05:41:23.152416Z"
    },
    "papermill": {
     "duration": 0.026958,
     "end_time": "2023-03-13T05:41:23.156097",
     "exception": false,
     "start_time": "2023-03-13T05:41:23.129139",
     "status": "completed"
    },
    "tags": []
   },
   "outputs": [],
   "source": [
    "#Data Prepration for fitting a model\n"
   ]
  },
  {
   "cell_type": "code",
   "execution_count": 33,
   "id": "e3b851f2",
   "metadata": {
    "execution": {
     "iopub.execute_input": "2023-03-13T05:41:23.195314Z",
     "iopub.status.busy": "2023-03-13T05:41:23.194133Z",
     "iopub.status.idle": "2023-03-13T05:41:23.429000Z",
     "shell.execute_reply": "2023-03-13T05:41:23.427720Z"
    },
    "papermill": {
     "duration": 0.257346,
     "end_time": "2023-03-13T05:41:23.431726",
     "exception": false,
     "start_time": "2023-03-13T05:41:23.174380",
     "status": "completed"
    },
    "tags": []
   },
   "outputs": [],
   "source": [
    "from sklearn.model_selection import train_test_split #splitting dataset into train & test\n",
    "from sklearn.preprocessing import StandardScaler     #to Scale data Values\n",
    "from sklearn.preprocessing import LabelEncoder       #converting categorical variables into numerical\n"
   ]
  },
  {
   "cell_type": "code",
   "execution_count": 34,
   "id": "2c8d5d22",
   "metadata": {
    "execution": {
     "iopub.execute_input": "2023-03-13T05:41:23.469704Z",
     "iopub.status.busy": "2023-03-13T05:41:23.469268Z",
     "iopub.status.idle": "2023-03-13T05:41:23.480988Z",
     "shell.execute_reply": "2023-03-13T05:41:23.479825Z"
    },
    "papermill": {
     "duration": 0.033607,
     "end_time": "2023-03-13T05:41:23.483409",
     "exception": false,
     "start_time": "2023-03-13T05:41:23.449802",
     "status": "completed"
    },
    "tags": []
   },
   "outputs": [],
   "source": [
    "Lben = LabelEncoder()\n",
    "\n",
    "train_df[\"Sex\"] = Lben.fit_transform(train_df[\"Sex\"].sort_values())\n",
    "train_df[\"Embarked\"] = Lben.fit_transform(train_df[\"Embarked\"].astype(str).values)\n",
    "\n",
    "test_df[\"Sex\"] = Lben.fit_transform(test_df[\"Sex\"].sort_values())\n",
    "test_df[\"Embarked\"] = Lben.fit_transform(test_df[\"Embarked\"].astype(str).values)"
   ]
  },
  {
   "cell_type": "code",
   "execution_count": 35,
   "id": "7cecfb9a",
   "metadata": {
    "execution": {
     "iopub.execute_input": "2023-03-13T05:41:23.522345Z",
     "iopub.status.busy": "2023-03-13T05:41:23.521193Z",
     "iopub.status.idle": "2023-03-13T05:41:23.535434Z",
     "shell.execute_reply": "2023-03-13T05:41:23.534242Z"
    },
    "papermill": {
     "duration": 0.036081,
     "end_time": "2023-03-13T05:41:23.537980",
     "exception": false,
     "start_time": "2023-03-13T05:41:23.501899",
     "status": "completed"
    },
    "tags": []
   },
   "outputs": [
    {
     "data": {
      "text/html": [
       "<div>\n",
       "<style scoped>\n",
       "    .dataframe tbody tr th:only-of-type {\n",
       "        vertical-align: middle;\n",
       "    }\n",
       "\n",
       "    .dataframe tbody tr th {\n",
       "        vertical-align: top;\n",
       "    }\n",
       "\n",
       "    .dataframe thead th {\n",
       "        text-align: right;\n",
       "    }\n",
       "</style>\n",
       "<table border=\"1\" class=\"dataframe\">\n",
       "  <thead>\n",
       "    <tr style=\"text-align: right;\">\n",
       "      <th></th>\n",
       "      <th>Survived</th>\n",
       "      <th>Pclass</th>\n",
       "      <th>Sex</th>\n",
       "      <th>Age</th>\n",
       "      <th>SibSp</th>\n",
       "      <th>Parch</th>\n",
       "      <th>Embarked</th>\n",
       "      <th>Age_mean</th>\n",
       "    </tr>\n",
       "  </thead>\n",
       "  <tbody>\n",
       "    <tr>\n",
       "      <th>0</th>\n",
       "      <td>0</td>\n",
       "      <td>3</td>\n",
       "      <td>0</td>\n",
       "      <td>22.0</td>\n",
       "      <td>1</td>\n",
       "      <td>0</td>\n",
       "      <td>2</td>\n",
       "      <td>22.0</td>\n",
       "    </tr>\n",
       "    <tr>\n",
       "      <th>1</th>\n",
       "      <td>1</td>\n",
       "      <td>1</td>\n",
       "      <td>0</td>\n",
       "      <td>38.0</td>\n",
       "      <td>1</td>\n",
       "      <td>0</td>\n",
       "      <td>0</td>\n",
       "      <td>38.0</td>\n",
       "    </tr>\n",
       "    <tr>\n",
       "      <th>2</th>\n",
       "      <td>1</td>\n",
       "      <td>3</td>\n",
       "      <td>0</td>\n",
       "      <td>26.0</td>\n",
       "      <td>0</td>\n",
       "      <td>0</td>\n",
       "      <td>2</td>\n",
       "      <td>26.0</td>\n",
       "    </tr>\n",
       "    <tr>\n",
       "      <th>3</th>\n",
       "      <td>1</td>\n",
       "      <td>1</td>\n",
       "      <td>0</td>\n",
       "      <td>35.0</td>\n",
       "      <td>1</td>\n",
       "      <td>0</td>\n",
       "      <td>2</td>\n",
       "      <td>35.0</td>\n",
       "    </tr>\n",
       "    <tr>\n",
       "      <th>4</th>\n",
       "      <td>0</td>\n",
       "      <td>3</td>\n",
       "      <td>0</td>\n",
       "      <td>35.0</td>\n",
       "      <td>0</td>\n",
       "      <td>0</td>\n",
       "      <td>2</td>\n",
       "      <td>35.0</td>\n",
       "    </tr>\n",
       "  </tbody>\n",
       "</table>\n",
       "</div>"
      ],
      "text/plain": [
       "   Survived  Pclass  Sex   Age  SibSp  Parch  Embarked  Age_mean\n",
       "0         0       3    0  22.0      1      0         2      22.0\n",
       "1         1       1    0  38.0      1      0         0      38.0\n",
       "2         1       3    0  26.0      0      0         2      26.0\n",
       "3         1       1    0  35.0      1      0         2      35.0\n",
       "4         0       3    0  35.0      0      0         2      35.0"
      ]
     },
     "execution_count": 35,
     "metadata": {},
     "output_type": "execute_result"
    }
   ],
   "source": [
    "train_df.head()"
   ]
  },
  {
   "cell_type": "code",
   "execution_count": 36,
   "id": "972e1297",
   "metadata": {
    "execution": {
     "iopub.execute_input": "2023-03-13T05:41:23.576202Z",
     "iopub.status.busy": "2023-03-13T05:41:23.575774Z",
     "iopub.status.idle": "2023-03-13T05:41:23.580353Z",
     "shell.execute_reply": "2023-03-13T05:41:23.579211Z"
    },
    "papermill": {
     "duration": 0.026299,
     "end_time": "2023-03-13T05:41:23.582544",
     "exception": false,
     "start_time": "2023-03-13T05:41:23.556245",
     "status": "completed"
    },
    "tags": []
   },
   "outputs": [],
   "source": [
    "#setting our values for target variable"
   ]
  },
  {
   "cell_type": "code",
   "execution_count": 37,
   "id": "0d2bd2ac",
   "metadata": {
    "execution": {
     "iopub.execute_input": "2023-03-13T05:41:23.620686Z",
     "iopub.status.busy": "2023-03-13T05:41:23.620258Z",
     "iopub.status.idle": "2023-03-13T05:41:23.626588Z",
     "shell.execute_reply": "2023-03-13T05:41:23.625359Z"
    },
    "papermill": {
     "duration": 0.028412,
     "end_time": "2023-03-13T05:41:23.629022",
     "exception": false,
     "start_time": "2023-03-13T05:41:23.600610",
     "status": "completed"
    },
    "tags": []
   },
   "outputs": [],
   "source": [
    "x_train = train_df.iloc[:,1:7]\n",
    "y_train = train_df.loc[:, \"Survived\"]\n",
    "x_test  = test_df"
   ]
  },
  {
   "cell_type": "code",
   "execution_count": 38,
   "id": "6ab84286",
   "metadata": {
    "execution": {
     "iopub.execute_input": "2023-03-13T05:41:23.667392Z",
     "iopub.status.busy": "2023-03-13T05:41:23.666567Z",
     "iopub.status.idle": "2023-03-13T05:41:23.678566Z",
     "shell.execute_reply": "2023-03-13T05:41:23.677426Z"
    },
    "papermill": {
     "duration": 0.03373,
     "end_time": "2023-03-13T05:41:23.680960",
     "exception": false,
     "start_time": "2023-03-13T05:41:23.647230",
     "status": "completed"
    },
    "tags": []
   },
   "outputs": [],
   "source": [
    "sc_object = StandardScaler()\n",
    "x_train = sc_object.fit_transform(x_train)\n",
    "x_test = sc_object.transform(x_test)"
   ]
  },
  {
   "cell_type": "code",
   "execution_count": 39,
   "id": "dc395900",
   "metadata": {
    "execution": {
     "iopub.execute_input": "2023-03-13T05:41:23.718807Z",
     "iopub.status.busy": "2023-03-13T05:41:23.718287Z",
     "iopub.status.idle": "2023-03-13T05:41:24.069038Z",
     "shell.execute_reply": "2023-03-13T05:41:24.067737Z"
    },
    "papermill": {
     "duration": 0.372696,
     "end_time": "2023-03-13T05:41:24.071847",
     "exception": false,
     "start_time": "2023-03-13T05:41:23.699151",
     "status": "completed"
    },
    "tags": []
   },
   "outputs": [],
   "source": [
    "#libraries for differentt machine learning models\n",
    "from sklearn.linear_model import LogisticRegression\n",
    "from sklearn.tree import DecisionTreeClassifier\n",
    "from sklearn.ensemble import RandomForestClassifier\n",
    "from sklearn.svm import SVC\n",
    "from sklearn .naive_bayes import GaussianNB\n",
    "from sklearn.neighbors import KNeighborsClassifier"
   ]
  },
  {
   "cell_type": "code",
   "execution_count": 40,
   "id": "91647026",
   "metadata": {
    "execution": {
     "iopub.execute_input": "2023-03-13T05:41:24.110222Z",
     "iopub.status.busy": "2023-03-13T05:41:24.109801Z",
     "iopub.status.idle": "2023-03-13T05:41:24.124774Z",
     "shell.execute_reply": "2023-03-13T05:41:24.123033Z"
    },
    "papermill": {
     "duration": 0.037524,
     "end_time": "2023-03-13T05:41:24.127656",
     "exception": false,
     "start_time": "2023-03-13T05:41:24.090132",
     "status": "completed"
    },
    "tags": []
   },
   "outputs": [
    {
     "name": "stdout",
     "output_type": "stream",
     "text": [
      "71.6\n"
     ]
    }
   ],
   "source": [
    "#Logistic Regression Model\n",
    "l_regression = LogisticRegression()\n",
    "l_regression.fit(x_train, y_train)\n",
    "lreg_score = round(l_regression.score(x_train,y_train)*100,2)\n",
    "print(lreg_score)"
   ]
  },
  {
   "cell_type": "code",
   "execution_count": 41,
   "id": "c45aa96e",
   "metadata": {
    "execution": {
     "iopub.execute_input": "2023-03-13T05:41:24.166224Z",
     "iopub.status.busy": "2023-03-13T05:41:24.165818Z",
     "iopub.status.idle": "2023-03-13T05:41:24.177858Z",
     "shell.execute_reply": "2023-03-13T05:41:24.176517Z"
    },
    "papermill": {
     "duration": 0.034075,
     "end_time": "2023-03-13T05:41:24.180327",
     "exception": false,
     "start_time": "2023-03-13T05:41:24.146252",
     "status": "completed"
    },
    "tags": []
   },
   "outputs": [
    {
     "name": "stdout",
     "output_type": "stream",
     "text": [
      "89.79\n"
     ]
    }
   ],
   "source": [
    "#Decision Tree Classifier\n",
    "d_tree = DecisionTreeClassifier()\n",
    "d_tree.fit(x_train,y_train)\n",
    "dtree_score = round(d_tree.score(x_train,y_train)*100,2)\n",
    "print(dtree_score)"
   ]
  },
  {
   "cell_type": "code",
   "execution_count": 42,
   "id": "27c39ee7",
   "metadata": {
    "execution": {
     "iopub.execute_input": "2023-03-13T05:41:24.218676Z",
     "iopub.status.busy": "2023-03-13T05:41:24.218223Z",
     "iopub.status.idle": "2023-03-13T05:41:24.450152Z",
     "shell.execute_reply": "2023-03-13T05:41:24.448453Z"
    },
    "papermill": {
     "duration": 0.25575,
     "end_time": "2023-03-13T05:41:24.454424",
     "exception": false,
     "start_time": "2023-03-13T05:41:24.198674",
     "status": "completed"
    },
    "tags": []
   },
   "outputs": [
    {
     "name": "stdout",
     "output_type": "stream",
     "text": [
      "89.79\n"
     ]
    }
   ],
   "source": [
    "#Random Forest Model\n",
    "r_forest = RandomForestClassifier()\n",
    "r_forest.fit(x_train, y_train)\n",
    "rf_score = round(r_forest.score(x_train, y_train)*100,2)\n",
    "print(rf_score)"
   ]
  },
  {
   "cell_type": "code",
   "execution_count": 43,
   "id": "aa5d9d6c",
   "metadata": {
    "execution": {
     "iopub.execute_input": "2023-03-13T05:41:24.494094Z",
     "iopub.status.busy": "2023-03-13T05:41:24.493051Z",
     "iopub.status.idle": "2023-03-13T05:41:24.561774Z",
     "shell.execute_reply": "2023-03-13T05:41:24.560014Z"
    },
    "papermill": {
     "duration": 0.091474,
     "end_time": "2023-03-13T05:41:24.564789",
     "exception": false,
     "start_time": "2023-03-13T05:41:24.473315",
     "status": "completed"
    },
    "tags": []
   },
   "outputs": [
    {
     "name": "stdout",
     "output_type": "stream",
     "text": [
      "74.86\n"
     ]
    }
   ],
   "source": [
    "#SVC\n",
    "svc = SVC(kernel = \"rbf\", random_state = 0)\n",
    "svc.fit(x_train, y_train)\n",
    "svc_score = round(svc.score(x_train, y_train)*100,2)\n",
    "print(svc_score)"
   ]
  },
  {
   "cell_type": "code",
   "execution_count": 44,
   "id": "1175e18c",
   "metadata": {
    "execution": {
     "iopub.execute_input": "2023-03-13T05:41:24.603877Z",
     "iopub.status.busy": "2023-03-13T05:41:24.603063Z",
     "iopub.status.idle": "2023-03-13T05:41:24.611410Z",
     "shell.execute_reply": "2023-03-13T05:41:24.610320Z"
    },
    "papermill": {
     "duration": 0.030358,
     "end_time": "2023-03-13T05:41:24.613618",
     "exception": false,
     "start_time": "2023-03-13T05:41:24.583260",
     "status": "completed"
    },
    "tags": []
   },
   "outputs": [
    {
     "name": "stdout",
     "output_type": "stream",
     "text": [
      "67.45\n"
     ]
    }
   ],
   "source": [
    "#GAUSSIAN NB\n",
    "nb = GaussianNB()\n",
    "nb.fit(x_train, y_train)\n",
    "nb_score = round(nb.score(x_train, y_train)*100,2)\n",
    "print(nb_score)"
   ]
  },
  {
   "cell_type": "code",
   "execution_count": 45,
   "id": "435a2bf6",
   "metadata": {
    "execution": {
     "iopub.execute_input": "2023-03-13T05:41:24.652753Z",
     "iopub.status.busy": "2023-03-13T05:41:24.652300Z",
     "iopub.status.idle": "2023-03-13T05:41:24.688387Z",
     "shell.execute_reply": "2023-03-13T05:41:24.686948Z"
    },
    "papermill": {
     "duration": 0.059651,
     "end_time": "2023-03-13T05:41:24.691743",
     "exception": false,
     "start_time": "2023-03-13T05:41:24.632092",
     "status": "completed"
    },
    "tags": []
   },
   "outputs": [
    {
     "name": "stdout",
     "output_type": "stream",
     "text": [
      "79.46\n"
     ]
    }
   ],
   "source": [
    "#K nearest Neighbors\n",
    "knn = KNeighborsClassifier(n_neighbors = 3,metric = \"minkowski\",p=2)\n",
    "knn.fit(x_train, y_train)\n",
    "knn_score = round(knn.score(x_train, y_train)*100,2)\n",
    "print(knn_score)"
   ]
  },
  {
   "cell_type": "code",
   "execution_count": 46,
   "id": "a1a15371",
   "metadata": {
    "execution": {
     "iopub.execute_input": "2023-03-13T05:41:24.731697Z",
     "iopub.status.busy": "2023-03-13T05:41:24.730407Z",
     "iopub.status.idle": "2023-03-13T05:41:24.744730Z",
     "shell.execute_reply": "2023-03-13T05:41:24.743737Z"
    },
    "papermill": {
     "duration": 0.036645,
     "end_time": "2023-03-13T05:41:24.747150",
     "exception": false,
     "start_time": "2023-03-13T05:41:24.710505",
     "status": "completed"
    },
    "tags": []
   },
   "outputs": [
    {
     "data": {
      "text/html": [
       "<div>\n",
       "<style scoped>\n",
       "    .dataframe tbody tr th:only-of-type {\n",
       "        vertical-align: middle;\n",
       "    }\n",
       "\n",
       "    .dataframe tbody tr th {\n",
       "        vertical-align: top;\n",
       "    }\n",
       "\n",
       "    .dataframe thead th {\n",
       "        text-align: right;\n",
       "    }\n",
       "</style>\n",
       "<table border=\"1\" class=\"dataframe\">\n",
       "  <thead>\n",
       "    <tr style=\"text-align: right;\">\n",
       "      <th></th>\n",
       "      <th>Models</th>\n",
       "      <th>Accuracy_values</th>\n",
       "    </tr>\n",
       "  </thead>\n",
       "  <tbody>\n",
       "    <tr>\n",
       "      <th>1</th>\n",
       "      <td>DecisionTree</td>\n",
       "      <td>89.79</td>\n",
       "    </tr>\n",
       "    <tr>\n",
       "      <th>2</th>\n",
       "      <td>RandomForest</td>\n",
       "      <td>89.79</td>\n",
       "    </tr>\n",
       "    <tr>\n",
       "      <th>5</th>\n",
       "      <td>KNN</td>\n",
       "      <td>79.46</td>\n",
       "    </tr>\n",
       "    <tr>\n",
       "      <th>3</th>\n",
       "      <td>SVC</td>\n",
       "      <td>74.86</td>\n",
       "    </tr>\n",
       "    <tr>\n",
       "      <th>0</th>\n",
       "      <td>Logistic</td>\n",
       "      <td>71.60</td>\n",
       "    </tr>\n",
       "    <tr>\n",
       "      <th>4</th>\n",
       "      <td>GaussianNB</td>\n",
       "      <td>67.45</td>\n",
       "    </tr>\n",
       "  </tbody>\n",
       "</table>\n",
       "</div>"
      ],
      "text/plain": [
       "         Models  Accuracy_values\n",
       "1  DecisionTree            89.79\n",
       "2  RandomForest            89.79\n",
       "5           KNN            79.46\n",
       "3           SVC            74.86\n",
       "0      Logistic            71.60\n",
       "4    GaussianNB            67.45"
      ]
     },
     "execution_count": 46,
     "metadata": {},
     "output_type": "execute_result"
    }
   ],
   "source": [
    "selection = pd.DataFrame({\"Models\":[\"Logistic\",\"DecisionTree\", \"RandomForest\",\"SVC\", \"GaussianNB\", \"KNN\"],\"Accuracy_values\":[lreg_score ,dtree_score ,rf_score,svc_score,nb_score,knn_score]})\n",
    "selection.sort_values(by =\"Accuracy_values\", ascending = False)"
   ]
  },
  {
   "cell_type": "code",
   "execution_count": 47,
   "id": "7ec5c490",
   "metadata": {
    "execution": {
     "iopub.execute_input": "2023-03-13T05:41:24.787138Z",
     "iopub.status.busy": "2023-03-13T05:41:24.786358Z",
     "iopub.status.idle": "2023-03-13T05:41:24.811826Z",
     "shell.execute_reply": "2023-03-13T05:41:24.810740Z"
    },
    "papermill": {
     "duration": 0.048224,
     "end_time": "2023-03-13T05:41:24.814339",
     "exception": false,
     "start_time": "2023-03-13T05:41:24.766115",
     "status": "completed"
    },
    "tags": []
   },
   "outputs": [],
   "source": [
    "#Prediction with Random Forest Model\n",
    "#using test values\n",
    "final_prediction = r_forest.predict(x_test)\n"
   ]
  },
  {
   "cell_type": "code",
   "execution_count": 48,
   "id": "d8628140",
   "metadata": {
    "execution": {
     "iopub.execute_input": "2023-03-13T05:41:24.856606Z",
     "iopub.status.busy": "2023-03-13T05:41:24.856097Z",
     "iopub.status.idle": "2023-03-13T05:41:24.867793Z",
     "shell.execute_reply": "2023-03-13T05:41:24.866645Z"
    },
    "papermill": {
     "duration": 0.036578,
     "end_time": "2023-03-13T05:41:24.870712",
     "exception": false,
     "start_time": "2023-03-13T05:41:24.834134",
     "status": "completed"
    },
    "tags": []
   },
   "outputs": [
    {
     "data": {
      "text/html": [
       "<div>\n",
       "<style scoped>\n",
       "    .dataframe tbody tr th:only-of-type {\n",
       "        vertical-align: middle;\n",
       "    }\n",
       "\n",
       "    .dataframe tbody tr th {\n",
       "        vertical-align: top;\n",
       "    }\n",
       "\n",
       "    .dataframe thead th {\n",
       "        text-align: right;\n",
       "    }\n",
       "</style>\n",
       "<table border=\"1\" class=\"dataframe\">\n",
       "  <thead>\n",
       "    <tr style=\"text-align: right;\">\n",
       "      <th></th>\n",
       "      <th>Survived</th>\n",
       "    </tr>\n",
       "  </thead>\n",
       "  <tbody>\n",
       "    <tr>\n",
       "      <th>0</th>\n",
       "      <td>0</td>\n",
       "    </tr>\n",
       "    <tr>\n",
       "      <th>1</th>\n",
       "      <td>0</td>\n",
       "    </tr>\n",
       "    <tr>\n",
       "      <th>2</th>\n",
       "      <td>0</td>\n",
       "    </tr>\n",
       "    <tr>\n",
       "      <th>3</th>\n",
       "      <td>1</td>\n",
       "    </tr>\n",
       "    <tr>\n",
       "      <th>4</th>\n",
       "      <td>0</td>\n",
       "    </tr>\n",
       "    <tr>\n",
       "      <th>5</th>\n",
       "      <td>0</td>\n",
       "    </tr>\n",
       "    <tr>\n",
       "      <th>6</th>\n",
       "      <td>0</td>\n",
       "    </tr>\n",
       "    <tr>\n",
       "      <th>7</th>\n",
       "      <td>0</td>\n",
       "    </tr>\n",
       "    <tr>\n",
       "      <th>8</th>\n",
       "      <td>0</td>\n",
       "    </tr>\n",
       "    <tr>\n",
       "      <th>9</th>\n",
       "      <td>0</td>\n",
       "    </tr>\n",
       "  </tbody>\n",
       "</table>\n",
       "</div>"
      ],
      "text/plain": [
       "   Survived\n",
       "0         0\n",
       "1         0\n",
       "2         0\n",
       "3         1\n",
       "4         0\n",
       "5         0\n",
       "6         0\n",
       "7         0\n",
       "8         0\n",
       "9         0"
      ]
     },
     "execution_count": 48,
     "metadata": {},
     "output_type": "execute_result"
    }
   ],
   "source": [
    "#putting prediction into dataframe\n",
    "output_df = pd.DataFrame({\"Survived\": final_prediction})\n",
    "output_df.head(10)"
   ]
  },
  {
   "cell_type": "code",
   "execution_count": null,
   "id": "766a63c6",
   "metadata": {
    "papermill": {
     "duration": 0.018792,
     "end_time": "2023-03-13T05:41:24.908936",
     "exception": false,
     "start_time": "2023-03-13T05:41:24.890144",
     "status": "completed"
    },
    "tags": []
   },
   "outputs": [],
   "source": []
  }
 ],
 "metadata": {
  "kernelspec": {
   "display_name": "Python 3",
   "language": "python",
   "name": "python3"
  },
  "language_info": {
   "codemirror_mode": {
    "name": "ipython",
    "version": 3
   },
   "file_extension": ".py",
   "mimetype": "text/x-python",
   "name": "python",
   "nbconvert_exporter": "python",
   "pygments_lexer": "ipython3",
   "version": "3.7.12"
  },
  "papermill": {
   "default_parameters": {},
   "duration": 19.578441,
   "end_time": "2023-03-13T05:41:25.751396",
   "environment_variables": {},
   "exception": null,
   "input_path": "__notebook__.ipynb",
   "output_path": "__notebook__.ipynb",
   "parameters": {},
   "start_time": "2023-03-13T05:41:06.172955",
   "version": "2.4.0"
  }
 },
 "nbformat": 4,
 "nbformat_minor": 5
}
