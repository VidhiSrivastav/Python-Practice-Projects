{
 "cells": [
  {
   "cell_type": "code",
   "execution_count": 1,
   "id": "b06ed6d7",
   "metadata": {
    "_cell_guid": "b1076dfc-b9ad-4769-8c92-a6c4dae69d19",
    "_uuid": "8f2839f25d086af736a60e9eeb907d3b93b6e0e5",
    "execution": {
     "iopub.execute_input": "2023-05-06T12:26:39.641858Z",
     "iopub.status.busy": "2023-05-06T12:26:39.641279Z",
     "iopub.status.idle": "2023-05-06T12:26:39.663463Z",
     "shell.execute_reply": "2023-05-06T12:26:39.662194Z"
    },
    "papermill": {
     "duration": 0.035565,
     "end_time": "2023-05-06T12:26:39.666670",
     "exception": false,
     "start_time": "2023-05-06T12:26:39.631105",
     "status": "completed"
    },
    "tags": []
   },
   "outputs": [
    {
     "name": "stdout",
     "output_type": "stream",
     "text": [
      "/kaggle/input/swiggy-restaurants-dataset/data.json\n",
      "/kaggle/input/swiggy-restaurants-dataset/swiggy.csv\n"
     ]
    }
   ],
   "source": [
    "# This Python 3 environment comes with many helpful analytics libraries installed\n",
    "# It is defined by the kaggle/python Docker image: https://github.com/kaggle/docker-python\n",
    "# For example, here's several helpful packages to load\n",
    "\n",
    "import numpy as np # linear algebra\n",
    "import pandas as pd # data processing, CSV file I/O (e.g. pd.read_csv)\n",
    "\n",
    "# Input data files are available in the read-only \"../input/\" directory\n",
    "# For example, running this (by clicking run or pressing Shift+Enter) will list all files under the input directory\n",
    "\n",
    "import os\n",
    "for dirname, _, filenames in os.walk('/kaggle/input'):\n",
    "    for filename in filenames:\n",
    "        print(os.path.join(dirname, filename))\n",
    "\n",
    "# You can write up to 20GB to the current directory (/kaggle/working/) that gets preserved as output when you create a version using \"Save & Run All\" \n",
    "# You can also write temporary files to /kaggle/temp/, but they won't be saved outside of the current session"
   ]
  },
  {
   "cell_type": "code",
   "execution_count": 2,
   "id": "358e4e30",
   "metadata": {
    "execution": {
     "iopub.execute_input": "2023-05-06T12:26:39.684519Z",
     "iopub.status.busy": "2023-05-06T12:26:39.684080Z",
     "iopub.status.idle": "2023-05-06T12:26:41.054686Z",
     "shell.execute_reply": "2023-05-06T12:26:41.053276Z"
    },
    "papermill": {
     "duration": 1.382574,
     "end_time": "2023-05-06T12:26:41.057495",
     "exception": false,
     "start_time": "2023-05-06T12:26:39.674921",
     "status": "completed"
    },
    "tags": []
   },
   "outputs": [
    {
     "name": "stderr",
     "output_type": "stream",
     "text": [
      "/opt/conda/lib/python3.10/site-packages/scipy/__init__.py:146: UserWarning: A NumPy version >=1.16.5 and <1.23.0 is required for this version of SciPy (detected version 1.23.5\n",
      "  warnings.warn(f\"A NumPy version >={np_minversion} and <{np_maxversion}\"\n"
     ]
    }
   ],
   "source": [
    "import matplotlib.pyplot as plt\n",
    "import seaborn as sns"
   ]
  },
  {
   "cell_type": "code",
   "execution_count": 3,
   "id": "f93a74d4",
   "metadata": {
    "execution": {
     "iopub.execute_input": "2023-05-06T12:26:41.075107Z",
     "iopub.status.busy": "2023-05-06T12:26:41.074695Z",
     "iopub.status.idle": "2023-05-06T12:26:42.971300Z",
     "shell.execute_reply": "2023-05-06T12:26:42.969913Z"
    },
    "papermill": {
     "duration": 1.909322,
     "end_time": "2023-05-06T12:26:42.974663",
     "exception": false,
     "start_time": "2023-05-06T12:26:41.065341",
     "status": "completed"
    },
    "tags": []
   },
   "outputs": [],
   "source": [
    "#Loading the dataset\n",
    "df= pd.read_csv(\"/kaggle/input/swiggy-restaurants-dataset/swiggy.csv\")"
   ]
  },
  {
   "cell_type": "code",
   "execution_count": 4,
   "id": "89147586",
   "metadata": {
    "execution": {
     "iopub.execute_input": "2023-05-06T12:26:42.993113Z",
     "iopub.status.busy": "2023-05-06T12:26:42.992606Z",
     "iopub.status.idle": "2023-05-06T12:26:43.031592Z",
     "shell.execute_reply": "2023-05-06T12:26:43.029879Z"
    },
    "papermill": {
     "duration": 0.051556,
     "end_time": "2023-05-06T12:26:43.034511",
     "exception": false,
     "start_time": "2023-05-06T12:26:42.982955",
     "status": "completed"
    },
    "tags": []
   },
   "outputs": [
    {
     "data": {
      "text/html": [
       "<div>\n",
       "<style scoped>\n",
       "    .dataframe tbody tr th:only-of-type {\n",
       "        vertical-align: middle;\n",
       "    }\n",
       "\n",
       "    .dataframe tbody tr th {\n",
       "        vertical-align: top;\n",
       "    }\n",
       "\n",
       "    .dataframe thead th {\n",
       "        text-align: right;\n",
       "    }\n",
       "</style>\n",
       "<table border=\"1\" class=\"dataframe\">\n",
       "  <thead>\n",
       "    <tr style=\"text-align: right;\">\n",
       "      <th></th>\n",
       "      <th>id</th>\n",
       "      <th>name</th>\n",
       "      <th>city</th>\n",
       "      <th>rating</th>\n",
       "      <th>rating_count</th>\n",
       "      <th>cost</th>\n",
       "      <th>cuisine</th>\n",
       "      <th>lic_no</th>\n",
       "      <th>link</th>\n",
       "      <th>address</th>\n",
       "      <th>menu</th>\n",
       "    </tr>\n",
       "  </thead>\n",
       "  <tbody>\n",
       "    <tr>\n",
       "      <th>0</th>\n",
       "      <td>567335</td>\n",
       "      <td>AB FOODS POINT</td>\n",
       "      <td>Abohar</td>\n",
       "      <td>--</td>\n",
       "      <td>Too Few Ratings</td>\n",
       "      <td>₹ 200</td>\n",
       "      <td>Beverages,Pizzas</td>\n",
       "      <td>22122652000138</td>\n",
       "      <td>https://www.swiggy.com/restaurants/ab-foods-po...</td>\n",
       "      <td>AB FOODS POINT, NEAR RISHI NARANG DENTAL CLINI...</td>\n",
       "      <td>Menu/567335.json</td>\n",
       "    </tr>\n",
       "    <tr>\n",
       "      <th>1</th>\n",
       "      <td>531342</td>\n",
       "      <td>Janta Sweet House</td>\n",
       "      <td>Abohar</td>\n",
       "      <td>4.4</td>\n",
       "      <td>50+ ratings</td>\n",
       "      <td>₹ 200</td>\n",
       "      <td>Sweets,Bakery</td>\n",
       "      <td>12117201000112</td>\n",
       "      <td>https://www.swiggy.com/restaurants/janta-sweet...</td>\n",
       "      <td>Janta Sweet House, Bazar No.9, Circullar Road,...</td>\n",
       "      <td>Menu/531342.json</td>\n",
       "    </tr>\n",
       "    <tr>\n",
       "      <th>2</th>\n",
       "      <td>158203</td>\n",
       "      <td>theka coffee desi</td>\n",
       "      <td>Abohar</td>\n",
       "      <td>3.8</td>\n",
       "      <td>100+ ratings</td>\n",
       "      <td>₹ 100</td>\n",
       "      <td>Beverages</td>\n",
       "      <td>22121652000190</td>\n",
       "      <td>https://www.swiggy.com/restaurants/theka-coffe...</td>\n",
       "      <td>theka coffee desi, sahtiya sadan road city</td>\n",
       "      <td>Menu/158203.json</td>\n",
       "    </tr>\n",
       "    <tr>\n",
       "      <th>3</th>\n",
       "      <td>187912</td>\n",
       "      <td>Singh Hut</td>\n",
       "      <td>Abohar</td>\n",
       "      <td>3.7</td>\n",
       "      <td>20+ ratings</td>\n",
       "      <td>₹ 250</td>\n",
       "      <td>Fast Food,Indian</td>\n",
       "      <td>22119652000167</td>\n",
       "      <td>https://www.swiggy.com/restaurants/singh-hut-n...</td>\n",
       "      <td>Singh Hut, CIRCULAR ROAD NEAR NEHRU PARK ABOHAR</td>\n",
       "      <td>Menu/187912.json</td>\n",
       "    </tr>\n",
       "    <tr>\n",
       "      <th>4</th>\n",
       "      <td>543530</td>\n",
       "      <td>GRILL MASTERS</td>\n",
       "      <td>Abohar</td>\n",
       "      <td>--</td>\n",
       "      <td>Too Few Ratings</td>\n",
       "      <td>₹ 250</td>\n",
       "      <td>Italian-American,Fast Food</td>\n",
       "      <td>12122201000053</td>\n",
       "      <td>https://www.swiggy.com/restaurants/grill-maste...</td>\n",
       "      <td>GRILL MASTERS, ADA Heights, Abohar - Hanumanga...</td>\n",
       "      <td>Menu/543530.json</td>\n",
       "    </tr>\n",
       "  </tbody>\n",
       "</table>\n",
       "</div>"
      ],
      "text/plain": [
       "       id               name    city rating     rating_count   cost  \\\n",
       "0  567335     AB FOODS POINT  Abohar     --  Too Few Ratings  ₹ 200   \n",
       "1  531342  Janta Sweet House  Abohar    4.4      50+ ratings  ₹ 200   \n",
       "2  158203  theka coffee desi  Abohar    3.8     100+ ratings  ₹ 100   \n",
       "3  187912          Singh Hut  Abohar    3.7      20+ ratings  ₹ 250   \n",
       "4  543530      GRILL MASTERS  Abohar     --  Too Few Ratings  ₹ 250   \n",
       "\n",
       "                      cuisine          lic_no  \\\n",
       "0            Beverages,Pizzas  22122652000138   \n",
       "1               Sweets,Bakery  12117201000112   \n",
       "2                   Beverages  22121652000190   \n",
       "3            Fast Food,Indian  22119652000167   \n",
       "4  Italian-American,Fast Food  12122201000053   \n",
       "\n",
       "                                                link  \\\n",
       "0  https://www.swiggy.com/restaurants/ab-foods-po...   \n",
       "1  https://www.swiggy.com/restaurants/janta-sweet...   \n",
       "2  https://www.swiggy.com/restaurants/theka-coffe...   \n",
       "3  https://www.swiggy.com/restaurants/singh-hut-n...   \n",
       "4  https://www.swiggy.com/restaurants/grill-maste...   \n",
       "\n",
       "                                             address              menu  \n",
       "0  AB FOODS POINT, NEAR RISHI NARANG DENTAL CLINI...  Menu/567335.json  \n",
       "1  Janta Sweet House, Bazar No.9, Circullar Road,...  Menu/531342.json  \n",
       "2         theka coffee desi, sahtiya sadan road city  Menu/158203.json  \n",
       "3    Singh Hut, CIRCULAR ROAD NEAR NEHRU PARK ABOHAR  Menu/187912.json  \n",
       "4  GRILL MASTERS, ADA Heights, Abohar - Hanumanga...  Menu/543530.json  "
      ]
     },
     "execution_count": 4,
     "metadata": {},
     "output_type": "execute_result"
    }
   ],
   "source": [
    "#first rows of dataset\n",
    "df.head()"
   ]
  },
  {
   "cell_type": "code",
   "execution_count": 5,
   "id": "d82f5183",
   "metadata": {
    "execution": {
     "iopub.execute_input": "2023-05-06T12:26:43.055301Z",
     "iopub.status.busy": "2023-05-06T12:26:43.054782Z",
     "iopub.status.idle": "2023-05-06T12:26:43.062600Z",
     "shell.execute_reply": "2023-05-06T12:26:43.061100Z"
    },
    "papermill": {
     "duration": 0.021658,
     "end_time": "2023-05-06T12:26:43.065113",
     "exception": false,
     "start_time": "2023-05-06T12:26:43.043455",
     "status": "completed"
    },
    "tags": []
   },
   "outputs": [
    {
     "data": {
      "text/plain": [
       "(148541, 11)"
      ]
     },
     "execution_count": 5,
     "metadata": {},
     "output_type": "execute_result"
    }
   ],
   "source": [
    "#finding the structure of dataset\n",
    "df.shape"
   ]
  },
  {
   "cell_type": "code",
   "execution_count": 6,
   "id": "11726fe1",
   "metadata": {
    "execution": {
     "iopub.execute_input": "2023-05-06T12:26:43.086211Z",
     "iopub.status.busy": "2023-05-06T12:26:43.084944Z",
     "iopub.status.idle": "2023-05-06T12:26:43.341691Z",
     "shell.execute_reply": "2023-05-06T12:26:43.339646Z"
    },
    "papermill": {
     "duration": 0.27074,
     "end_time": "2023-05-06T12:26:43.344756",
     "exception": false,
     "start_time": "2023-05-06T12:26:43.074016",
     "status": "completed"
    },
    "tags": []
   },
   "outputs": [
    {
     "name": "stdout",
     "output_type": "stream",
     "text": [
      "<class 'pandas.core.frame.DataFrame'>\n",
      "RangeIndex: 148541 entries, 0 to 148540\n",
      "Data columns (total 11 columns):\n",
      " #   Column        Non-Null Count   Dtype \n",
      "---  ------        --------------   ----- \n",
      " 0   id            148541 non-null  int64 \n",
      " 1   name          148455 non-null  object\n",
      " 2   city          148541 non-null  object\n",
      " 3   rating        148455 non-null  object\n",
      " 4   rating_count  148455 non-null  object\n",
      " 5   cost          148410 non-null  object\n",
      " 6   cuisine       148442 non-null  object\n",
      " 7   lic_no        148312 non-null  object\n",
      " 8   link          148541 non-null  object\n",
      " 9   address       148455 non-null  object\n",
      " 10  menu          148541 non-null  object\n",
      "dtypes: int64(1), object(10)\n",
      "memory usage: 12.5+ MB\n"
     ]
    }
   ],
   "source": [
    "#finding detail information of dataset\n",
    "df.info()"
   ]
  },
  {
   "cell_type": "code",
   "execution_count": 7,
   "id": "b4d8b816",
   "metadata": {
    "execution": {
     "iopub.execute_input": "2023-05-06T12:26:43.365541Z",
     "iopub.status.busy": "2023-05-06T12:26:43.365021Z",
     "iopub.status.idle": "2023-05-06T12:26:43.602740Z",
     "shell.execute_reply": "2023-05-06T12:26:43.601393Z"
    },
    "papermill": {
     "duration": 0.251895,
     "end_time": "2023-05-06T12:26:43.606072",
     "exception": false,
     "start_time": "2023-05-06T12:26:43.354177",
     "status": "completed"
    },
    "tags": []
   },
   "outputs": [
    {
     "data": {
      "text/plain": [
       "803"
      ]
     },
     "execution_count": 7,
     "metadata": {},
     "output_type": "execute_result"
    }
   ],
   "source": [
    "#total null values in dataset\n",
    "df.isnull().sum().sum()"
   ]
  },
  {
   "cell_type": "code",
   "execution_count": 8,
   "id": "3bffa4c6",
   "metadata": {
    "execution": {
     "iopub.execute_input": "2023-05-06T12:26:43.625464Z",
     "iopub.status.busy": "2023-05-06T12:26:43.624905Z",
     "iopub.status.idle": "2023-05-06T12:26:43.859859Z",
     "shell.execute_reply": "2023-05-06T12:26:43.858871Z"
    },
    "papermill": {
     "duration": 0.247169,
     "end_time": "2023-05-06T12:26:43.862146",
     "exception": false,
     "start_time": "2023-05-06T12:26:43.614977",
     "status": "completed"
    },
    "tags": []
   },
   "outputs": [
    {
     "data": {
      "text/plain": [
       "id                0\n",
       "name             86\n",
       "city              0\n",
       "rating           86\n",
       "rating_count     86\n",
       "cost            131\n",
       "cuisine          99\n",
       "lic_no          229\n",
       "link              0\n",
       "address          86\n",
       "menu              0\n",
       "dtype: int64"
      ]
     },
     "execution_count": 8,
     "metadata": {},
     "output_type": "execute_result"
    }
   ],
   "source": [
    "#null values in each \n",
    "df.isnull().sum()"
   ]
  },
  {
   "cell_type": "code",
   "execution_count": 9,
   "id": "d57699b8",
   "metadata": {
    "execution": {
     "iopub.execute_input": "2023-05-06T12:26:43.881530Z",
     "iopub.status.busy": "2023-05-06T12:26:43.880719Z",
     "iopub.status.idle": "2023-05-06T12:26:44.233030Z",
     "shell.execute_reply": "2023-05-06T12:26:44.231941Z"
    },
    "papermill": {
     "duration": 0.365107,
     "end_time": "2023-05-06T12:26:44.235611",
     "exception": false,
     "start_time": "2023-05-06T12:26:43.870504",
     "status": "completed"
    },
    "tags": []
   },
   "outputs": [
    {
     "data": {
      "text/plain": [
       "0"
      ]
     },
     "execution_count": 9,
     "metadata": {},
     "output_type": "execute_result"
    }
   ],
   "source": [
    "df.duplicated().sum()\n"
   ]
  },
  {
   "cell_type": "code",
   "execution_count": 10,
   "id": "83745c12",
   "metadata": {
    "execution": {
     "iopub.execute_input": "2023-05-06T12:26:44.254613Z",
     "iopub.status.busy": "2023-05-06T12:26:44.254204Z",
     "iopub.status.idle": "2023-05-06T12:26:44.537043Z",
     "shell.execute_reply": "2023-05-06T12:26:44.535756Z"
    },
    "papermill": {
     "duration": 0.295329,
     "end_time": "2023-05-06T12:26:44.539560",
     "exception": false,
     "start_time": "2023-05-06T12:26:44.244231",
     "status": "completed"
    },
    "tags": []
   },
   "outputs": [
    {
     "data": {
      "text/plain": [
       "id              148541\n",
       "name            112818\n",
       "city               821\n",
       "rating              42\n",
       "rating_count         8\n",
       "cost               363\n",
       "cuisine           2132\n",
       "lic_no          108763\n",
       "link            148541\n",
       "address         148401\n",
       "menu            148541\n",
       "dtype: int64"
      ]
     },
     "execution_count": 10,
     "metadata": {},
     "output_type": "execute_result"
    }
   ],
   "source": [
    "df.nunique()"
   ]
  },
  {
   "cell_type": "code",
   "execution_count": 11,
   "id": "88fa110f",
   "metadata": {
    "execution": {
     "iopub.execute_input": "2023-05-06T12:26:44.561485Z",
     "iopub.status.busy": "2023-05-06T12:26:44.558986Z",
     "iopub.status.idle": "2023-05-06T12:26:44.577459Z",
     "shell.execute_reply": "2023-05-06T12:26:44.576534Z"
    },
    "papermill": {
     "duration": 0.031113,
     "end_time": "2023-05-06T12:26:44.579869",
     "exception": false,
     "start_time": "2023-05-06T12:26:44.548756",
     "status": "completed"
    },
    "tags": []
   },
   "outputs": [
    {
     "data": {
      "text/plain": [
       "--     87014\n",
       "4.0     6532\n",
       "4.1     6296\n",
       "4.2     5821\n",
       "3.8     5736\n",
       "3.9     5435\n",
       "4.3     5011\n",
       "3.7     4253\n",
       "4.4     3149\n",
       "3.5     2963\n",
       "3.6     2925\n",
       "3.4     1879\n",
       "3.3     1801\n",
       "4.5     1778\n",
       "4.6     1334\n",
       "3.2     1202\n",
       "3.0      859\n",
       "3.1      791\n",
       "4.7      648\n",
       "2.8      473\n",
       "2.9      472\n",
       "4.8      338\n",
       "2.7      325\n",
       "2.5      221\n",
       "5.0      209\n",
       "2.6      208\n",
       "4.9      174\n",
       "2.3      128\n",
       "2.4      118\n",
       "2.2       89\n",
       "2.0       72\n",
       "2.1       61\n",
       "1.9       46\n",
       "1.8       27\n",
       "1.5       18\n",
       "1.6       17\n",
       "1.7       13\n",
       "1.4       10\n",
       "1.2        4\n",
       "1.3        3\n",
       "1.1        1\n",
       "1.0        1\n",
       "Name: rating, dtype: int64"
      ]
     },
     "execution_count": 11,
     "metadata": {},
     "output_type": "execute_result"
    }
   ],
   "source": [
    "df[\"rating\"].value_counts()"
   ]
  },
  {
   "cell_type": "code",
   "execution_count": 12,
   "id": "b9947f1f",
   "metadata": {
    "execution": {
     "iopub.execute_input": "2023-05-06T12:26:44.600354Z",
     "iopub.status.busy": "2023-05-06T12:26:44.599948Z",
     "iopub.status.idle": "2023-05-06T12:26:45.099102Z",
     "shell.execute_reply": "2023-05-06T12:26:45.097926Z"
    },
    "papermill": {
     "duration": 0.51259,
     "end_time": "2023-05-06T12:26:45.101771",
     "exception": false,
     "start_time": "2023-05-06T12:26:44.589181",
     "status": "completed"
    },
    "tags": []
   },
   "outputs": [],
   "source": [
    "df[\"cost\"]= df[\"cost\"].str.split(\"₹\").str[1]"
   ]
  },
  {
   "cell_type": "code",
   "execution_count": 13,
   "id": "0a281344",
   "metadata": {
    "execution": {
     "iopub.execute_input": "2023-05-06T12:26:45.121136Z",
     "iopub.status.busy": "2023-05-06T12:26:45.120723Z",
     "iopub.status.idle": "2023-05-06T12:26:45.129354Z",
     "shell.execute_reply": "2023-05-06T12:26:45.128259Z"
    },
    "papermill": {
     "duration": 0.020822,
     "end_time": "2023-05-06T12:26:45.131535",
     "exception": false,
     "start_time": "2023-05-06T12:26:45.110713",
     "status": "completed"
    },
    "tags": []
   },
   "outputs": [
    {
     "data": {
      "text/plain": [
       "0          200\n",
       "1          200\n",
       "2          100\n",
       "3          250\n",
       "4          250\n",
       "          ... \n",
       "148536     200\n",
       "148537     300\n",
       "148538     300\n",
       "148539     250\n",
       "148540     200\n",
       "Name: cost, Length: 148541, dtype: object"
      ]
     },
     "execution_count": 13,
     "metadata": {},
     "output_type": "execute_result"
    }
   ],
   "source": [
    "df[\"cost\"]"
   ]
  },
  {
   "cell_type": "code",
   "execution_count": 14,
   "id": "46b9ddac",
   "metadata": {
    "execution": {
     "iopub.execute_input": "2023-05-06T12:26:45.151246Z",
     "iopub.status.busy": "2023-05-06T12:26:45.150869Z",
     "iopub.status.idle": "2023-05-06T12:26:45.173183Z",
     "shell.execute_reply": "2023-05-06T12:26:45.171915Z"
    },
    "papermill": {
     "duration": 0.034454,
     "end_time": "2023-05-06T12:26:45.175318",
     "exception": false,
     "start_time": "2023-05-06T12:26:45.140864",
     "status": "completed"
    },
    "tags": []
   },
   "outputs": [],
   "source": [
    "#converting object string datatype to float\n",
    "df['cost']= df[\"cost\"].astype(float)"
   ]
  },
  {
   "cell_type": "code",
   "execution_count": 15,
   "id": "21d968e4",
   "metadata": {
    "execution": {
     "iopub.execute_input": "2023-05-06T12:26:45.194979Z",
     "iopub.status.busy": "2023-05-06T12:26:45.194585Z",
     "iopub.status.idle": "2023-05-06T12:26:45.414121Z",
     "shell.execute_reply": "2023-05-06T12:26:45.412664Z"
    },
    "papermill": {
     "duration": 0.232533,
     "end_time": "2023-05-06T12:26:45.417052",
     "exception": false,
     "start_time": "2023-05-06T12:26:45.184519",
     "status": "completed"
    },
    "tags": []
   },
   "outputs": [
    {
     "name": "stdout",
     "output_type": "stream",
     "text": [
      "<class 'pandas.core.frame.DataFrame'>\n",
      "RangeIndex: 148541 entries, 0 to 148540\n",
      "Data columns (total 11 columns):\n",
      " #   Column        Non-Null Count   Dtype  \n",
      "---  ------        --------------   -----  \n",
      " 0   id            148541 non-null  int64  \n",
      " 1   name          148455 non-null  object \n",
      " 2   city          148541 non-null  object \n",
      " 3   rating        148455 non-null  object \n",
      " 4   rating_count  148455 non-null  object \n",
      " 5   cost          148410 non-null  float64\n",
      " 6   cuisine       148442 non-null  object \n",
      " 7   lic_no        148312 non-null  object \n",
      " 8   link          148541 non-null  object \n",
      " 9   address       148455 non-null  object \n",
      " 10  menu          148541 non-null  object \n",
      "dtypes: float64(1), int64(1), object(9)\n",
      "memory usage: 12.5+ MB\n"
     ]
    }
   ],
   "source": [
    "df.info()"
   ]
  },
  {
   "cell_type": "code",
   "execution_count": 16,
   "id": "474c9068",
   "metadata": {
    "execution": {
     "iopub.execute_input": "2023-05-06T12:26:45.437884Z",
     "iopub.status.busy": "2023-05-06T12:26:45.437436Z",
     "iopub.status.idle": "2023-05-06T12:26:45.451033Z",
     "shell.execute_reply": "2023-05-06T12:26:45.449782Z"
    },
    "papermill": {
     "duration": 0.027154,
     "end_time": "2023-05-06T12:26:45.453721",
     "exception": false,
     "start_time": "2023-05-06T12:26:45.426567",
     "status": "completed"
    },
    "tags": []
   },
   "outputs": [],
   "source": [
    "#relacing \"--\"with nan values \n",
    "df[\"rating\"].replace(\"--\", np.nan, inplace = True)"
   ]
  },
  {
   "cell_type": "code",
   "execution_count": 17,
   "id": "d3247ab6",
   "metadata": {
    "execution": {
     "iopub.execute_input": "2023-05-06T12:26:45.474373Z",
     "iopub.status.busy": "2023-05-06T12:26:45.473760Z",
     "iopub.status.idle": "2023-05-06T12:26:45.489820Z",
     "shell.execute_reply": "2023-05-06T12:26:45.488705Z"
    },
    "papermill": {
     "duration": 0.02919,
     "end_time": "2023-05-06T12:26:45.492233",
     "exception": false,
     "start_time": "2023-05-06T12:26:45.463043",
     "status": "completed"
    },
    "tags": []
   },
   "outputs": [
    {
     "data": {
      "text/plain": [
       "0         NaN\n",
       "1         4.4\n",
       "2         3.8\n",
       "3         3.7\n",
       "4         NaN\n",
       "         ... \n",
       "148536    NaN\n",
       "148537    NaN\n",
       "148538    NaN\n",
       "148539    NaN\n",
       "148540    NaN\n",
       "Name: rating, Length: 148541, dtype: object"
      ]
     },
     "execution_count": 17,
     "metadata": {},
     "output_type": "execute_result"
    }
   ],
   "source": [
    "df[\"rating\"]"
   ]
  },
  {
   "cell_type": "code",
   "execution_count": 18,
   "id": "6d243642",
   "metadata": {
    "execution": {
     "iopub.execute_input": "2023-05-06T12:26:45.512731Z",
     "iopub.status.busy": "2023-05-06T12:26:45.512293Z",
     "iopub.status.idle": "2023-05-06T12:26:45.554086Z",
     "shell.execute_reply": "2023-05-06T12:26:45.552270Z"
    },
    "papermill": {
     "duration": 0.054989,
     "end_time": "2023-05-06T12:26:45.556726",
     "exception": false,
     "start_time": "2023-05-06T12:26:45.501737",
     "status": "completed"
    },
    "tags": []
   },
   "outputs": [],
   "source": [
    "df[\"rating\"].fillna(df[\"rating\"].median(), inplace = True)"
   ]
  },
  {
   "cell_type": "code",
   "execution_count": 19,
   "id": "fece889f",
   "metadata": {
    "execution": {
     "iopub.execute_input": "2023-05-06T12:26:45.578264Z",
     "iopub.status.busy": "2023-05-06T12:26:45.577892Z",
     "iopub.status.idle": "2023-05-06T12:26:45.587433Z",
     "shell.execute_reply": "2023-05-06T12:26:45.585181Z"
    },
    "papermill": {
     "duration": 0.023061,
     "end_time": "2023-05-06T12:26:45.590270",
     "exception": false,
     "start_time": "2023-05-06T12:26:45.567209",
     "status": "completed"
    },
    "tags": []
   },
   "outputs": [
    {
     "data": {
      "text/plain": [
       "0         4.0\n",
       "1         4.4\n",
       "2         3.8\n",
       "3         3.7\n",
       "4         4.0\n",
       "         ... \n",
       "148536    4.0\n",
       "148537    4.0\n",
       "148538    4.0\n",
       "148539    4.0\n",
       "148540    4.0\n",
       "Name: rating, Length: 148541, dtype: object"
      ]
     },
     "execution_count": 19,
     "metadata": {},
     "output_type": "execute_result"
    }
   ],
   "source": [
    "df[\"rating\"]"
   ]
  },
  {
   "cell_type": "code",
   "execution_count": 20,
   "id": "2ab48962",
   "metadata": {
    "execution": {
     "iopub.execute_input": "2023-05-06T12:26:45.611493Z",
     "iopub.status.busy": "2023-05-06T12:26:45.611111Z",
     "iopub.status.idle": "2023-05-06T12:26:45.620508Z",
     "shell.execute_reply": "2023-05-06T12:26:45.619138Z"
    },
    "papermill": {
     "duration": 0.02254,
     "end_time": "2023-05-06T12:26:45.623160",
     "exception": false,
     "start_time": "2023-05-06T12:26:45.600620",
     "status": "completed"
    },
    "tags": []
   },
   "outputs": [
    {
     "data": {
      "text/plain": [
       "0         Too Few Ratings\n",
       "1             50+ ratings\n",
       "2            100+ ratings\n",
       "3             20+ ratings\n",
       "4         Too Few Ratings\n",
       "               ...       \n",
       "148536    Too Few Ratings\n",
       "148537    Too Few Ratings\n",
       "148538    Too Few Ratings\n",
       "148539    Too Few Ratings\n",
       "148540    Too Few Ratings\n",
       "Name: rating_count, Length: 148541, dtype: object"
      ]
     },
     "execution_count": 20,
     "metadata": {},
     "output_type": "execute_result"
    }
   ],
   "source": [
    "df[\"rating_count\"]"
   ]
  },
  {
   "cell_type": "code",
   "execution_count": 21,
   "id": "e33ac578",
   "metadata": {
    "execution": {
     "iopub.execute_input": "2023-05-06T12:26:45.644247Z",
     "iopub.status.busy": "2023-05-06T12:26:45.643821Z",
     "iopub.status.idle": "2023-05-06T12:26:45.678128Z",
     "shell.execute_reply": "2023-05-06T12:26:45.677086Z"
    },
    "papermill": {
     "duration": 0.047806,
     "end_time": "2023-05-06T12:26:45.680751",
     "exception": false,
     "start_time": "2023-05-06T12:26:45.632945",
     "status": "completed"
    },
    "tags": []
   },
   "outputs": [],
   "source": [
    "#Feature Engineering : Mapping types of rating_counts into numerical values\n",
    "\n",
    "df[\"rating_count\"] = df[\"rating_count\"].map({\"10K+ ratings\": 1, '5K+ ratings': 2, '1K+ ratings': 3 ,'500+ ratings': 4,'50+ ratings': 5, '100+ ratings' : 6,'20+ ratings': 7, \"Too Few Ratings\": 8 })"
   ]
  },
  {
   "cell_type": "code",
   "execution_count": 22,
   "id": "c6ab8515",
   "metadata": {
    "execution": {
     "iopub.execute_input": "2023-05-06T12:26:45.701294Z",
     "iopub.status.busy": "2023-05-06T12:26:45.700921Z",
     "iopub.status.idle": "2023-05-06T12:26:45.709872Z",
     "shell.execute_reply": "2023-05-06T12:26:45.708794Z"
    },
    "papermill": {
     "duration": 0.021694,
     "end_time": "2023-05-06T12:26:45.711939",
     "exception": false,
     "start_time": "2023-05-06T12:26:45.690245",
     "status": "completed"
    },
    "tags": []
   },
   "outputs": [
    {
     "data": {
      "text/plain": [
       "0         8.0\n",
       "1         5.0\n",
       "2         6.0\n",
       "3         7.0\n",
       "4         8.0\n",
       "         ... \n",
       "148536    8.0\n",
       "148537    8.0\n",
       "148538    8.0\n",
       "148539    8.0\n",
       "148540    8.0\n",
       "Name: rating_count, Length: 148541, dtype: float64"
      ]
     },
     "execution_count": 22,
     "metadata": {},
     "output_type": "execute_result"
    }
   ],
   "source": [
    "df[\"rating_count\"]"
   ]
  },
  {
   "cell_type": "code",
   "execution_count": 23,
   "id": "7079afc2",
   "metadata": {
    "execution": {
     "iopub.execute_input": "2023-05-06T12:26:45.732267Z",
     "iopub.status.busy": "2023-05-06T12:26:45.731905Z",
     "iopub.status.idle": "2023-05-06T12:26:45.743915Z",
     "shell.execute_reply": "2023-05-06T12:26:45.742753Z"
    },
    "papermill": {
     "duration": 0.024845,
     "end_time": "2023-05-06T12:26:45.746137",
     "exception": false,
     "start_time": "2023-05-06T12:26:45.721292",
     "status": "completed"
    },
    "tags": []
   },
   "outputs": [
    {
     "data": {
      "text/plain": [
       "8.0    87014\n",
       "7.0    21636\n",
       "6.0    20548\n",
       "5.0    12009\n",
       "4.0     4396\n",
       "3.0     2739\n",
       "2.0       98\n",
       "1.0       15\n",
       "Name: rating_count, dtype: int64"
      ]
     },
     "execution_count": 23,
     "metadata": {},
     "output_type": "execute_result"
    }
   ],
   "source": [
    "df[\"rating_count\"].value_counts()"
   ]
  },
  {
   "cell_type": "code",
   "execution_count": 24,
   "id": "c5f117a2",
   "metadata": {
    "execution": {
     "iopub.execute_input": "2023-05-06T12:26:45.767095Z",
     "iopub.status.busy": "2023-05-06T12:26:45.766674Z",
     "iopub.status.idle": "2023-05-06T12:26:45.958062Z",
     "shell.execute_reply": "2023-05-06T12:26:45.956886Z"
    },
    "papermill": {
     "duration": 0.204236,
     "end_time": "2023-05-06T12:26:45.960165",
     "exception": false,
     "start_time": "2023-05-06T12:26:45.755929",
     "status": "completed"
    },
    "tags": []
   },
   "outputs": [
    {
     "name": "stdout",
     "output_type": "stream",
     "text": [
      "<class 'pandas.core.frame.DataFrame'>\n",
      "RangeIndex: 148541 entries, 0 to 148540\n",
      "Data columns (total 11 columns):\n",
      " #   Column        Non-Null Count   Dtype  \n",
      "---  ------        --------------   -----  \n",
      " 0   id            148541 non-null  int64  \n",
      " 1   name          148455 non-null  object \n",
      " 2   city          148541 non-null  object \n",
      " 3   rating        148541 non-null  object \n",
      " 4   rating_count  148455 non-null  float64\n",
      " 5   cost          148410 non-null  float64\n",
      " 6   cuisine       148442 non-null  object \n",
      " 7   lic_no        148312 non-null  object \n",
      " 8   link          148541 non-null  object \n",
      " 9   address       148455 non-null  object \n",
      " 10  menu          148541 non-null  object \n",
      "dtypes: float64(2), int64(1), object(8)\n",
      "memory usage: 12.5+ MB\n"
     ]
    }
   ],
   "source": [
    "df.info()"
   ]
  },
  {
   "cell_type": "code",
   "execution_count": 25,
   "id": "9d661076",
   "metadata": {
    "execution": {
     "iopub.execute_input": "2023-05-06T12:26:45.981504Z",
     "iopub.status.busy": "2023-05-06T12:26:45.981117Z",
     "iopub.status.idle": "2023-05-06T12:26:45.999067Z",
     "shell.execute_reply": "2023-05-06T12:26:45.997816Z"
    },
    "papermill": {
     "duration": 0.03178,
     "end_time": "2023-05-06T12:26:46.001539",
     "exception": false,
     "start_time": "2023-05-06T12:26:45.969759",
     "status": "completed"
    },
    "tags": []
   },
   "outputs": [
    {
     "data": {
      "text/plain": [
       "Rangpo                       1\n",
       "Noida Expressway,Delhi       1\n",
       "Kohima                       1\n",
       "Manali                       1\n",
       "BBK_MayurVihar,Delhi         1\n",
       "                          ... \n",
       "Rohini,Delhi              1136\n",
       "BTM,Bangalore             1161\n",
       "Indirapuram,Delhi         1279\n",
       "Noida-1                   1428\n",
       "Bikaner                   1666\n",
       "Name: city, Length: 821, dtype: int64"
      ]
     },
     "execution_count": 25,
     "metadata": {},
     "output_type": "execute_result"
    }
   ],
   "source": [
    "df[\"city\"].value_counts().sort_values()"
   ]
  },
  {
   "cell_type": "code",
   "execution_count": null,
   "id": "1494f53d",
   "metadata": {
    "papermill": {
     "duration": 0.009982,
     "end_time": "2023-05-06T12:26:46.021525",
     "exception": false,
     "start_time": "2023-05-06T12:26:46.011543",
     "status": "completed"
    },
    "tags": []
   },
   "outputs": [],
   "source": []
  },
  {
   "cell_type": "markdown",
   "id": "db571443",
   "metadata": {
    "execution": {
     "iopub.execute_input": "2023-05-06T10:50:29.150938Z",
     "iopub.status.busy": "2023-05-06T10:50:29.150556Z",
     "iopub.status.idle": "2023-05-06T10:50:29.159090Z",
     "shell.execute_reply": "2023-05-06T10:50:29.157588Z",
     "shell.execute_reply.started": "2023-05-06T10:50:29.150910Z"
    },
    "papermill": {
     "duration": 0.009425,
     "end_time": "2023-05-06T12:26:46.041651",
     "exception": false,
     "start_time": "2023-05-06T12:26:46.032226",
     "status": "completed"
    },
    "tags": []
   },
   "source": [
    "* Identify the number of restaurants listed on Swiggy in India\n",
    "* Determine the number of cities that have restaurants listed on Swiggy\n",
    "* Identify the city with the maximum number of restaurants listed on Swiggy\n",
    "* Determine the top 10 cities as per the number of restaurants listed on Swiggy\n",
    "* Determine the most popular cuisines served throughout the dataset\n",
    "* Identify the city with the least expensive restaurant in terms of cost\n",
    "* Determine the top 5 most popular restaurant chains in India\n",
    "* Identify the restaurant in Bangalore that has the most number of people visited based on the number of reviews\n"
   ]
  },
  {
   "cell_type": "code",
   "execution_count": 26,
   "id": "8f635f5d",
   "metadata": {
    "execution": {
     "iopub.execute_input": "2023-05-06T12:26:46.062889Z",
     "iopub.status.busy": "2023-05-06T12:26:46.062465Z",
     "iopub.status.idle": "2023-05-06T12:26:46.110387Z",
     "shell.execute_reply": "2023-05-06T12:26:46.108968Z"
    },
    "papermill": {
     "duration": 0.061277,
     "end_time": "2023-05-06T12:26:46.112709",
     "exception": false,
     "start_time": "2023-05-06T12:26:46.051432",
     "status": "completed"
    },
    "tags": []
   },
   "outputs": [
    {
     "name": "stdout",
     "output_type": "stream",
     "text": [
      "City with the maximum number of restaurants listed on Swiggy: Bikaner\n"
     ]
    }
   ],
   "source": [
    "# Group the dataset by city and count the number of unique restaurant IDs in each city\n",
    "city_counts = df.groupby('city')['id'].nunique()\n",
    "# Get the city with the maximum count\n",
    "max_city = city_counts.idxmax()\n",
    "\n",
    "# Print the result\n",
    "print('City with the maximum number of restaurants listed on Swiggy:', max_city)"
   ]
  },
  {
   "cell_type": "code",
   "execution_count": 27,
   "id": "33c31c34",
   "metadata": {
    "execution": {
     "iopub.execute_input": "2023-05-06T12:26:46.134139Z",
     "iopub.status.busy": "2023-05-06T12:26:46.133405Z",
     "iopub.status.idle": "2023-05-06T12:26:46.146622Z",
     "shell.execute_reply": "2023-05-06T12:26:46.145411Z"
    },
    "papermill": {
     "duration": 0.02642,
     "end_time": "2023-05-06T12:26:46.148921",
     "exception": false,
     "start_time": "2023-05-06T12:26:46.122501",
     "status": "completed"
    },
    "tags": []
   },
   "outputs": [
    {
     "data": {
      "text/plain": [
       "city\n",
       "Bikaner                      1666\n",
       "Noida-1                      1428\n",
       "Indirapuram,Delhi            1279\n",
       "BTM,Bangalore                1161\n",
       "Rohini,Delhi                 1136\n",
       "Kothrud,Pune                 1089\n",
       "Indiranagar,Bangalore        1080\n",
       "Electronic City,Bangalore    1039\n",
       "Greater Kailash 2,Delhi      1038\n",
       "Vashi,Mumbai                 1022\n",
       "Name: id, dtype: int64"
      ]
     },
     "execution_count": 27,
     "metadata": {},
     "output_type": "execute_result"
    }
   ],
   "source": [
    "max_city = city_counts.nlargest(10)\n",
    "max_city"
   ]
  },
  {
   "cell_type": "code",
   "execution_count": 28,
   "id": "a9396e41",
   "metadata": {
    "execution": {
     "iopub.execute_input": "2023-05-06T12:26:46.171213Z",
     "iopub.status.busy": "2023-05-06T12:26:46.170539Z",
     "iopub.status.idle": "2023-05-06T12:26:46.189794Z",
     "shell.execute_reply": "2023-05-06T12:26:46.188477Z"
    },
    "papermill": {
     "duration": 0.033386,
     "end_time": "2023-05-06T12:26:46.192550",
     "exception": false,
     "start_time": "2023-05-06T12:26:46.159164",
     "status": "completed"
    },
    "tags": []
   },
   "outputs": [
    {
     "data": {
      "text/plain": [
       "North Indian,Chinese    6471\n",
       "Indian                  6414\n",
       "Chinese                 5051\n",
       "North Indian            4775\n",
       "Indian,Chinese          4374\n",
       "South Indian            3303\n",
       "Bakery                  3132\n",
       "Chinese,Indian          2308\n",
       "Chinese,North Indian    2288\n",
       "Bakery,Desserts         2233\n",
       "Name: cuisine, dtype: int64"
      ]
     },
     "execution_count": 28,
     "metadata": {},
     "output_type": "execute_result"
    }
   ],
   "source": [
    "popular_cuisine = df[\"cuisine\"].value_counts()\n",
    "popular_cuisine.head(10)"
   ]
  },
  {
   "cell_type": "code",
   "execution_count": 29,
   "id": "d1401423",
   "metadata": {
    "execution": {
     "iopub.execute_input": "2023-05-06T12:26:46.215349Z",
     "iopub.status.busy": "2023-05-06T12:26:46.214977Z",
     "iopub.status.idle": "2023-05-06T12:26:46.239716Z",
     "shell.execute_reply": "2023-05-06T12:26:46.238426Z"
    },
    "papermill": {
     "duration": 0.039094,
     "end_time": "2023-05-06T12:26:46.242198",
     "exception": false,
     "start_time": "2023-05-06T12:26:46.203104",
     "status": "completed"
    },
    "tags": []
   },
   "outputs": [
    {
     "name": "stdout",
     "output_type": "stream",
     "text": [
      "The city with the least expensive restaurants is city\n",
      "Hampi               100.000000\n",
      "Hindaun             121.052632\n",
      "Hansi               148.421053\n",
      "Jalaun              150.000000\n",
      "Amreli              152.962963\n",
      "Bathinda            167.115607\n",
      "Alambagh,Lucknow    167.272727\n",
      "Nandurbar           169.230769\n",
      "Shrirampur          169.444444\n",
      "Sehore              169.850000\n",
      "Name: cost, dtype: float64.\n"
     ]
    }
   ],
   "source": [
    "city_cost = df.groupby('city')['cost'].mean().sort_values()\n",
    "least_expensive_city = city_cost.head(10)\n",
    "print(f\"The city with the least expensive restaurants is {least_expensive_city}.\")"
   ]
  },
  {
   "cell_type": "code",
   "execution_count": 30,
   "id": "ea1f28fd",
   "metadata": {
    "execution": {
     "iopub.execute_input": "2023-05-06T12:26:46.265245Z",
     "iopub.status.busy": "2023-05-06T12:26:46.264867Z",
     "iopub.status.idle": "2023-05-06T12:26:46.482579Z",
     "shell.execute_reply": "2023-05-06T12:26:46.481477Z"
    },
    "papermill": {
     "duration": 0.23262,
     "end_time": "2023-05-06T12:26:46.485406",
     "exception": false,
     "start_time": "2023-05-06T12:26:46.252786",
     "status": "completed"
    },
    "tags": []
   },
   "outputs": [
    {
     "name": "stdout",
     "output_type": "stream",
     "text": [
      "The top 5 most popular restaurant chains in India are:\n",
      "Domino's Pizza\n",
      "Pizza Hut\n",
      "KFC\n",
      "Kwality Walls Frozen Dessert and Ice Cream Shop\n",
      "Baskin Robbins\n"
     ]
    }
   ],
   "source": [
    "top_chains = df.groupby('name')['id'].count().sort_values(ascending=False).head(5).index.tolist()\n",
    "print(\"The top 5 most popular restaurant chains in India are:\")\n",
    "for chain in top_chains:\n",
    "    print(chain)"
   ]
  },
  {
   "cell_type": "code",
   "execution_count": 31,
   "id": "b92aa958",
   "metadata": {
    "execution": {
     "iopub.execute_input": "2023-05-06T12:26:46.507675Z",
     "iopub.status.busy": "2023-05-06T12:26:46.507312Z",
     "iopub.status.idle": "2023-05-06T12:26:46.530644Z",
     "shell.execute_reply": "2023-05-06T12:26:46.529179Z"
    },
    "papermill": {
     "duration": 0.037527,
     "end_time": "2023-05-06T12:26:46.533247",
     "exception": false,
     "start_time": "2023-05-06T12:26:46.495720",
     "status": "completed"
    },
    "tags": []
   },
   "outputs": [
    {
     "name": "stdout",
     "output_type": "stream",
     "text": [
      "The restaurant in Bangalore with the most number of people visited is <bound method IndexOpsMixin.tolist of Int64Index([], dtype='int64')>.\n"
     ]
    }
   ],
   "source": [
    "bangalore_df = df[df['city'] == 'Bangalore']\n",
    "most_popular_restaurant = bangalore_df.sort_values('rating_count', ascending=False)['name'].index.tolist\n",
    "print(f\"The restaurant in Bangalore with the most number of people visited is {most_popular_restaurant}.\")"
   ]
  },
  {
   "cell_type": "code",
   "execution_count": null,
   "id": "92e7083f",
   "metadata": {
    "papermill": {
     "duration": 0.0103,
     "end_time": "2023-05-06T12:26:46.554028",
     "exception": false,
     "start_time": "2023-05-06T12:26:46.543728",
     "status": "completed"
    },
    "tags": []
   },
   "outputs": [],
   "source": []
  }
 ],
 "metadata": {
  "kernelspec": {
   "display_name": "Python 3",
   "language": "python",
   "name": "python3"
  },
  "language_info": {
   "codemirror_mode": {
    "name": "ipython",
    "version": 3
   },
   "file_extension": ".py",
   "mimetype": "text/x-python",
   "name": "python",
   "nbconvert_exporter": "python",
   "pygments_lexer": "ipython3",
   "version": "3.10.10"
  },
  "papermill": {
   "default_parameters": {},
   "duration": 19.207692,
   "end_time": "2023-05-06T12:26:47.586641",
   "environment_variables": {},
   "exception": null,
   "input_path": "__notebook__.ipynb",
   "output_path": "__notebook__.ipynb",
   "parameters": {},
   "start_time": "2023-05-06T12:26:28.378949",
   "version": "2.4.0"
  }
 },
 "nbformat": 4,
 "nbformat_minor": 5
}
