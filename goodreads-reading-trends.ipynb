{
 "cells": [
  {
   "cell_type": "code",
   "execution_count": 1,
   "id": "ba9cf24a",
   "metadata": {
    "_cell_guid": "b1076dfc-b9ad-4769-8c92-a6c4dae69d19",
    "_uuid": "8f2839f25d086af736a60e9eeb907d3b93b6e0e5",
    "execution": {
     "iopub.execute_input": "2023-03-19T07:39:43.718768Z",
     "iopub.status.busy": "2023-03-19T07:39:43.718329Z",
     "iopub.status.idle": "2023-03-19T07:39:43.737079Z",
     "shell.execute_reply": "2023-03-19T07:39:43.735734Z"
    },
    "papermill": {
     "duration": 0.034077,
     "end_time": "2023-03-19T07:39:43.740468",
     "exception": false,
     "start_time": "2023-03-19T07:39:43.706391",
     "status": "completed"
    },
    "tags": []
   },
   "outputs": [
    {
     "name": "stdout",
     "output_type": "stream",
     "text": [
      "/kaggle/input/goodreads-all-time-greatest-books-8k-data/Goodreads All Time Greatest Books 8k Data.csv\n"
     ]
    }
   ],
   "source": [
    "# This Python 3 environment comes with many helpful analytics libraries installed\n",
    "# It is defined by the kaggle/python Docker image: https://github.com/kaggle/docker-python\n",
    "# For example, here's several helpful packages to load\n",
    "\n",
    "import numpy as np # linear algebra\n",
    "import pandas as pd # data processing, CSV file I/O (e.g. pd.read_csv)\n",
    "\n",
    "# Input data files are available in the read-only \"../input/\" directory\n",
    "# For example, running this (by clicking run or pressing Shift+Enter) will list all files under the input directory\n",
    "\n",
    "import os\n",
    "for dirname, _, filenames in os.walk('/kaggle/input'):\n",
    "    for filename in filenames:\n",
    "        print(os.path.join(dirname, filename))\n",
    "\n",
    "# You can write up to 20GB to the current directory (/kaggle/working/) that gets preserved as output when you create a version using \"Save & Run All\" \n",
    "# You can also write temporary files to /kaggle/temp/, but they won't be saved outside of the current session"
   ]
  },
  {
   "cell_type": "markdown",
   "id": "d8399731",
   "metadata": {
    "papermill": {
     "duration": 0.008669,
     "end_time": "2023-03-19T07:39:43.758550",
     "exception": false,
     "start_time": "2023-03-19T07:39:43.749881",
     "status": "completed"
    },
    "tags": []
   },
   "source": [
    "Goodreads\n",
    "The dataset for Goodreads' All-Time Greatest Books was compiled by Goodreads, the world's largest website for readers and book recommendations.The dataset also serves as a valuable tool for researchers and scholars interested in understanding reading habits and trends."
   ]
  },
  {
   "cell_type": "code",
   "execution_count": 2,
   "id": "53ce5cc2",
   "metadata": {
    "execution": {
     "iopub.execute_input": "2023-03-19T07:39:43.779045Z",
     "iopub.status.busy": "2023-03-19T07:39:43.778179Z",
     "iopub.status.idle": "2023-03-19T07:39:43.836391Z",
     "shell.execute_reply": "2023-03-19T07:39:43.835169Z"
    },
    "papermill": {
     "duration": 0.07213,
     "end_time": "2023-03-19T07:39:43.839800",
     "exception": false,
     "start_time": "2023-03-19T07:39:43.767670",
     "status": "completed"
    },
    "tags": []
   },
   "outputs": [],
   "source": [
    "#loading the dataset\n",
    "df = pd.read_csv(\"/kaggle/input/goodreads-all-time-greatest-books-8k-data/Goodreads All Time Greatest Books 8k Data.csv\")"
   ]
  },
  {
   "cell_type": "code",
   "execution_count": 3,
   "id": "50bf1725",
   "metadata": {
    "execution": {
     "iopub.execute_input": "2023-03-19T07:39:43.860530Z",
     "iopub.status.busy": "2023-03-19T07:39:43.859365Z",
     "iopub.status.idle": "2023-03-19T07:39:43.895972Z",
     "shell.execute_reply": "2023-03-19T07:39:43.894652Z"
    },
    "papermill": {
     "duration": 0.050028,
     "end_time": "2023-03-19T07:39:43.898864",
     "exception": false,
     "start_time": "2023-03-19T07:39:43.848836",
     "status": "completed"
    },
    "tags": []
   },
   "outputs": [
    {
     "data": {
      "text/html": [
       "<div>\n",
       "<style scoped>\n",
       "    .dataframe tbody tr th:only-of-type {\n",
       "        vertical-align: middle;\n",
       "    }\n",
       "\n",
       "    .dataframe tbody tr th {\n",
       "        vertical-align: top;\n",
       "    }\n",
       "\n",
       "    .dataframe thead th {\n",
       "        text-align: right;\n",
       "    }\n",
       "</style>\n",
       "<table border=\"1\" class=\"dataframe\">\n",
       "  <thead>\n",
       "    <tr style=\"text-align: right;\">\n",
       "      <th></th>\n",
       "      <th>Book_Name</th>\n",
       "      <th>Author</th>\n",
       "      <th>Average_star</th>\n",
       "      <th>Ratings</th>\n",
       "      <th>Reviews</th>\n",
       "      <th>5_Star</th>\n",
       "      <th>4_Star</th>\n",
       "      <th>3_Star</th>\n",
       "      <th>2_Star</th>\n",
       "      <th>1_Star</th>\n",
       "    </tr>\n",
       "  </thead>\n",
       "  <tbody>\n",
       "    <tr>\n",
       "      <th>0</th>\n",
       "      <td>To Kill a Mockingbird</td>\n",
       "      <td>Harper Lee</td>\n",
       "      <td>4.27</td>\n",
       "      <td>5,623,473</td>\n",
       "      <td>108,722</td>\n",
       "      <td>2,927,118</td>\n",
       "      <td>1,669,471</td>\n",
       "      <td>730,317</td>\n",
       "      <td>192,620</td>\n",
       "      <td>103,947</td>\n",
       "    </tr>\n",
       "    <tr>\n",
       "      <th>1</th>\n",
       "      <td>1984</td>\n",
       "      <td>George Orwell</td>\n",
       "      <td>4.19</td>\n",
       "      <td>4,134,439</td>\n",
       "      <td>98,891</td>\n",
       "      <td>1,956,290</td>\n",
       "      <td>1,345,678</td>\n",
       "      <td>588,373</td>\n",
       "      <td>158,757</td>\n",
       "      <td>85,341</td>\n",
       "    </tr>\n",
       "    <tr>\n",
       "      <th>2</th>\n",
       "      <td>Fahrenheit 451</td>\n",
       "      <td>Ray Bradbury</td>\n",
       "      <td>3.97</td>\n",
       "      <td>2,181,792</td>\n",
       "      <td>64,728</td>\n",
       "      <td>788,776</td>\n",
       "      <td>777,014</td>\n",
       "      <td>438,256</td>\n",
       "      <td>123,939</td>\n",
       "      <td>53,807</td>\n",
       "    </tr>\n",
       "    <tr>\n",
       "      <th>3</th>\n",
       "      <td>Animal Farm</td>\n",
       "      <td>George Orwell</td>\n",
       "      <td>3.98</td>\n",
       "      <td>3,521,050</td>\n",
       "      <td>81,746</td>\n",
       "      <td>1,310,631</td>\n",
       "      <td>1,229,834</td>\n",
       "      <td>676,221</td>\n",
       "      <td>200,989</td>\n",
       "      <td>103,375</td>\n",
       "    </tr>\n",
       "    <tr>\n",
       "      <th>4</th>\n",
       "      <td>The Hobbit</td>\n",
       "      <td>J.R.R. Tolkien</td>\n",
       "      <td>4.28</td>\n",
       "      <td>3,612,605</td>\n",
       "      <td>62,476</td>\n",
       "      <td>1,930,001</td>\n",
       "      <td>1,047,617</td>\n",
       "      <td>439,072</td>\n",
       "      <td>118,631</td>\n",
       "      <td>77,284</td>\n",
       "    </tr>\n",
       "  </tbody>\n",
       "</table>\n",
       "</div>"
      ],
      "text/plain": [
       "               Book_Name          Author  Average_star    Ratings  Reviews  \\\n",
       "0  To Kill a Mockingbird      Harper Lee          4.27  5,623,473  108,722   \n",
       "1                   1984   George Orwell          4.19  4,134,439   98,891   \n",
       "2         Fahrenheit 451    Ray Bradbury          3.97  2,181,792   64,728   \n",
       "3            Animal Farm   George Orwell          3.98  3,521,050   81,746   \n",
       "4             The Hobbit  J.R.R. Tolkien          4.28  3,612,605   62,476   \n",
       "\n",
       "      5_Star     4_Star   3_Star   2_Star   1_Star  \n",
       "0  2,927,118  1,669,471  730,317  192,620  103,947  \n",
       "1  1,956,290  1,345,678  588,373  158,757   85,341  \n",
       "2    788,776    777,014  438,256  123,939   53,807  \n",
       "3  1,310,631  1,229,834  676,221  200,989  103,375  \n",
       "4  1,930,001  1,047,617  439,072  118,631   77,284  "
      ]
     },
     "execution_count": 3,
     "metadata": {},
     "output_type": "execute_result"
    }
   ],
   "source": [
    "#checking the first 5 rows of dataset\n",
    "df.head()"
   ]
  },
  {
   "cell_type": "code",
   "execution_count": 4,
   "id": "ee67c7c2",
   "metadata": {
    "execution": {
     "iopub.execute_input": "2023-03-19T07:39:43.918797Z",
     "iopub.status.busy": "2023-03-19T07:39:43.918364Z",
     "iopub.status.idle": "2023-03-19T07:39:43.924878Z",
     "shell.execute_reply": "2023-03-19T07:39:43.923974Z"
    },
    "papermill": {
     "duration": 0.01898,
     "end_time": "2023-03-19T07:39:43.926942",
     "exception": false,
     "start_time": "2023-03-19T07:39:43.907962",
     "status": "completed"
    },
    "tags": []
   },
   "outputs": [
    {
     "data": {
      "text/plain": [
       "(7806, 10)"
      ]
     },
     "execution_count": 4,
     "metadata": {},
     "output_type": "execute_result"
    }
   ],
   "source": [
    "#checking the no. of rows and columns of dataset\n",
    "df.shape"
   ]
  },
  {
   "cell_type": "code",
   "execution_count": 5,
   "id": "cc095115",
   "metadata": {
    "execution": {
     "iopub.execute_input": "2023-03-19T07:39:43.947375Z",
     "iopub.status.busy": "2023-03-19T07:39:43.946918Z",
     "iopub.status.idle": "2023-03-19T07:39:43.978339Z",
     "shell.execute_reply": "2023-03-19T07:39:43.976971Z"
    },
    "papermill": {
     "duration": 0.045036,
     "end_time": "2023-03-19T07:39:43.981332",
     "exception": false,
     "start_time": "2023-03-19T07:39:43.936296",
     "status": "completed"
    },
    "tags": []
   },
   "outputs": [
    {
     "name": "stdout",
     "output_type": "stream",
     "text": [
      "<class 'pandas.core.frame.DataFrame'>\n",
      "RangeIndex: 7806 entries, 0 to 7805\n",
      "Data columns (total 10 columns):\n",
      " #   Column        Non-Null Count  Dtype  \n",
      "---  ------        --------------  -----  \n",
      " 0   Book_Name     7806 non-null   object \n",
      " 1   Author        7806 non-null   object \n",
      " 2   Average_star  7806 non-null   float64\n",
      " 3   Ratings       7806 non-null   object \n",
      " 4   Reviews       7806 non-null   object \n",
      " 5   5_Star        7806 non-null   object \n",
      " 6   4_Star        7806 non-null   object \n",
      " 7   3_Star        7806 non-null   object \n",
      " 8   2_Star        7806 non-null   object \n",
      " 9   1_Star        7806 non-null   object \n",
      "dtypes: float64(1), object(9)\n",
      "memory usage: 610.0+ KB\n"
     ]
    }
   ],
   "source": [
    "#checking the datatype of all the columns in dataset\n",
    "df.info()"
   ]
  },
  {
   "cell_type": "code",
   "execution_count": 6,
   "id": "ce45885f",
   "metadata": {
    "execution": {
     "iopub.execute_input": "2023-03-19T07:39:44.001878Z",
     "iopub.status.busy": "2023-03-19T07:39:44.001438Z",
     "iopub.status.idle": "2023-03-19T07:39:44.020307Z",
     "shell.execute_reply": "2023-03-19T07:39:44.019009Z"
    },
    "papermill": {
     "duration": 0.031985,
     "end_time": "2023-03-19T07:39:44.022860",
     "exception": false,
     "start_time": "2023-03-19T07:39:43.990875",
     "status": "completed"
    },
    "tags": []
   },
   "outputs": [
    {
     "data": {
      "text/html": [
       "<div>\n",
       "<style scoped>\n",
       "    .dataframe tbody tr th:only-of-type {\n",
       "        vertical-align: middle;\n",
       "    }\n",
       "\n",
       "    .dataframe tbody tr th {\n",
       "        vertical-align: top;\n",
       "    }\n",
       "\n",
       "    .dataframe thead th {\n",
       "        text-align: right;\n",
       "    }\n",
       "</style>\n",
       "<table border=\"1\" class=\"dataframe\">\n",
       "  <thead>\n",
       "    <tr style=\"text-align: right;\">\n",
       "      <th></th>\n",
       "      <th>Average_star</th>\n",
       "    </tr>\n",
       "  </thead>\n",
       "  <tbody>\n",
       "    <tr>\n",
       "      <th>count</th>\n",
       "      <td>7806.000000</td>\n",
       "    </tr>\n",
       "    <tr>\n",
       "      <th>mean</th>\n",
       "      <td>4.018515</td>\n",
       "    </tr>\n",
       "    <tr>\n",
       "      <th>std</th>\n",
       "      <td>0.273727</td>\n",
       "    </tr>\n",
       "    <tr>\n",
       "      <th>min</th>\n",
       "      <td>0.000000</td>\n",
       "    </tr>\n",
       "    <tr>\n",
       "      <th>25%</th>\n",
       "      <td>3.850000</td>\n",
       "    </tr>\n",
       "    <tr>\n",
       "      <th>50%</th>\n",
       "      <td>4.030000</td>\n",
       "    </tr>\n",
       "    <tr>\n",
       "      <th>75%</th>\n",
       "      <td>4.200000</td>\n",
       "    </tr>\n",
       "    <tr>\n",
       "      <th>max</th>\n",
       "      <td>5.000000</td>\n",
       "    </tr>\n",
       "  </tbody>\n",
       "</table>\n",
       "</div>"
      ],
      "text/plain": [
       "       Average_star\n",
       "count   7806.000000\n",
       "mean       4.018515\n",
       "std        0.273727\n",
       "min        0.000000\n",
       "25%        3.850000\n",
       "50%        4.030000\n",
       "75%        4.200000\n",
       "max        5.000000"
      ]
     },
     "execution_count": 6,
     "metadata": {},
     "output_type": "execute_result"
    }
   ],
   "source": [
    "#checking the 5 point summary of dataset\n",
    "df.describe()"
   ]
  },
  {
   "cell_type": "code",
   "execution_count": 7,
   "id": "f1454342",
   "metadata": {
    "execution": {
     "iopub.execute_input": "2023-03-19T07:39:44.046094Z",
     "iopub.status.busy": "2023-03-19T07:39:44.045633Z",
     "iopub.status.idle": "2023-03-19T07:39:44.060703Z",
     "shell.execute_reply": "2023-03-19T07:39:44.059399Z"
    },
    "papermill": {
     "duration": 0.029143,
     "end_time": "2023-03-19T07:39:44.063170",
     "exception": false,
     "start_time": "2023-03-19T07:39:44.034027",
     "status": "completed"
    },
    "tags": []
   },
   "outputs": [
    {
     "data": {
      "text/plain": [
       "Book_Name       0\n",
       "Author          0\n",
       "Average_star    0\n",
       "Ratings         0\n",
       "Reviews         0\n",
       "5_Star          0\n",
       "4_Star          0\n",
       "3_Star          0\n",
       "2_Star          0\n",
       "1_Star          0\n",
       "dtype: int64"
      ]
     },
     "execution_count": 7,
     "metadata": {},
     "output_type": "execute_result"
    }
   ],
   "source": [
    "#checkinh the Nan values present in the dataset\n",
    "df.isnull().sum()"
   ]
  },
  {
   "cell_type": "code",
   "execution_count": 8,
   "id": "1105ab6b",
   "metadata": {
    "execution": {
     "iopub.execute_input": "2023-03-19T07:39:44.084576Z",
     "iopub.status.busy": "2023-03-19T07:39:44.083686Z",
     "iopub.status.idle": "2023-03-19T07:39:44.106365Z",
     "shell.execute_reply": "2023-03-19T07:39:44.105323Z"
    },
    "papermill": {
     "duration": 0.036081,
     "end_time": "2023-03-19T07:39:44.108861",
     "exception": false,
     "start_time": "2023-03-19T07:39:44.072780",
     "status": "completed"
    },
    "tags": []
   },
   "outputs": [
    {
     "data": {
      "text/plain": [
       "Book_Name       7746\n",
       "Author          3772\n",
       "Average_star     186\n",
       "Ratings         6086\n",
       "Reviews         2662\n",
       "5_Star          4984\n",
       "4_Star          4917\n",
       "3_Star          4205\n",
       "2_Star          2596\n",
       "1_Star          1719\n",
       "dtype: int64"
      ]
     },
     "execution_count": 8,
     "metadata": {},
     "output_type": "execute_result"
    }
   ],
   "source": [
    "#checking the uniquness of the data in each column\n",
    "df.nunique()"
   ]
  },
  {
   "cell_type": "code",
   "execution_count": 9,
   "id": "1c34556a",
   "metadata": {
    "execution": {
     "iopub.execute_input": "2023-03-19T07:39:44.130201Z",
     "iopub.status.busy": "2023-03-19T07:39:44.129795Z",
     "iopub.status.idle": "2023-03-19T07:39:44.200730Z",
     "shell.execute_reply": "2023-03-19T07:39:44.199374Z"
    },
    "papermill": {
     "duration": 0.085279,
     "end_time": "2023-03-19T07:39:44.203852",
     "exception": false,
     "start_time": "2023-03-19T07:39:44.118573",
     "status": "completed"
    },
    "tags": []
   },
   "outputs": [
    {
     "data": {
      "text/plain": [
       "Book_Name                                                                                                       Author            Average_star  Ratings  Reviews  5_Star   4_Star   3_Star  2_Star  1_Star\n",
       "The Drowned World                                                                                               J.G. Ballard      3.49          16,927   1,337    3,036    5,612    5,498   2,100   681       2\n",
       "Where Eagles Dare                                                                                               Alistair MacLean  4.14          45,136   603      18,036   17,171   8,401   1,172   356       2\n",
       "Weaveworld                                                                                                      Clive Barker      4.13          31,075   1,486    13,532   10,532   5,161   1,352   498       2\n",
       "Flowers for Algernon                                                                                            Daniel Keyes      4.19          603,373  27,480   270,554  208,831  96,107  21,339  6,542     2\n",
       "'I Won't Learn from You': And Other Thoughts on Creative Maladjustment                                          Herbert R. Kohl   4.17          489      56       205      189      72      18      5         1\n",
       "                                                                                                                                                                                                             ..\n",
       "Jim Knopf und Lukas der Lokomotivführer. Jim Knopf und die Wilde 13. Sammelband                                 Michael Ende      4.56          81       4        52       22       7       0       0         1\n",
       "Jewel                                                                                                           Bret Lott         3.68          37,484   730      8,329    13,422   11,894  3,009   830       1\n",
       "Jesus’ Son                                                                                                      Denis Johnson     4.13          34,285   2,755    14,864   11,738   5,468   1,624   591       1\n",
       "Jesus the Christ: A Study of the Messiah and His Mission According to Holy Scriptures, Both Ancient and Modern  James E. Talmage  4.62          22,488   1,274    17,131   3,413    1,127   337     480       1\n",
       "東京ラブストーリー（２） (ビッグコミックス)                                                                                         柴門ふみ              3.85          13       2        3        6        3       1       0         1\n",
       "Length: 7802, dtype: int64"
      ]
     },
     "execution_count": 9,
     "metadata": {},
     "output_type": "execute_result"
    }
   ],
   "source": [
    "#finding the values and its corresponding values in the dataset\n",
    "df.value_counts()"
   ]
  },
  {
   "cell_type": "code",
   "execution_count": 10,
   "id": "02900641",
   "metadata": {
    "execution": {
     "iopub.execute_input": "2023-03-19T07:39:44.227594Z",
     "iopub.status.busy": "2023-03-19T07:39:44.226548Z",
     "iopub.status.idle": "2023-03-19T07:39:44.246969Z",
     "shell.execute_reply": "2023-03-19T07:39:44.246022Z"
    },
    "papermill": {
     "duration": 0.035315,
     "end_time": "2023-03-19T07:39:44.249331",
     "exception": false,
     "start_time": "2023-03-19T07:39:44.214016",
     "status": "completed"
    },
    "tags": []
   },
   "outputs": [
    {
     "data": {
      "text/plain": [
       "0       False\n",
       "1       False\n",
       "2       False\n",
       "3       False\n",
       "4       False\n",
       "        ...  \n",
       "7801    False\n",
       "7802    False\n",
       "7803    False\n",
       "7804    False\n",
       "7805    False\n",
       "Length: 7806, dtype: bool"
      ]
     },
     "execution_count": 10,
     "metadata": {},
     "output_type": "execute_result"
    }
   ],
   "source": [
    "# finding duplicate Rows available in dataset through boolean function\n",
    "df.duplicated()"
   ]
  },
  {
   "cell_type": "code",
   "execution_count": 11,
   "id": "02e2d3d6",
   "metadata": {
    "execution": {
     "iopub.execute_input": "2023-03-19T07:39:44.272282Z",
     "iopub.status.busy": "2023-03-19T07:39:44.271045Z",
     "iopub.status.idle": "2023-03-19T07:39:44.291846Z",
     "shell.execute_reply": "2023-03-19T07:39:44.290425Z"
    },
    "papermill": {
     "duration": 0.034742,
     "end_time": "2023-03-19T07:39:44.294325",
     "exception": false,
     "start_time": "2023-03-19T07:39:44.259583",
     "status": "completed"
    },
    "tags": []
   },
   "outputs": [
    {
     "data": {
      "text/plain": [
       "4"
      ]
     },
     "execution_count": 11,
     "metadata": {},
     "output_type": "execute_result"
    }
   ],
   "source": [
    "#finding duplicate Rows in dataset in numerical form\n",
    "df.duplicated().sum()"
   ]
  },
  {
   "cell_type": "code",
   "execution_count": 12,
   "id": "b883838e",
   "metadata": {
    "execution": {
     "iopub.execute_input": "2023-03-19T07:39:44.318266Z",
     "iopub.status.busy": "2023-03-19T07:39:44.317596Z",
     "iopub.status.idle": "2023-03-19T07:39:44.322426Z",
     "shell.execute_reply": "2023-03-19T07:39:44.321287Z"
    },
    "papermill": {
     "duration": 0.019952,
     "end_time": "2023-03-19T07:39:44.325035",
     "exception": false,
     "start_time": "2023-03-19T07:39:44.305083",
     "status": "completed"
    },
    "tags": []
   },
   "outputs": [],
   "source": [
    "#Observation :showing 4 rows duplicated"
   ]
  },
  {
   "cell_type": "code",
   "execution_count": 13,
   "id": "0307cf01",
   "metadata": {
    "execution": {
     "iopub.execute_input": "2023-03-19T07:39:44.347542Z",
     "iopub.status.busy": "2023-03-19T07:39:44.347124Z",
     "iopub.status.idle": "2023-03-19T07:39:44.354212Z",
     "shell.execute_reply": "2023-03-19T07:39:44.352945Z"
    },
    "papermill": {
     "duration": 0.021384,
     "end_time": "2023-03-19T07:39:44.356691",
     "exception": false,
     "start_time": "2023-03-19T07:39:44.335307",
     "status": "completed"
    },
    "tags": []
   },
   "outputs": [
    {
     "data": {
      "text/plain": [
       "(7806, 10)"
      ]
     },
     "execution_count": 13,
     "metadata": {},
     "output_type": "execute_result"
    }
   ],
   "source": [
    "#showing no of Rows available in dataset before dropping duplicated rows\n",
    "df.shape"
   ]
  },
  {
   "cell_type": "code",
   "execution_count": 14,
   "id": "ad486fed",
   "metadata": {
    "execution": {
     "iopub.execute_input": "2023-03-19T07:39:44.380113Z",
     "iopub.status.busy": "2023-03-19T07:39:44.379730Z",
     "iopub.status.idle": "2023-03-19T07:39:44.398633Z",
     "shell.execute_reply": "2023-03-19T07:39:44.397310Z"
    },
    "papermill": {
     "duration": 0.034013,
     "end_time": "2023-03-19T07:39:44.401614",
     "exception": false,
     "start_time": "2023-03-19T07:39:44.367601",
     "status": "completed"
    },
    "tags": []
   },
   "outputs": [],
   "source": [
    "#Dropping duplicated rows with drop Function\n",
    "df = df.drop_duplicates()"
   ]
  },
  {
   "cell_type": "code",
   "execution_count": 15,
   "id": "97e374e1",
   "metadata": {
    "execution": {
     "iopub.execute_input": "2023-03-19T07:39:44.426508Z",
     "iopub.status.busy": "2023-03-19T07:39:44.426093Z",
     "iopub.status.idle": "2023-03-19T07:39:44.433545Z",
     "shell.execute_reply": "2023-03-19T07:39:44.432308Z"
    },
    "papermill": {
     "duration": 0.023748,
     "end_time": "2023-03-19T07:39:44.436076",
     "exception": false,
     "start_time": "2023-03-19T07:39:44.412328",
     "status": "completed"
    },
    "tags": []
   },
   "outputs": [
    {
     "data": {
      "text/plain": [
       "(7802, 10)"
      ]
     },
     "execution_count": 15,
     "metadata": {},
     "output_type": "execute_result"
    }
   ],
   "source": [
    "#showing reduced no. of rows after dropping duplicated Rows\n",
    "df.shape"
   ]
  },
  {
   "cell_type": "code",
   "execution_count": 16,
   "id": "0dedc210",
   "metadata": {
    "execution": {
     "iopub.execute_input": "2023-03-19T07:39:44.459088Z",
     "iopub.status.busy": "2023-03-19T07:39:44.458700Z",
     "iopub.status.idle": "2023-03-19T07:39:44.471554Z",
     "shell.execute_reply": "2023-03-19T07:39:44.470630Z"
    },
    "papermill": {
     "duration": 0.027232,
     "end_time": "2023-03-19T07:39:44.473815",
     "exception": false,
     "start_time": "2023-03-19T07:39:44.446583",
     "status": "completed"
    },
    "tags": []
   },
   "outputs": [
    {
     "data": {
      "text/plain": [
       "Book_Name       0\n",
       "Author          0\n",
       "Average_star    0\n",
       "Ratings         0\n",
       "Reviews         0\n",
       "dtype: int64"
      ]
     },
     "execution_count": 16,
     "metadata": {},
     "output_type": "execute_result"
    }
   ],
   "source": [
    "#checking Nan values\n",
    "df_miss = df.isnull().sum()\n",
    "df_miss.head()"
   ]
  },
  {
   "cell_type": "code",
   "execution_count": 17,
   "id": "652d5119",
   "metadata": {
    "execution": {
     "iopub.execute_input": "2023-03-19T07:39:44.496882Z",
     "iopub.status.busy": "2023-03-19T07:39:44.496489Z",
     "iopub.status.idle": "2023-03-19T07:39:44.500618Z",
     "shell.execute_reply": "2023-03-19T07:39:44.499613Z"
    },
    "papermill": {
     "duration": 0.018089,
     "end_time": "2023-03-19T07:39:44.502656",
     "exception": false,
     "start_time": "2023-03-19T07:39:44.484567",
     "status": "completed"
    },
    "tags": []
   },
   "outputs": [],
   "source": [
    "#Observation : No NaN values available in dataset"
   ]
  },
  {
   "cell_type": "code",
   "execution_count": 18,
   "id": "adf78569",
   "metadata": {
    "execution": {
     "iopub.execute_input": "2023-03-19T07:39:44.525494Z",
     "iopub.status.busy": "2023-03-19T07:39:44.524746Z",
     "iopub.status.idle": "2023-03-19T07:39:44.531663Z",
     "shell.execute_reply": "2023-03-19T07:39:44.530328Z"
    },
    "papermill": {
     "duration": 0.021189,
     "end_time": "2023-03-19T07:39:44.534219",
     "exception": false,
     "start_time": "2023-03-19T07:39:44.513030",
     "status": "completed"
    },
    "tags": []
   },
   "outputs": [
    {
     "data": {
      "text/plain": [
       "Index(['Book_Name', 'Author', 'Average_star', 'Ratings', 'Reviews', '5_Star',\n",
       "       '4_Star', '3_Star', '2_Star', '1_Star'],\n",
       "      dtype='object')"
      ]
     },
     "execution_count": 18,
     "metadata": {},
     "output_type": "execute_result"
    }
   ],
   "source": [
    "#changing the datatype of feature from object to int\n",
    "df.columns"
   ]
  },
  {
   "cell_type": "code",
   "execution_count": 19,
   "id": "423a3ed7",
   "metadata": {
    "execution": {
     "iopub.execute_input": "2023-03-19T07:39:44.558039Z",
     "iopub.status.busy": "2023-03-19T07:39:44.557620Z",
     "iopub.status.idle": "2023-03-19T07:39:44.575704Z",
     "shell.execute_reply": "2023-03-19T07:39:44.574436Z"
    },
    "papermill": {
     "duration": 0.033959,
     "end_time": "2023-03-19T07:39:44.579315",
     "exception": false,
     "start_time": "2023-03-19T07:39:44.545356",
     "status": "completed"
    },
    "tags": []
   },
   "outputs": [
    {
     "name": "stdout",
     "output_type": "stream",
     "text": [
      "<class 'pandas.core.frame.DataFrame'>\n",
      "Int64Index: 7802 entries, 0 to 7805\n",
      "Data columns (total 10 columns):\n",
      " #   Column        Non-Null Count  Dtype  \n",
      "---  ------        --------------  -----  \n",
      " 0   Book_Name     7802 non-null   object \n",
      " 1   Author        7802 non-null   object \n",
      " 2   Average_star  7802 non-null   float64\n",
      " 3   Ratings       7802 non-null   object \n",
      " 4   Reviews       7802 non-null   object \n",
      " 5   5_Star        7802 non-null   object \n",
      " 6   4_Star        7802 non-null   object \n",
      " 7   3_Star        7802 non-null   object \n",
      " 8   2_Star        7802 non-null   object \n",
      " 9   1_Star        7802 non-null   object \n",
      "dtypes: float64(1), object(9)\n",
      "memory usage: 670.5+ KB\n"
     ]
    }
   ],
   "source": [
    "df.info()"
   ]
  },
  {
   "cell_type": "code",
   "execution_count": 20,
   "id": "26989e54",
   "metadata": {
    "execution": {
     "iopub.execute_input": "2023-03-19T07:39:44.603033Z",
     "iopub.status.busy": "2023-03-19T07:39:44.602616Z",
     "iopub.status.idle": "2023-03-19T07:39:44.613743Z",
     "shell.execute_reply": "2023-03-19T07:39:44.612576Z"
    },
    "papermill": {
     "duration": 0.025994,
     "end_time": "2023-03-19T07:39:44.616388",
     "exception": false,
     "start_time": "2023-03-19T07:39:44.590394",
     "status": "completed"
    },
    "tags": []
   },
   "outputs": [],
   "source": [
    "#replacing commas in the Ratings column as converting it into from string to numerical\n",
    "\n",
    "df[\"Ratings\"] = df[\"Ratings\"].astype(str).str.replace(',', '')"
   ]
  },
  {
   "cell_type": "code",
   "execution_count": 21,
   "id": "960fe924",
   "metadata": {
    "execution": {
     "iopub.execute_input": "2023-03-19T07:39:44.639531Z",
     "iopub.status.busy": "2023-03-19T07:39:44.639069Z",
     "iopub.status.idle": "2023-03-19T07:39:44.647726Z",
     "shell.execute_reply": "2023-03-19T07:39:44.646626Z"
    },
    "papermill": {
     "duration": 0.023077,
     "end_time": "2023-03-19T07:39:44.650118",
     "exception": false,
     "start_time": "2023-03-19T07:39:44.627041",
     "status": "completed"
    },
    "tags": []
   },
   "outputs": [
    {
     "data": {
      "text/plain": [
       "0    5623473\n",
       "1    4134439\n",
       "2    2181792\n",
       "3    3521050\n",
       "4    3612605\n",
       "Name: Ratings, dtype: object"
      ]
     },
     "execution_count": 21,
     "metadata": {},
     "output_type": "execute_result"
    }
   ],
   "source": [
    "#checking first Feature after applying replace function to remove commas\n",
    "df[\"Ratings\"].head()"
   ]
  },
  {
   "cell_type": "code",
   "execution_count": 22,
   "id": "7c1f58b9",
   "metadata": {
    "execution": {
     "iopub.execute_input": "2023-03-19T07:39:44.674022Z",
     "iopub.status.busy": "2023-03-19T07:39:44.673152Z",
     "iopub.status.idle": "2023-03-19T07:39:44.716428Z",
     "shell.execute_reply": "2023-03-19T07:39:44.715334Z"
    },
    "papermill": {
     "duration": 0.058154,
     "end_time": "2023-03-19T07:39:44.719038",
     "exception": false,
     "start_time": "2023-03-19T07:39:44.660884",
     "status": "completed"
    },
    "tags": []
   },
   "outputs": [],
   "source": [
    "#converting all the columns string type to numerical values\n",
    "\n",
    "df[\"Ratings\"] = df[\"Ratings\"].astype(str).str.replace(',', '')\n",
    "df[\"Reviews\"] = df[\"Reviews\"].astype(str).str.replace(',', '')\n",
    "df[\"5_Star\"] = df[\"5_Star\"].astype(str).str.replace(',', '')\n",
    "df[\"4_Star\"] = df[\"4_Star\"].astype(str).str.replace(',', '')\n",
    "df[\"3_Star\"] = df[\"3_Star\"].astype(str).str.replace(',', '')\n",
    "df[\"2_Star\"] = df[\"2_Star\"].astype(str).str.replace(',', '')\n",
    "df[\"1_Star\"] = df[\"1_Star\"].astype(str).str.replace(',', '')"
   ]
  },
  {
   "cell_type": "code",
   "execution_count": 23,
   "id": "779ad5a2",
   "metadata": {
    "execution": {
     "iopub.execute_input": "2023-03-19T07:39:44.742709Z",
     "iopub.status.busy": "2023-03-19T07:39:44.742308Z",
     "iopub.status.idle": "2023-03-19T07:39:44.762496Z",
     "shell.execute_reply": "2023-03-19T07:39:44.761133Z"
    },
    "papermill": {
     "duration": 0.035149,
     "end_time": "2023-03-19T07:39:44.765215",
     "exception": false,
     "start_time": "2023-03-19T07:39:44.730066",
     "status": "completed"
    },
    "tags": []
   },
   "outputs": [
    {
     "data": {
      "text/html": [
       "<div>\n",
       "<style scoped>\n",
       "    .dataframe tbody tr th:only-of-type {\n",
       "        vertical-align: middle;\n",
       "    }\n",
       "\n",
       "    .dataframe tbody tr th {\n",
       "        vertical-align: top;\n",
       "    }\n",
       "\n",
       "    .dataframe thead th {\n",
       "        text-align: right;\n",
       "    }\n",
       "</style>\n",
       "<table border=\"1\" class=\"dataframe\">\n",
       "  <thead>\n",
       "    <tr style=\"text-align: right;\">\n",
       "      <th></th>\n",
       "      <th>Book_Name</th>\n",
       "      <th>Author</th>\n",
       "      <th>Average_star</th>\n",
       "      <th>Ratings</th>\n",
       "      <th>Reviews</th>\n",
       "      <th>5_Star</th>\n",
       "      <th>4_Star</th>\n",
       "      <th>3_Star</th>\n",
       "      <th>2_Star</th>\n",
       "      <th>1_Star</th>\n",
       "    </tr>\n",
       "  </thead>\n",
       "  <tbody>\n",
       "    <tr>\n",
       "      <th>0</th>\n",
       "      <td>To Kill a Mockingbird</td>\n",
       "      <td>Harper Lee</td>\n",
       "      <td>4.27</td>\n",
       "      <td>5623473</td>\n",
       "      <td>108722</td>\n",
       "      <td>2927118</td>\n",
       "      <td>1669471</td>\n",
       "      <td>730317</td>\n",
       "      <td>192620</td>\n",
       "      <td>103947</td>\n",
       "    </tr>\n",
       "    <tr>\n",
       "      <th>1</th>\n",
       "      <td>1984</td>\n",
       "      <td>George Orwell</td>\n",
       "      <td>4.19</td>\n",
       "      <td>4134439</td>\n",
       "      <td>98891</td>\n",
       "      <td>1956290</td>\n",
       "      <td>1345678</td>\n",
       "      <td>588373</td>\n",
       "      <td>158757</td>\n",
       "      <td>85341</td>\n",
       "    </tr>\n",
       "    <tr>\n",
       "      <th>2</th>\n",
       "      <td>Fahrenheit 451</td>\n",
       "      <td>Ray Bradbury</td>\n",
       "      <td>3.97</td>\n",
       "      <td>2181792</td>\n",
       "      <td>64728</td>\n",
       "      <td>788776</td>\n",
       "      <td>777014</td>\n",
       "      <td>438256</td>\n",
       "      <td>123939</td>\n",
       "      <td>53807</td>\n",
       "    </tr>\n",
       "    <tr>\n",
       "      <th>3</th>\n",
       "      <td>Animal Farm</td>\n",
       "      <td>George Orwell</td>\n",
       "      <td>3.98</td>\n",
       "      <td>3521050</td>\n",
       "      <td>81746</td>\n",
       "      <td>1310631</td>\n",
       "      <td>1229834</td>\n",
       "      <td>676221</td>\n",
       "      <td>200989</td>\n",
       "      <td>103375</td>\n",
       "    </tr>\n",
       "    <tr>\n",
       "      <th>4</th>\n",
       "      <td>The Hobbit</td>\n",
       "      <td>J.R.R. Tolkien</td>\n",
       "      <td>4.28</td>\n",
       "      <td>3612605</td>\n",
       "      <td>62476</td>\n",
       "      <td>1930001</td>\n",
       "      <td>1047617</td>\n",
       "      <td>439072</td>\n",
       "      <td>118631</td>\n",
       "      <td>77284</td>\n",
       "    </tr>\n",
       "  </tbody>\n",
       "</table>\n",
       "</div>"
      ],
      "text/plain": [
       "               Book_Name          Author  Average_star  Ratings Reviews  \\\n",
       "0  To Kill a Mockingbird      Harper Lee          4.27  5623473  108722   \n",
       "1                   1984   George Orwell          4.19  4134439   98891   \n",
       "2         Fahrenheit 451    Ray Bradbury          3.97  2181792   64728   \n",
       "3            Animal Farm   George Orwell          3.98  3521050   81746   \n",
       "4             The Hobbit  J.R.R. Tolkien          4.28  3612605   62476   \n",
       "\n",
       "    5_Star   4_Star  3_Star  2_Star  1_Star  \n",
       "0  2927118  1669471  730317  192620  103947  \n",
       "1  1956290  1345678  588373  158757   85341  \n",
       "2   788776   777014  438256  123939   53807  \n",
       "3  1310631  1229834  676221  200989  103375  \n",
       "4  1930001  1047617  439072  118631   77284  "
      ]
     },
     "execution_count": 23,
     "metadata": {},
     "output_type": "execute_result"
    }
   ],
   "source": [
    "#checking the format of dataset after removing commas\n",
    "df.head(5)"
   ]
  },
  {
   "cell_type": "code",
   "execution_count": 24,
   "id": "8d100666",
   "metadata": {
    "execution": {
     "iopub.execute_input": "2023-03-19T07:39:44.789691Z",
     "iopub.status.busy": "2023-03-19T07:39:44.789305Z",
     "iopub.status.idle": "2023-03-19T07:39:44.810816Z",
     "shell.execute_reply": "2023-03-19T07:39:44.809686Z"
    },
    "papermill": {
     "duration": 0.036931,
     "end_time": "2023-03-19T07:39:44.813683",
     "exception": false,
     "start_time": "2023-03-19T07:39:44.776752",
     "status": "completed"
    },
    "tags": []
   },
   "outputs": [],
   "source": [
    "#converting object to int all the numerical columns\n",
    "\n",
    "df[\"Ratings\"] = df[\"Ratings\"].astype(int)\n",
    "df[\"Reviews\"] = df[\"Reviews\"].astype(int)\n",
    "df[\"5_Star\"] = df[\"5_Star\"].astype(int)\n",
    "df[\"4_Star\"] = df[\"4_Star\"].astype(int)\n",
    "df[\"3_Star\"] = df[\"3_Star\"].astype(int)\n",
    "df[\"2_Star\"] = df[\"2_Star\"].astype(int)\n",
    "df[\"1_Star\"] = df[\"1_Star\"].astype(int)"
   ]
  },
  {
   "cell_type": "code",
   "execution_count": 25,
   "id": "faafa0da",
   "metadata": {
    "execution": {
     "iopub.execute_input": "2023-03-19T07:39:44.838947Z",
     "iopub.status.busy": "2023-03-19T07:39:44.838206Z",
     "iopub.status.idle": "2023-03-19T07:39:44.852169Z",
     "shell.execute_reply": "2023-03-19T07:39:44.851314Z"
    },
    "papermill": {
     "duration": 0.030182,
     "end_time": "2023-03-19T07:39:44.855108",
     "exception": false,
     "start_time": "2023-03-19T07:39:44.824926",
     "status": "completed"
    },
    "tags": []
   },
   "outputs": [
    {
     "name": "stdout",
     "output_type": "stream",
     "text": [
      "<class 'pandas.core.frame.DataFrame'>\n",
      "Int64Index: 7802 entries, 0 to 7805\n",
      "Data columns (total 10 columns):\n",
      " #   Column        Non-Null Count  Dtype  \n",
      "---  ------        --------------  -----  \n",
      " 0   Book_Name     7802 non-null   object \n",
      " 1   Author        7802 non-null   object \n",
      " 2   Average_star  7802 non-null   float64\n",
      " 3   Ratings       7802 non-null   int64  \n",
      " 4   Reviews       7802 non-null   int64  \n",
      " 5   5_Star        7802 non-null   int64  \n",
      " 6   4_Star        7802 non-null   int64  \n",
      " 7   3_Star        7802 non-null   int64  \n",
      " 8   2_Star        7802 non-null   int64  \n",
      " 9   1_Star        7802 non-null   int64  \n",
      "dtypes: float64(1), int64(7), object(2)\n",
      "memory usage: 670.5+ KB\n"
     ]
    }
   ],
   "source": [
    "#changed datatype from object to Int\n",
    "df.info()"
   ]
  },
  {
   "cell_type": "code",
   "execution_count": 26,
   "id": "45e085ad",
   "metadata": {
    "execution": {
     "iopub.execute_input": "2023-03-19T07:39:44.879868Z",
     "iopub.status.busy": "2023-03-19T07:39:44.879068Z",
     "iopub.status.idle": "2023-03-19T07:39:46.066035Z",
     "shell.execute_reply": "2023-03-19T07:39:46.064752Z"
    },
    "papermill": {
     "duration": 1.202683,
     "end_time": "2023-03-19T07:39:46.069170",
     "exception": false,
     "start_time": "2023-03-19T07:39:44.866487",
     "status": "completed"
    },
    "tags": []
   },
   "outputs": [],
   "source": [
    "#Importing Libraries for visualization\n",
    "import seaborn as sns\n",
    "import matplotlib.pyplot as plt"
   ]
  },
  {
   "cell_type": "code",
   "execution_count": 27,
   "id": "a0fb2e31",
   "metadata": {
    "execution": {
     "iopub.execute_input": "2023-03-19T07:39:46.093018Z",
     "iopub.status.busy": "2023-03-19T07:39:46.092597Z",
     "iopub.status.idle": "2023-03-19T07:39:46.494280Z",
     "shell.execute_reply": "2023-03-19T07:39:46.493021Z"
    },
    "papermill": {
     "duration": 0.416554,
     "end_time": "2023-03-19T07:39:46.496952",
     "exception": false,
     "start_time": "2023-03-19T07:39:46.080398",
     "status": "completed"
    },
    "tags": []
   },
   "outputs": [
    {
     "data": {
      "text/plain": [
       "<AxesSubplot:>"
      ]
     },
     "execution_count": 27,
     "metadata": {},
     "output_type": "execute_result"
    },
    {
     "data": {
      "image/png": "[encoded data removed]",
      "text/plain": [
       "<Figure size 640x480 with 1 Axes>"
      ]
     },
     "metadata": {},
     "output_type": "display_data"
    }
   ],
   "source": [
    "#Finding relation between thre features on book Rating, Reviews , n star \n",
    "df_plot = df.loc[:,[\"Average_star\",\"Ratings\",\"Reviews\"]]\n",
    "df_plot.plot()"
   ]
  },
  {
   "cell_type": "code",
   "execution_count": 28,
   "id": "bdbbef7d",
   "metadata": {
    "execution": {
     "iopub.execute_input": "2023-03-19T07:39:46.522725Z",
     "iopub.status.busy": "2023-03-19T07:39:46.521882Z",
     "iopub.status.idle": "2023-03-19T07:39:46.527248Z",
     "shell.execute_reply": "2023-03-19T07:39:46.526206Z"
    },
    "papermill": {
     "duration": 0.021089,
     "end_time": "2023-03-19T07:39:46.529892",
     "exception": false,
     "start_time": "2023-03-19T07:39:46.508803",
     "status": "completed"
    },
    "tags": []
   },
   "outputs": [],
   "source": [
    "#Observation : from this plot we can only find Ratings of the book is more Highlighted ."
   ]
  },
  {
   "cell_type": "code",
   "execution_count": 29,
   "id": "f2d3c0f1",
   "metadata": {
    "execution": {
     "iopub.execute_input": "2023-03-19T07:39:46.555462Z",
     "iopub.status.busy": "2023-03-19T07:39:46.555051Z",
     "iopub.status.idle": "2023-03-19T07:39:47.059571Z",
     "shell.execute_reply": "2023-03-19T07:39:47.058292Z"
    },
    "papermill": {
     "duration": 0.520464,
     "end_time": "2023-03-19T07:39:47.062490",
     "exception": false,
     "start_time": "2023-03-19T07:39:46.542026",
     "status": "completed"
    },
    "tags": []
   },
   "outputs": [
    {
     "data": {
      "image/png": "[encoded data removed]",
      "text/plain": [
       "<Figure size 640x480 with 3 Axes>"
      ]
     },
     "metadata": {},
     "output_type": "display_data"
    }
   ],
   "source": [
    "#subplots \n",
    "df_plot.plot(subplots = True)\n",
    "plt.show()"
   ]
  },
  {
   "cell_type": "code",
   "execution_count": 30,
   "id": "eb9e4a4b",
   "metadata": {
    "execution": {
     "iopub.execute_input": "2023-03-19T07:39:47.088940Z",
     "iopub.status.busy": "2023-03-19T07:39:47.088496Z",
     "iopub.status.idle": "2023-03-19T07:39:47.093518Z",
     "shell.execute_reply": "2023-03-19T07:39:47.092361Z"
    },
    "papermill": {
     "duration": 0.021019,
     "end_time": "2023-03-19T07:39:47.095947",
     "exception": false,
     "start_time": "2023-03-19T07:39:47.074928",
     "status": "completed"
    },
    "tags": []
   },
   "outputs": [],
   "source": [
    "#Observation :Average star rating is generally 4 star and raring n Reviews are directly correlated."
   ]
  },
  {
   "cell_type": "code",
   "execution_count": 31,
   "id": "89907a97",
   "metadata": {
    "execution": {
     "iopub.execute_input": "2023-03-19T07:39:47.122023Z",
     "iopub.status.busy": "2023-03-19T07:39:47.121611Z",
     "iopub.status.idle": "2023-03-19T07:39:47.141481Z",
     "shell.execute_reply": "2023-03-19T07:39:47.140294Z"
    },
    "papermill": {
     "duration": 0.035992,
     "end_time": "2023-03-19T07:39:47.144063",
     "exception": false,
     "start_time": "2023-03-19T07:39:47.108071",
     "status": "completed"
    },
    "tags": []
   },
   "outputs": [
    {
     "data": {
      "text/html": [
       "<div>\n",
       "<style scoped>\n",
       "    .dataframe tbody tr th:only-of-type {\n",
       "        vertical-align: middle;\n",
       "    }\n",
       "\n",
       "    .dataframe tbody tr th {\n",
       "        vertical-align: top;\n",
       "    }\n",
       "\n",
       "    .dataframe thead th {\n",
       "        text-align: right;\n",
       "    }\n",
       "</style>\n",
       "<table border=\"1\" class=\"dataframe\">\n",
       "  <thead>\n",
       "    <tr style=\"text-align: right;\">\n",
       "      <th></th>\n",
       "      <th>Average_star</th>\n",
       "      <th>Ratings</th>\n",
       "      <th>Reviews</th>\n",
       "      <th>5_Star</th>\n",
       "      <th>4_Star</th>\n",
       "      <th>3_Star</th>\n",
       "      <th>2_Star</th>\n",
       "      <th>1_Star</th>\n",
       "    </tr>\n",
       "  </thead>\n",
       "  <tbody>\n",
       "    <tr>\n",
       "      <th>Average_star</th>\n",
       "      <td>1.000000</td>\n",
       "      <td>0.062234</td>\n",
       "      <td>0.056058</td>\n",
       "      <td>0.084345</td>\n",
       "      <td>0.054505</td>\n",
       "      <td>0.016133</td>\n",
       "      <td>-0.007360</td>\n",
       "      <td>0.004800</td>\n",
       "    </tr>\n",
       "    <tr>\n",
       "      <th>Ratings</th>\n",
       "      <td>0.062234</td>\n",
       "      <td>1.000000</td>\n",
       "      <td>0.905620</td>\n",
       "      <td>0.972409</td>\n",
       "      <td>0.987283</td>\n",
       "      <td>0.937258</td>\n",
       "      <td>0.876682</td>\n",
       "      <td>0.889754</td>\n",
       "    </tr>\n",
       "    <tr>\n",
       "      <th>Reviews</th>\n",
       "      <td>0.056058</td>\n",
       "      <td>0.905620</td>\n",
       "      <td>1.000000</td>\n",
       "      <td>0.849788</td>\n",
       "      <td>0.919807</td>\n",
       "      <td>0.886503</td>\n",
       "      <td>0.844585</td>\n",
       "      <td>0.824787</td>\n",
       "    </tr>\n",
       "    <tr>\n",
       "      <th>5_Star</th>\n",
       "      <td>0.084345</td>\n",
       "      <td>0.972409</td>\n",
       "      <td>0.849788</td>\n",
       "      <td>1.000000</td>\n",
       "      <td>0.926776</td>\n",
       "      <td>0.831315</td>\n",
       "      <td>0.749668</td>\n",
       "      <td>0.791990</td>\n",
       "    </tr>\n",
       "    <tr>\n",
       "      <th>4_Star</th>\n",
       "      <td>0.054505</td>\n",
       "      <td>0.987283</td>\n",
       "      <td>0.919807</td>\n",
       "      <td>0.926776</td>\n",
       "      <td>1.000000</td>\n",
       "      <td>0.971352</td>\n",
       "      <td>0.915667</td>\n",
       "      <td>0.904003</td>\n",
       "    </tr>\n",
       "    <tr>\n",
       "      <th>3_Star</th>\n",
       "      <td>0.016133</td>\n",
       "      <td>0.937258</td>\n",
       "      <td>0.886503</td>\n",
       "      <td>0.831315</td>\n",
       "      <td>0.971352</td>\n",
       "      <td>1.000000</td>\n",
       "      <td>0.978130</td>\n",
       "      <td>0.945362</td>\n",
       "    </tr>\n",
       "    <tr>\n",
       "      <th>2_Star</th>\n",
       "      <td>-0.007360</td>\n",
       "      <td>0.876682</td>\n",
       "      <td>0.844585</td>\n",
       "      <td>0.749668</td>\n",
       "      <td>0.915667</td>\n",
       "      <td>0.978130</td>\n",
       "      <td>1.000000</td>\n",
       "      <td>0.975052</td>\n",
       "    </tr>\n",
       "    <tr>\n",
       "      <th>1_Star</th>\n",
       "      <td>0.004800</td>\n",
       "      <td>0.889754</td>\n",
       "      <td>0.824787</td>\n",
       "      <td>0.791990</td>\n",
       "      <td>0.904003</td>\n",
       "      <td>0.945362</td>\n",
       "      <td>0.975052</td>\n",
       "      <td>1.000000</td>\n",
       "    </tr>\n",
       "  </tbody>\n",
       "</table>\n",
       "</div>"
      ],
      "text/plain": [
       "              Average_star   Ratings   Reviews    5_Star    4_Star    3_Star  \\\n",
       "Average_star      1.000000  0.062234  0.056058  0.084345  0.054505  0.016133   \n",
       "Ratings           0.062234  1.000000  0.905620  0.972409  0.987283  0.937258   \n",
       "Reviews           0.056058  0.905620  1.000000  0.849788  0.919807  0.886503   \n",
       "5_Star            0.084345  0.972409  0.849788  1.000000  0.926776  0.831315   \n",
       "4_Star            0.054505  0.987283  0.919807  0.926776  1.000000  0.971352   \n",
       "3_Star            0.016133  0.937258  0.886503  0.831315  0.971352  1.000000   \n",
       "2_Star           -0.007360  0.876682  0.844585  0.749668  0.915667  0.978130   \n",
       "1_Star            0.004800  0.889754  0.824787  0.791990  0.904003  0.945362   \n",
       "\n",
       "                2_Star    1_Star  \n",
       "Average_star -0.007360  0.004800  \n",
       "Ratings       0.876682  0.889754  \n",
       "Reviews       0.844585  0.824787  \n",
       "5_Star        0.749668  0.791990  \n",
       "4_Star        0.915667  0.904003  \n",
       "3_Star        0.978130  0.945362  \n",
       "2_Star        1.000000  0.975052  \n",
       "1_Star        0.975052  1.000000  "
      ]
     },
     "execution_count": 31,
     "metadata": {},
     "output_type": "execute_result"
    }
   ],
   "source": [
    "#Correlation of Numerical data\n",
    "df.corr()"
   ]
  },
  {
   "cell_type": "code",
   "execution_count": 32,
   "id": "7d3fb163",
   "metadata": {
    "execution": {
     "iopub.execute_input": "2023-03-19T07:39:47.171576Z",
     "iopub.status.busy": "2023-03-19T07:39:47.171160Z",
     "iopub.status.idle": "2023-03-19T07:39:47.175886Z",
     "shell.execute_reply": "2023-03-19T07:39:47.174663Z"
    },
    "papermill": {
     "duration": 0.021352,
     "end_time": "2023-03-19T07:39:47.178401",
     "exception": false,
     "start_time": "2023-03-19T07:39:47.157049",
     "status": "completed"
    },
    "tags": []
   },
   "outputs": [],
   "source": [
    "#Observation : Rating and Reviews are directly correlated and considered."
   ]
  },
  {
   "cell_type": "code",
   "execution_count": 33,
   "id": "2ccaf248",
   "metadata": {
    "execution": {
     "iopub.execute_input": "2023-03-19T07:39:47.205553Z",
     "iopub.status.busy": "2023-03-19T07:39:47.205107Z",
     "iopub.status.idle": "2023-03-19T07:39:47.505523Z",
     "shell.execute_reply": "2023-03-19T07:39:47.504340Z"
    },
    "papermill": {
     "duration": 0.317251,
     "end_time": "2023-03-19T07:39:47.508132",
     "exception": false,
     "start_time": "2023-03-19T07:39:47.190881",
     "status": "completed"
    },
    "tags": []
   },
   "outputs": [
    {
     "data": {
      "text/plain": [
       "<AxesSubplot:xlabel='Average_star', ylabel='Reviews'>"
      ]
     },
     "execution_count": 33,
     "metadata": {},
     "output_type": "execute_result"
    },
    {
     "data": {
      "image/png": "[encoded data removed]",
      "text/plain": [
       "<Figure size 640x480 with 1 Axes>"
      ]
     },
     "metadata": {},
     "output_type": "display_data"
    }
   ],
   "source": [
    "sns.scatterplot(data = df, x= \"Average_star\", y= \"Reviews\")"
   ]
  },
  {
   "cell_type": "code",
   "execution_count": 34,
   "id": "0b40d1a3",
   "metadata": {
    "execution": {
     "iopub.execute_input": "2023-03-19T07:39:47.537339Z",
     "iopub.status.busy": "2023-03-19T07:39:47.536897Z",
     "iopub.status.idle": "2023-03-19T07:39:47.541953Z",
     "shell.execute_reply": "2023-03-19T07:39:47.540481Z"
    },
    "papermill": {
     "duration": 0.0226,
     "end_time": "2023-03-19T07:39:47.544477",
     "exception": false,
     "start_time": "2023-03-19T07:39:47.521877",
     "status": "completed"
    },
    "tags": []
   },
   "outputs": [],
   "source": [
    "#Observation : Star Ratings are generally between 3 to 5 star ."
   ]
  },
  {
   "cell_type": "code",
   "execution_count": 35,
   "id": "286b308d",
   "metadata": {
    "execution": {
     "iopub.execute_input": "2023-03-19T07:39:47.572889Z",
     "iopub.status.busy": "2023-03-19T07:39:47.572477Z",
     "iopub.status.idle": "2023-03-19T07:39:47.587337Z",
     "shell.execute_reply": "2023-03-19T07:39:47.586184Z"
    },
    "papermill": {
     "duration": 0.032143,
     "end_time": "2023-03-19T07:39:47.589908",
     "exception": false,
     "start_time": "2023-03-19T07:39:47.557765",
     "status": "completed"
    },
    "tags": []
   },
   "outputs": [
    {
     "data": {
      "text/html": [
       "<div>\n",
       "<style scoped>\n",
       "    .dataframe tbody tr th:only-of-type {\n",
       "        vertical-align: middle;\n",
       "    }\n",
       "\n",
       "    .dataframe tbody tr th {\n",
       "        vertical-align: top;\n",
       "    }\n",
       "\n",
       "    .dataframe thead th {\n",
       "        text-align: right;\n",
       "    }\n",
       "</style>\n",
       "<table border=\"1\" class=\"dataframe\">\n",
       "  <thead>\n",
       "    <tr style=\"text-align: right;\">\n",
       "      <th></th>\n",
       "      <th>Book_Name</th>\n",
       "      <th>Author</th>\n",
       "      <th>Average_star</th>\n",
       "      <th>Ratings</th>\n",
       "      <th>Reviews</th>\n",
       "      <th>5_Star</th>\n",
       "      <th>4_Star</th>\n",
       "      <th>3_Star</th>\n",
       "      <th>2_Star</th>\n",
       "      <th>1_Star</th>\n",
       "    </tr>\n",
       "  </thead>\n",
       "  <tbody>\n",
       "    <tr>\n",
       "      <th>0</th>\n",
       "      <td>To Kill a Mockingbird</td>\n",
       "      <td>Harper Lee</td>\n",
       "      <td>4.27</td>\n",
       "      <td>5623473</td>\n",
       "      <td>108722</td>\n",
       "      <td>2927118</td>\n",
       "      <td>1669471</td>\n",
       "      <td>730317</td>\n",
       "      <td>192620</td>\n",
       "      <td>103947</td>\n",
       "    </tr>\n",
       "    <tr>\n",
       "      <th>1</th>\n",
       "      <td>1984</td>\n",
       "      <td>George Orwell</td>\n",
       "      <td>4.19</td>\n",
       "      <td>4134439</td>\n",
       "      <td>98891</td>\n",
       "      <td>1956290</td>\n",
       "      <td>1345678</td>\n",
       "      <td>588373</td>\n",
       "      <td>158757</td>\n",
       "      <td>85341</td>\n",
       "    </tr>\n",
       "    <tr>\n",
       "      <th>2</th>\n",
       "      <td>Fahrenheit 451</td>\n",
       "      <td>Ray Bradbury</td>\n",
       "      <td>3.97</td>\n",
       "      <td>2181792</td>\n",
       "      <td>64728</td>\n",
       "      <td>788776</td>\n",
       "      <td>777014</td>\n",
       "      <td>438256</td>\n",
       "      <td>123939</td>\n",
       "      <td>53807</td>\n",
       "    </tr>\n",
       "    <tr>\n",
       "      <th>3</th>\n",
       "      <td>Animal Farm</td>\n",
       "      <td>George Orwell</td>\n",
       "      <td>3.98</td>\n",
       "      <td>3521050</td>\n",
       "      <td>81746</td>\n",
       "      <td>1310631</td>\n",
       "      <td>1229834</td>\n",
       "      <td>676221</td>\n",
       "      <td>200989</td>\n",
       "      <td>103375</td>\n",
       "    </tr>\n",
       "    <tr>\n",
       "      <th>4</th>\n",
       "      <td>The Hobbit</td>\n",
       "      <td>J.R.R. Tolkien</td>\n",
       "      <td>4.28</td>\n",
       "      <td>3612605</td>\n",
       "      <td>62476</td>\n",
       "      <td>1930001</td>\n",
       "      <td>1047617</td>\n",
       "      <td>439072</td>\n",
       "      <td>118631</td>\n",
       "      <td>77284</td>\n",
       "    </tr>\n",
       "  </tbody>\n",
       "</table>\n",
       "</div>"
      ],
      "text/plain": [
       "               Book_Name          Author  Average_star  Ratings  Reviews  \\\n",
       "0  To Kill a Mockingbird      Harper Lee          4.27  5623473   108722   \n",
       "1                   1984   George Orwell          4.19  4134439    98891   \n",
       "2         Fahrenheit 451    Ray Bradbury          3.97  2181792    64728   \n",
       "3            Animal Farm   George Orwell          3.98  3521050    81746   \n",
       "4             The Hobbit  J.R.R. Tolkien          4.28  3612605    62476   \n",
       "\n",
       "    5_Star   4_Star  3_Star  2_Star  1_Star  \n",
       "0  2927118  1669471  730317  192620  103947  \n",
       "1  1956290  1345678  588373  158757   85341  \n",
       "2   788776   777014  438256  123939   53807  \n",
       "3  1310631  1229834  676221  200989  103375  \n",
       "4  1930001  1047617  439072  118631   77284  "
      ]
     },
     "execution_count": 35,
     "metadata": {},
     "output_type": "execute_result"
    }
   ],
   "source": [
    "df.head()\n"
   ]
  },
  {
   "cell_type": "code",
   "execution_count": null,
   "id": "28670116",
   "metadata": {
    "papermill": {
     "duration": 0.013504,
     "end_time": "2023-03-19T07:39:47.617303",
     "exception": false,
     "start_time": "2023-03-19T07:39:47.603799",
     "status": "completed"
    },
    "tags": []
   },
   "outputs": [],
   "source": []
  }
 ],
 "metadata": {
  "kernelspec": {
   "display_name": "Python 3",
   "language": "python",
   "name": "python3"
  },
  "language_info": {
   "codemirror_mode": {
    "name": "ipython",
    "version": 3
   },
   "file_extension": ".py",
   "mimetype": "text/x-python",
   "name": "python",
   "nbconvert_exporter": "python",
   "pygments_lexer": "ipython3",
   "version": "3.7.12"
  },
  "papermill": {
   "default_parameters": {},
   "duration": 15.211828,
   "end_time": "2023-03-19T07:39:48.453695",
   "environment_variables": {},
   "exception": null,
   "input_path": "__notebook__.ipynb",
   "output_path": "__notebook__.ipynb",
   "parameters": {},
   "start_time": "2023-03-19T07:39:33.241867",
   "version": "2.4.0"
  }
 },
 "nbformat": 4,
 "nbformat_minor": 5
}
